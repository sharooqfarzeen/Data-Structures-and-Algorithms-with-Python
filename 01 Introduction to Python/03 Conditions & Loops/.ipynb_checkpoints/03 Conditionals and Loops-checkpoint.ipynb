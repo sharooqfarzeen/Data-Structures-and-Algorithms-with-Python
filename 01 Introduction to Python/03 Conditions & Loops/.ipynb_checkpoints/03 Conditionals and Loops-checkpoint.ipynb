{
 "cells": [
  {
   "cell_type": "markdown",
   "id": "f354969b",
   "metadata": {},
   "source": [
    "### Check number"
   ]
  },
  {
   "cell_type": "code",
   "execution_count": null,
   "id": "48dde15e",
   "metadata": {},
   "outputs": [],
   "source": [
    "n = int(input())\n",
    "\n",
    "if n > 0:\n",
    "    print(\"Positive\")\n",
    "elif n < 0:\n",
    "    print(\"Negative\")\n",
    "else:\n",
    "    print(\"Zero\")"
   ]
  },
  {
   "cell_type": "markdown",
   "id": "9272f599",
   "metadata": {},
   "source": [
    "### Sum of n numbers"
   ]
  },
  {
   "cell_type": "code",
   "execution_count": null,
   "id": "2f79ee09",
   "metadata": {},
   "outputs": [],
   "source": [
    "n = int(input())\n",
    "\n",
    "sum = 0\n",
    "\n",
    "while n > 0:\n",
    "    sum += n\n",
    "    n -= 1\n",
    "\n",
    "print(sum)"
   ]
  },
  {
   "cell_type": "markdown",
   "id": "1f8d8ae9",
   "metadata": {},
   "source": [
    "### Sum of Even Numbers"
   ]
  },
  {
   "cell_type": "code",
   "execution_count": 2,
   "id": "faf16b13",
   "metadata": {},
   "outputs": [
    {
     "name": "stdout",
     "output_type": "stream",
     "text": [
      "4\n",
      "6\n"
     ]
    }
   ],
   "source": [
    "n = int(input())\n",
    "\n",
    "sum = 0\n",
    "\n",
    "if n % 2 == 0:\n",
    "    start = n\n",
    "else:\n",
    "    start = n - 1\n",
    "\n",
    "while start > 0:\n",
    "    sum += start\n",
    "    start -= 2\n",
    "\n",
    "print(sum)"
   ]
  },
  {
   "cell_type": "markdown",
   "id": "cb315ff6",
   "metadata": {},
   "source": [
    "### Fahrenheit to Celsius"
   ]
  },
  {
   "cell_type": "code",
   "execution_count": 5,
   "id": "e8168a4e",
   "metadata": {
    "scrolled": true
   },
   "outputs": [
    {
     "name": "stdout",
     "output_type": "stream",
     "text": [
      "20\n",
      "119\n",
      "13\n",
      "20 -6\n",
      "33 0\n",
      "46 7\n",
      "59 15\n",
      "72 22\n",
      "85 29\n",
      "98 36\n",
      "111 43\n"
     ]
    }
   ],
   "source": [
    "s, e, w = int(input()), int(input()), int(input())\n",
    "\n",
    "for i in range(s, e + 1, w):\n",
    "    print(i, int((i - 32) * (5 / 9)))"
   ]
  },
  {
   "cell_type": "markdown",
   "id": "e8168e42",
   "metadata": {},
   "source": [
    "## Practice"
   ]
  },
  {
   "cell_type": "markdown",
   "id": "09c84ada",
   "metadata": {},
   "source": [
    "### Calculator"
   ]
  },
  {
   "cell_type": "code",
   "execution_count": 11,
   "id": "db2d93ea",
   "metadata": {},
   "outputs": [
    {
     "name": "stdout",
     "output_type": "stream",
     "text": [
      "3\n",
      "1\n",
      "2\n",
      "4\n",
      "4\n",
      "2\n",
      "1\n",
      "3\n",
      "2\n",
      "7\n",
      "6\n",
      "2\n",
      "2\n",
      "5\n",
      "Invalid Operation\n"
     ]
    }
   ],
   "source": [
    "#read operation\n",
    "n = int(input())\n",
    "l = []\n",
    "\n",
    "while(n != 6):\n",
    "    \n",
    "    #read operands\n",
    "    if n < 6:\n",
    "        a = int(input())\n",
    "        b = int(input())\n",
    "    \n",
    "    #sum\n",
    "    if n == 1:\n",
    "        l.append(a + b)\n",
    "    #difference\n",
    "    elif n == 2:\n",
    "        l.append(a - b)\n",
    "    #product\n",
    "    elif n == 3:\n",
    "        l.append(a * b)\n",
    "    #division\n",
    "    elif n == 4:\n",
    "        l.append(int(a / b))\n",
    "    #modulus\n",
    "    elif n == 5:\n",
    "        l.append(a % b)\n",
    "    #invalid input\n",
    "    elif n > 6:\n",
    "        l.append(\"Invalid Operation\")\n",
    "    #read next operation\n",
    "    n = int(input())\n",
    "\n",
    "for i in l:\n",
    "    print(i)"
   ]
  },
  {
   "cell_type": "markdown",
   "id": "014b2e25",
   "metadata": {},
   "source": [
    "### Reverse of a number"
   ]
  },
  {
   "cell_type": "code",
   "execution_count": 14,
   "id": "83690a69",
   "metadata": {},
   "outputs": [
    {
     "name": "stdout",
     "output_type": "stream",
     "text": [
      "00143\n",
      "341\n"
     ]
    }
   ],
   "source": [
    "#initializing variables\n",
    "#stores reverse\n",
    "rev = 0\n",
    "#stores place\n",
    "place = 1\n",
    "#stores digits\n",
    "digits = []\n",
    "#number of digits\n",
    "n = 0\n",
    "\n",
    "#read number\n",
    "num = int(input())\n",
    "\n",
    "while num >= 1:\n",
    "    #extract last digit from n\n",
    "    digit = num % 10\n",
    "    #adding digit to list\n",
    "    digits.append(digit)\n",
    "    #modifying values\n",
    "    num = num//10\n",
    "    n += 1\n",
    "    \n",
    "#constructing reversed number\n",
    "while n > 0:\n",
    "    rev = rev + (digits[n-1] * place)\n",
    "    place *= 10\n",
    "    n -= 1\n",
    "    \n",
    "#printing result\n",
    "print(rev)"
   ]
  },
  {
   "cell_type": "markdown",
   "id": "86ade7be",
   "metadata": {},
   "source": [
    "### Palindrome number"
   ]
  },
  {
   "cell_type": "code",
   "execution_count": 56,
   "id": "f7894dfa",
   "metadata": {},
   "outputs": [
    {
     "name": "stdout",
     "output_type": "stream",
     "text": [
      "122222222221\n",
      "122222\n",
      "12222\n",
      "true\n"
     ]
    },
    {
     "data": {
      "text/plain": [
       "7"
      ]
     },
     "execution_count": 56,
     "metadata": {},
     "output_type": "execute_result"
    }
   ],
   "source": [
    "n = int(input())  \n",
    "length = len(str(n))\n",
    "rev = 0\n",
    "i = 1\n",
    "temp = n\n",
    "\n",
    "#only digits in the second half is reversed\n",
    "while i <= (length//2):\n",
    "    digit = temp % 10\n",
    "    rev = (rev*10) + digit\n",
    "    temp = temp//10\n",
    "    i += 1\n",
    "\n",
    "#if number has even length denominator here will be (length//2), which means first half will be compared with seccond half, \n",
    "#if number has odd length denominator here will be (length//2)+1, which means the digit in the middle will be omitted\n",
    "if (n // (10**((length//2)+(length%2)))) == rev:\n",
    "    print(\"true\")\n",
    "else:\n",
    "    print(\"false\")"
   ]
  },
  {
   "cell_type": "markdown",
   "id": "3c73a57a",
   "metadata": {},
   "source": [
    "### Sum of even & odd"
   ]
  },
  {
   "cell_type": "code",
   "execution_count": 57,
   "id": "2569d0aa",
   "metadata": {},
   "outputs": [
    {
     "name": "stdout",
     "output_type": "stream",
     "text": [
      "552245\n",
      "8 15\n"
     ]
    }
   ],
   "source": [
    "n = int(input())\n",
    "\n",
    "even = 0\n",
    "odd = 0\n",
    "\n",
    "while n >= 1:\n",
    "    digit = n % 10\n",
    "    if digit % 2 == 0:\n",
    "        even += digit\n",
    "    else:\n",
    "        odd += digit\n",
    "    n = n//10\n",
    "print(even, odd)"
   ]
  },
  {
   "cell_type": "markdown",
   "id": "de7ca737",
   "metadata": {},
   "source": [
    "### Nth Fibonacci Number"
   ]
  },
  {
   "cell_type": "code",
   "execution_count": 59,
   "id": "8305a42b",
   "metadata": {},
   "outputs": [
    {
     "name": "stdout",
     "output_type": "stream",
     "text": [
      "6\n",
      "8\n"
     ]
    }
   ],
   "source": [
    "one = 1\n",
    "two = 1\n",
    "n = int(input())\n",
    "i = 2\n",
    "nth = 1\n",
    "\n",
    "while i < n:\n",
    "    nth = one + two\n",
    "    one = two\n",
    "    two = nth\n",
    "    i += 1\n",
    "print(nth)"
   ]
  }
 ],
 "metadata": {
  "kernelspec": {
   "display_name": "Python 3 (ipykernel)",
   "language": "python",
   "name": "python3"
  },
  "language_info": {
   "codemirror_mode": {
    "name": "ipython",
    "version": 3
   },
   "file_extension": ".py",
   "mimetype": "text/x-python",
   "name": "python",
   "nbconvert_exporter": "python",
   "pygments_lexer": "ipython3",
   "version": "3.11.4"
  }
 },
 "nbformat": 4,
 "nbformat_minor": 5
}
