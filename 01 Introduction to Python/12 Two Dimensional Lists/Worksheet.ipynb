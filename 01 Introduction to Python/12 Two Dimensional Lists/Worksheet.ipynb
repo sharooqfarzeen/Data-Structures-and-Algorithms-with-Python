{
 "cells": [
  {
   "cell_type": "code",
   "execution_count": 2,
   "id": "94e0cbec",
   "metadata": {},
   "outputs": [
    {
     "name": "stdout",
     "output_type": "stream",
     "text": [
      "row 0 -2147483648\n"
     ]
    }
   ],
   "source": [
    "r_c = \"row\"\n",
    "rc_no = 0\n",
    "max_sum = -2147483648\n",
    "print(r_c, rc_no, max_sum)"
   ]
  },
  {
   "cell_type": "code",
   "execution_count": 7,
   "id": "28554b24",
   "metadata": {},
   "outputs": [
    {
     "data": {
      "text/plain": [
       "0"
      ]
     },
     "execution_count": 7,
     "metadata": {},
     "output_type": "execute_result"
    }
   ],
   "source": [
    "a = '00'\n",
    "int(a)"
   ]
  },
  {
   "cell_type": "code",
   "execution_count": 9,
   "id": "739d64a8",
   "metadata": {},
   "outputs": [
    {
     "name": "stdout",
     "output_type": "stream",
     "text": [
      "Hi\n"
     ]
    }
   ],
   "source": [
    "j = 2\n",
    "if j in range(3):\n",
    "    print(\"Hi\")"
   ]
  },
  {
   "cell_type": "code",
   "execution_count": 11,
   "id": "9e398106",
   "metadata": {},
   "outputs": [
    {
     "data": {
      "text/plain": [
       "0"
      ]
     },
     "execution_count": 11,
     "metadata": {},
     "output_type": "execute_result"
    }
   ],
   "source": [
    "0//2"
   ]
  },
  {
   "cell_type": "code",
   "execution_count": 12,
   "id": "b53d1497",
   "metadata": {},
   "outputs": [
    {
     "data": {
      "text/plain": [
       "[1, 1, 1, 1]"
      ]
     },
     "execution_count": 12,
     "metadata": {},
     "output_type": "execute_result"
    }
   ],
   "source": [
    "ans = 1111\n",
    "num_list = [int(i) for i in str(ans)]\n",
    "num_list"
   ]
  },
  {
   "cell_type": "code",
   "execution_count": 1,
   "id": "756d1173",
   "metadata": {},
   "outputs": [
    {
     "name": "stdout",
     "output_type": "stream",
     "text": [
      "1 2 3 4 5 "
     ]
    },
    {
     "data": {
      "text/plain": [
       "[None, None, None, None, None]"
      ]
     },
     "execution_count": 1,
     "metadata": {},
     "output_type": "execute_result"
    }
   ],
   "source": [
    "C\n",
    "[print(i, end=' ') for i in a] "
   ]
  },
  {
   "cell_type": "code",
   "execution_count": 2,
   "id": "91db2fc3",
   "metadata": {},
   "outputs": [
    {
     "name": "stdout",
     "output_type": "stream",
     "text": [
      "1 2 3 4 5\n"
     ]
    }
   ],
   "source": [
    "print(*a)"
   ]
  },
  {
   "cell_type": "code",
   "execution_count": 3,
   "id": "c3929583",
   "metadata": {},
   "outputs": [
    {
     "name": "stdout",
     "output_type": "stream",
     "text": [
      "6 "
     ]
    },
    {
     "data": {
      "text/plain": [
       "[None]"
      ]
     },
     "execution_count": 3,
     "metadata": {},
     "output_type": "execute_result"
    }
   ],
   "source": [
    "a = [1, 2, 3, 4, 5, 6]\n",
    "[print(i, end=' ') for i in a if i%2 == 0 and i%3==0] "
   ]
  },
  {
   "cell_type": "markdown",
   "id": "e9e6d98b",
   "metadata": {},
   "source": [
    "## Taking input"
   ]
  },
  {
   "cell_type": "raw",
   "id": "2a238700",
   "metadata": {},
   "source": [
    "1 2\n",
    "3 4"
   ]
  },
  {
   "cell_type": "code",
   "execution_count": 1,
   "id": "6f605fcb",
   "metadata": {},
   "outputs": [
    {
     "name": "stdout",
     "output_type": "stream",
     "text": [
      "2\n",
      "1 2\n",
      "3 4\n"
     ]
    },
    {
     "data": {
      "text/plain": [
       "[[1, 2], [3, 4]]"
      ]
     },
     "execution_count": 1,
     "metadata": {},
     "output_type": "execute_result"
    }
   ],
   "source": [
    "rows = int(input())\n",
    "\n",
    "li = [[int(j) for j in input().split()] for i in range(rows)]\n",
    "li"
   ]
  },
  {
   "cell_type": "raw",
   "id": "9f88b94a",
   "metadata": {},
   "source": [
    "1 2 3 4"
   ]
  },
  {
   "cell_type": "code",
   "execution_count": 8,
   "id": "7d71d927",
   "metadata": {},
   "outputs": [
    {
     "name": "stdout",
     "output_type": "stream",
     "text": [
      "2\n",
      "2\n",
      "1 2 3 4\n"
     ]
    },
    {
     "ename": "NameError",
     "evalue": "name 'i' is not defined",
     "output_type": "error",
     "traceback": [
      "\u001b[1;31m---------------------------------------------------------------------------\u001b[0m",
      "\u001b[1;31mNameError\u001b[0m                                 Traceback (most recent call last)",
      "Cell \u001b[1;32mIn[8], line 10\u001b[0m\n\u001b[0;32m      2\u001b[0m cols \u001b[38;5;241m=\u001b[39m \u001b[38;5;28mint\u001b[39m(\u001b[38;5;28minput\u001b[39m())\n\u001b[0;32m      4\u001b[0m \u001b[38;5;66;03m# a = input()\u001b[39;00m\n\u001b[0;32m      5\u001b[0m \u001b[38;5;66;03m# print(a)\u001b[39;00m\n\u001b[0;32m      6\u001b[0m \n\u001b[0;32m      7\u001b[0m \u001b[38;5;66;03m# b = a.split()\u001b[39;00m\n\u001b[0;32m      8\u001b[0m \u001b[38;5;66;03m# print(b)\u001b[39;00m\n\u001b[1;32m---> 10\u001b[0m li \u001b[38;5;241m=\u001b[39m [[\u001b[38;5;28mint\u001b[39m(j) \u001b[38;5;28;01mfor\u001b[39;00m j \u001b[38;5;129;01min\u001b[39;00m i] \u001b[38;5;28;01mfor\u001b[39;00m i \u001b[38;5;129;01min\u001b[39;00m \u001b[38;5;28minput\u001b[39m()\u001b[38;5;241m.\u001b[39msplit()[i:i\u001b[38;5;241m+\u001b[39mcols]]\n\u001b[0;32m     11\u001b[0m li\n",
      "\u001b[1;31mNameError\u001b[0m: name 'i' is not defined"
     ]
    }
   ],
   "source": [
    "rows = int(input())\n",
    "cols = int(input())\n",
    "\n",
    "s = input().split()\n",
    "\n",
    "li = [[s[i*]] for i in range(rows)]"
   ]
  },
  {
   "cell_type": "code",
   "execution_count": 7,
   "id": "6a600d7b",
   "metadata": {},
   "outputs": [
    {
     "data": {
      "text/plain": [
       "[[1, 2], [3, 4]]"
      ]
     },
     "execution_count": 7,
     "metadata": {},
     "output_type": "execute_result"
    }
   ],
   "source": [
    "li"
   ]
  },
  {
   "cell_type": "code",
   "execution_count": 13,
   "id": "e0d3f90c",
   "metadata": {},
   "outputs": [
    {
     "data": {
      "text/plain": [
       "[['a', 'b', 'c'], ['d', 'e', 'f', 'g'], ['h', 'i', 'j', 'k']]"
      ]
     },
     "execution_count": 13,
     "metadata": {},
     "output_type": "execute_result"
    }
   ],
   "source": [
    "s = [\"abc\", \"defg\", \"hijk\"]\n",
    "\n",
    "# [[a,b,c],\n",
    "#  [d,e,f],\n",
    "#  [g,h,i]] \n",
    "\n",
    "_2D = [[ele for ele in row] for row in s]\n",
    "_2D"
   ]
  },
  {
   "cell_type": "code",
   "execution_count": 12,
   "id": "186bb624",
   "metadata": {},
   "outputs": [
    {
     "data": {
      "text/plain": [
       "'[1, 2, 3, 4]'"
      ]
     },
     "execution_count": 12,
     "metadata": {},
     "output_type": "execute_result"
    }
   ],
   "source": [
    "str([1,2,3,4])"
   ]
  }
 ],
 "metadata": {
  "kernelspec": {
   "display_name": "Python 3 (ipykernel)",
   "language": "python",
   "name": "python3"
  },
  "language_info": {
   "codemirror_mode": {
    "name": "ipython",
    "version": 3
   },
   "file_extension": ".py",
   "mimetype": "text/x-python",
   "name": "python",
   "nbconvert_exporter": "python",
   "pygments_lexer": "ipython3",
   "version": "3.11.4"
  }
 },
 "nbformat": 4,
 "nbformat_minor": 5
}
