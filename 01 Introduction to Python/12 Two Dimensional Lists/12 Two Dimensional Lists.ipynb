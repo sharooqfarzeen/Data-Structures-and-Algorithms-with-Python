{
 "cells": [
  {
   "cell_type": "markdown",
   "id": "4a1337a7",
   "metadata": {},
   "source": [
    "## Row Wise Sum"
   ]
  },
  {
   "cell_type": "code",
   "execution_count": null,
   "id": "832aaa81",
   "metadata": {},
   "outputs": [],
   "source": [
    "def rowWiseSum(mat, nRows, mCols):\n",
    "    for i in range(nRows):\n",
    "        sum = 0\n",
    "        for j in range(mCols):\n",
    "            sum += mat[i][j]\n",
    "        print(sum, end = ' ')"
   ]
  },
  {
   "cell_type": "markdown",
   "id": "ba1dbdfc",
   "metadata": {},
   "source": [
    "## Largest Row or Column"
   ]
  },
  {
   "cell_type": "code",
   "execution_count": null,
   "id": "ed8c7606",
   "metadata": {},
   "outputs": [],
   "source": [
    "def findLargest(arr, nRows, mCols):\n",
    "    r_c = \"row\"\n",
    "    rc_no = 0\n",
    "    max_sum = -2147483648\n",
    "    \n",
    "    for i in range(nRows):\n",
    "        sum = 0\n",
    "        for j in range(mCols):\n",
    "            sum += arr[i][j]\n",
    "        if sum > max_sum:\n",
    "            rc_no = i\n",
    "            max_sum = sum\n",
    "    \n",
    "    for j in range(mCols):\n",
    "        sum = 0\n",
    "        for i in range(nRows):\n",
    "            sum += arr[i][j]\n",
    "        if sum > max_sum:\n",
    "            r_c = \"column\"\n",
    "            rc_no = j\n",
    "            max_sum = sum\n",
    "    \n",
    "    print(r_c, rc_no, max_sum)"
   ]
  },
  {
   "cell_type": "markdown",
   "id": "91d8ed8e",
   "metadata": {},
   "source": [
    "## Wave Print"
   ]
  },
  {
   "cell_type": "raw",
   "id": "d06ba5d8",
   "metadata": {},
   "source": [
    "00 01 02\n",
    "10 11 12\n",
    "20 21 22\n",
    "\n",
    "4x2\n",
    "00 01\n",
    "10 11\n",
    "20 21\n",
    "30 31\n",
    "\n",
    "2x4\n",
    "00 01 02 03\n",
    "10 11 12 13"
   ]
  },
  {
   "cell_type": "code",
   "execution_count": 1,
   "id": "acc64716",
   "metadata": {},
   "outputs": [
    {
     "name": "stdout",
     "output_type": "stream",
     "text": [
      "1 5 6 2 3 7 8 4 "
     ]
    }
   ],
   "source": [
    "def wavePrint(mat, nRows, mCols):\n",
    "    j = 0\n",
    "    while j < mCols:\n",
    "        if j%2 == 0:\n",
    "            i = 0\n",
    "            while i < nRows:\n",
    "                print(mat[i][j], end = ' ')\n",
    "                i += 1\n",
    "        else:\n",
    "            i = nRows-1\n",
    "            while i >= 0:\n",
    "                print(mat[i][j], end = ' ')\n",
    "                i -= 1\n",
    "        j += 1\n",
    "    \n",
    "wavePrint([[1,2,3,4],\n",
    "           [5,6,7,8]], 2, 4)"
   ]
  },
  {
   "cell_type": "markdown",
   "id": "362883c4",
   "metadata": {},
   "source": [
    "#### Doesn't work"
   ]
  },
  {
   "cell_type": "code",
   "execution_count": null,
   "id": "d9480d09",
   "metadata": {},
   "outputs": [],
   "source": [
    "def wavePrint(mat, nRows, mCols):\n",
    "    element = '00'\n",
    "    col = 1\n",
    "    for n in range(1, (nRows*mCols)+1):\n",
    "        i = int(element[0])\n",
    "        j = int(element[1])\n",
    "        print(mat[i][j], end = ' ')\n",
    "        if n % nRows == 0:\n",
    "            element = str(int(element)+1)\n",
    "            col += 1\n",
    "        elif col%2 != 0:\n",
    "                element = str(int(element)+10)\n",
    "        else:\n",
    "            element = str(int(element)-10)\n",
    "            \n",
    "wavePrint([[1,2,3,4],\n",
    "           [5,6,7,8]], 2, 4)"
   ]
  },
  {
   "cell_type": "markdown",
   "id": "af9c4921",
   "metadata": {},
   "source": [
    "## Spiral Print"
   ]
  },
  {
   "cell_type": "raw",
   "id": "e5c49b06",
   "metadata": {},
   "source": [
    "00 01 02   \n",
    "10 11 12\n",
    "20 21 22\n",
    "Print: 00 01 02 12 22 21 20 10 11\n",
    "\n",
    "00 01 02 03 04  \n",
    "10 11 12 13 14\n",
    "20 21 22 23 24\n",
    "Print: 00 01 02 03 04 13 24 23 22 21 20 10 11 12 13\n",
    "\n",
    "i = 0\n",
    "j = 0\n",
    "row_print = mCols\n",
    "col_print = nRows-1\n",
    "count = 0\n",
    "print mat[i][j]\n",
    "for i in range(len(mat)):\n",
    "    if count is even:\n",
    "        if row_print == 0:\n",
    "            break\n",
    "        temp = 0\n",
    "        while temp<row_print\n",
    "            print mat[i][j]\n",
    "            if (count//2)%2 is also even:\n",
    "                increment j\n",
    "            else:\n",
    "                decrement j\n",
    "            temp += 1\n",
    "         row_print -= 1\n",
    "         \n",
    "    if count is odd:\n",
    "        if col_print == 0:\n",
    "            break\n",
    "        temp = 0\n",
    "        while temp < col_print\n",
    "            print mat[i][j]\n",
    "            if (count//2)%2 is even:\n",
    "                decrement i\n",
    "             else:\n",
    "                 increment i\n",
    "              temp += 1\n",
    "         col_print -= 1\n",
    "     \n",
    "        \n",
    "print 1st row\n",
    "increment count\n"
   ]
  },
  {
   "cell_type": "code",
   "execution_count": 23,
   "id": "b49bb5a1",
   "metadata": {},
   "outputs": [
    {
     "name": "stdout",
     "output_type": "stream",
     "text": [
      "1 2 3 4 5 6 7 8 9 10 11 12 "
     ]
    }
   ],
   "source": [
    "\"\"\"00 01 02 03 04  \n",
    "   10 11 12 13 14\n",
    "   20 21 22 23 24\"\"\"\n",
    "\n",
    "def spiralPrint(mat, nRows, mCols):\n",
    "    i,j = 0,0\n",
    "    row_print, col_print = mCols, nRows-1\n",
    "    count = 0\n",
    "    \n",
    "    for k in range(nRows*mCols):\n",
    "        if count % 2 == 0:\n",
    "            if row_print == 0:\n",
    "                break\n",
    "            temp = 0\n",
    "            while temp < row_print:\n",
    "                print(mat[i][j], end = ' ')\n",
    "                if temp != row_print-1:\n",
    "                    if (count//2)%2 == 0:\n",
    "                        j += 1\n",
    "                    else:\n",
    "                        j -= 1\n",
    "                temp += 1\n",
    "            row_print -= 1\n",
    "            if (count//2)%2 == 0:\n",
    "                        i += 1\n",
    "            else:\n",
    "                        i -= 1\n",
    "            \n",
    "        else:\n",
    "            if col_print == 0:\n",
    "                break\n",
    "            temp = 0\n",
    "            while temp < col_print:\n",
    "                print(mat[i][j], end = ' ')\n",
    "                if temp != col_print-1:\n",
    "                    if (count//2)%2 == 0:\n",
    "                        i += 1\n",
    "                    else:\n",
    "                        i -= 1\n",
    "                temp += 1\n",
    "            col_print -= 1\n",
    "            if (count//2)%2 == 0:\n",
    "                        j -= 1\n",
    "            else:\n",
    "                        j += 1\n",
    "        count += 1\n",
    " \n",
    "spiralPrint([[1,2,3,4],\n",
    "           [10,11,12,5],\n",
    "            [9,8,7,6]], 3, 4)"
   ]
  },
  {
   "cell_type": "raw",
   "id": "c96fcad8",
   "metadata": {},
   "source": [
    "0,0 0,1 0,2 0,3 1,3 2,3 2,2(1,2)"
   ]
  }
 ],
 "metadata": {
  "kernelspec": {
   "display_name": "Python 3 (ipykernel)",
   "language": "python",
   "name": "python3"
  },
  "language_info": {
   "codemirror_mode": {
    "name": "ipython",
    "version": 3
   },
   "file_extension": ".py",
   "mimetype": "text/x-python",
   "name": "python",
   "nbconvert_exporter": "python",
   "pygments_lexer": "ipython3",
   "version": "3.11.4"
  }
 },
 "nbformat": 4,
 "nbformat_minor": 5
}
