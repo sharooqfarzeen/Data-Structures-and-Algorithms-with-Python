{
 "cells": [
  {
   "cell_type": "markdown",
   "id": "81df927a",
   "metadata": {},
   "source": [
    "# Patterns"
   ]
  },
  {
   "cell_type": "markdown",
   "id": "c7a3e3c9",
   "metadata": {},
   "source": [
    "## 1"
   ]
  },
  {
   "cell_type": "markdown",
   "id": "0fae2894",
   "metadata": {},
   "source": [
    "for n = 4\n",
    "  ### * * * *  \n",
    "  ### * * * *\n",
    "  ### * * * *\n",
    "  ### * * * *"
   ]
  },
  {
   "cell_type": "markdown",
   "id": "33b2eba0",
   "metadata": {},
   "source": [
    "Number of rows = n  \n",
    "  Number of Columns in ith row = n  \n",
    "  What to print = *"
   ]
  },
  {
   "cell_type": "code",
   "execution_count": 9,
   "id": "e0d52d02",
   "metadata": {},
   "outputs": [
    {
     "name": "stdout",
     "output_type": "stream",
     "text": [
      "4\n",
      "* * * * \n",
      "* * * * \n",
      "* * * * \n",
      "* * * * \n"
     ]
    }
   ],
   "source": [
    "n = int(input())\n",
    "\n",
    "for i in range(n):\n",
    "    for j in range(n):\n",
    "        print(\"*\", end = ' ')\n",
    "    print()"
   ]
  },
  {
   "cell_type": "code",
   "execution_count": 8,
   "id": "5c083c14",
   "metadata": {},
   "outputs": [
    {
     "name": "stdout",
     "output_type": "stream",
     "text": [
      "[['*' '*' '*']\n",
      " ['*' '*' '*']\n",
      " ['*' '*' '*']]\n"
     ]
    }
   ],
   "source": [
    "import numpy as np\n",
    "\n",
    "arr = np.empty((3,3), dtype = str)\n",
    "arr.fill('*')\n",
    "print(arr)"
   ]
  },
  {
   "cell_type": "markdown",
   "id": "d979203b",
   "metadata": {},
   "source": [
    "## 2"
   ]
  },
  {
   "cell_type": "markdown",
   "id": "fa4485cc",
   "metadata": {},
   "source": [
    "1 1 1 1\n",
    "2 2 2 2\n",
    "3 3 3 3\n",
    "4 4 4 4"
   ]
  },
  {
   "cell_type": "markdown",
   "id": "4db4c0fa",
   "metadata": {},
   "source": [
    "No of rows = n\n",
    "No of columns in ith row = n\n",
    "What to print? = i + 1"
   ]
  },
  {
   "cell_type": "code",
   "execution_count": 10,
   "id": "2e94da6e",
   "metadata": {},
   "outputs": [
    {
     "name": "stdout",
     "output_type": "stream",
     "text": [
      "4\n",
      "1 1 1 1 \n",
      "2 2 2 2 \n",
      "3 3 3 3 \n",
      "4 4 4 4 \n"
     ]
    }
   ],
   "source": [
    "n = int(input())\n",
    "\n",
    "for i in range(n):\n",
    "    for j in range(n):\n",
    "        print(i+1, end = ' ')\n",
    "    print()"
   ]
  },
  {
   "cell_type": "markdown",
   "id": "4417ea95",
   "metadata": {},
   "source": [
    "## 3"
   ]
  },
  {
   "cell_type": "markdown",
   "id": "7d1d7a0b",
   "metadata": {},
   "source": [
    "1 2 3 4\n",
    "1 2 3 4\n",
    "1 2 3 4"
   ]
  },
  {
   "cell_type": "markdown",
   "id": "307f1d66",
   "metadata": {},
   "source": [
    "No: of rows: n\n",
    "No: of columns in ith row: n\n",
    "What to print: j+1"
   ]
  },
  {
   "cell_type": "code",
   "execution_count": 12,
   "id": "fdb756fb",
   "metadata": {},
   "outputs": [
    {
     "name": "stdout",
     "output_type": "stream",
     "text": [
      "4\n",
      "1 2 3 4 \n",
      "1 2 3 4 \n",
      "1 2 3 4 \n",
      "1 2 3 4 \n"
     ]
    }
   ],
   "source": [
    "n = int(input())\n",
    "\n",
    "for i in range(n):\n",
    "    for j in range(n):\n",
    "        print(j+1, end = ' ')\n",
    "    print()"
   ]
  },
  {
   "cell_type": "markdown",
   "id": "966503ed",
   "metadata": {},
   "source": [
    "## 4"
   ]
  },
  {
   "cell_type": "markdown",
   "id": "f9065feb",
   "metadata": {},
   "source": [
    "4 3 2 1\n",
    "4 3 2 1\n",
    "4 3 2 1\n",
    "4 3 2 1"
   ]
  },
  {
   "cell_type": "markdown",
   "id": "1d3138cb",
   "metadata": {},
   "source": [
    "No: of rows: n\n",
    "No: of columns in ith row: n\n",
    "What to print?: j = 0, print (j+n) and do j--\n",
    "                or\n",
    "                j = n, print(j) and do j--\n",
    "                or\n",
    "                print(n-j+1)"
   ]
  },
  {
   "cell_type": "code",
   "execution_count": 15,
   "id": "044c847b",
   "metadata": {},
   "outputs": [
    {
     "name": "stdout",
     "output_type": "stream",
     "text": [
      "4\n",
      "4 3 2 1 \n",
      "4 3 2 1 \n",
      "4 3 2 1 \n",
      "4 3 2 1 \n"
     ]
    }
   ],
   "source": [
    "n = int(input())\n",
    "\n",
    "for i in range(n):\n",
    "    for j in range(n, 0, -1):\n",
    "        print(j, end = ' ')\n",
    "    print()"
   ]
  },
  {
   "cell_type": "markdown",
   "id": "9d61cce8",
   "metadata": {},
   "source": [
    "## 5"
   ]
  },
  {
   "cell_type": "markdown",
   "id": "592fbfef",
   "metadata": {},
   "source": [
    "1\n",
    "1 2\n",
    "1 2 3\n",
    "1 2 3 4"
   ]
  },
  {
   "cell_type": "markdown",
   "id": "df6646c2",
   "metadata": {},
   "source": [
    "number of rows = n\n",
    "number of columns in ith row = i + 1\n",
    "what to print? = j + 1"
   ]
  },
  {
   "cell_type": "code",
   "execution_count": 19,
   "id": "76c2184d",
   "metadata": {},
   "outputs": [
    {
     "name": "stdout",
     "output_type": "stream",
     "text": [
      "4\n",
      "1 \n",
      "1 2 \n",
      "1 2 3 \n",
      "1 2 3 4 \n"
     ]
    }
   ],
   "source": [
    "n = int(input())\n",
    "\n",
    "for i in range(n):\n",
    "    for j in range(i+1):\n",
    "        print(j+1, end = ' ')\n",
    "    print()"
   ]
  },
  {
   "cell_type": "markdown",
   "id": "92ac9927",
   "metadata": {},
   "source": [
    "## 6"
   ]
  },
  {
   "cell_type": "markdown",
   "id": "60a36a81",
   "metadata": {},
   "source": [
    "1\n",
    "2 3\n",
    "3 4 5\n",
    "4 5 6 7"
   ]
  },
  {
   "cell_type": "markdown",
   "id": "83068142",
   "metadata": {},
   "source": [
    "no of rows = n\n",
    "no of columns in ith row = i+1\n",
    "what to print? i + j + 1"
   ]
  },
  {
   "cell_type": "code",
   "execution_count": 21,
   "id": "46daee9d",
   "metadata": {},
   "outputs": [
    {
     "name": "stdout",
     "output_type": "stream",
     "text": [
      "4\n",
      "1 \n",
      "2 3 \n",
      "3 4 5 \n",
      "4 5 6 7 \n"
     ]
    }
   ],
   "source": [
    "n = int(input())\n",
    "\n",
    "for i in range(n):\n",
    "    for j in range(i + 1):\n",
    "        print(i + j + 1, end = ' ')\n",
    "    print()"
   ]
  },
  {
   "cell_type": "markdown",
   "id": "b909c6a8",
   "metadata": {},
   "source": [
    "## 7"
   ]
  },
  {
   "cell_type": "markdown",
   "id": "0f350155",
   "metadata": {},
   "source": [
    "1\n",
    "2 3\n",
    "4 5 6\n",
    "7 8 9 10"
   ]
  },
  {
   "cell_type": "markdown",
   "id": "d3d24fa2",
   "metadata": {},
   "source": [
    "number of rows = n\n",
    "number of columns in ith row = i + 1\n",
    "what to print? count"
   ]
  },
  {
   "cell_type": "code",
   "execution_count": 29,
   "id": "47adf651",
   "metadata": {},
   "outputs": [
    {
     "name": "stdout",
     "output_type": "stream",
     "text": [
      "4\n",
      "1 \n",
      "2 3 \n",
      "4 5 6 \n",
      "7 8 9 10 \n"
     ]
    }
   ],
   "source": [
    "n = int(input())\n",
    "count = 1\n",
    "for i in range(n):\n",
    "    for j in range(i+1):\n",
    "        print(count, end = ' ')\n",
    "        count += 1\n",
    "    print()"
   ]
  }
 ],
 "metadata": {
  "kernelspec": {
   "display_name": "Python 3 (ipykernel)",
   "language": "python",
   "name": "python3"
  },
  "language_info": {
   "codemirror_mode": {
    "name": "ipython",
    "version": 3
   },
   "file_extension": ".py",
   "mimetype": "text/x-python",
   "name": "python",
   "nbconvert_exporter": "python",
   "pygments_lexer": "ipython3",
   "version": "3.11.4"
  }
 },
 "nbformat": 4,
 "nbformat_minor": 5
}
