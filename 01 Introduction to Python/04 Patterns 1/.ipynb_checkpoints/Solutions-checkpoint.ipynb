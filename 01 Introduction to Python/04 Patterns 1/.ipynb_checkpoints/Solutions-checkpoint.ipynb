{
 "cells": [
  {
   "cell_type": "markdown",
   "id": "a3e97bb3",
   "metadata": {},
   "source": [
    "## Code : Square Pattern"
   ]
  },
  {
   "cell_type": "markdown",
   "id": "4c009923",
   "metadata": {},
   "source": [
    "No: of rows: n\n",
    "  No: columns in ith row: n\n",
    "  What to print: n"
   ]
  },
  {
   "cell_type": "code",
   "execution_count": 3,
   "id": "4a8344d1",
   "metadata": {},
   "outputs": [
    {
     "name": "stdout",
     "output_type": "stream",
     "text": [
      "7\n",
      "7777777\n",
      "7777777\n",
      "7777777\n",
      "7777777\n",
      "7777777\n",
      "7777777\n",
      "7777777\n"
     ]
    }
   ],
   "source": [
    "n =  int(input())\n",
    "i = 0\n",
    "j = 0\n",
    "\n",
    "while i < n:\n",
    "    while j < n:\n",
    "        print(n, end = '')\n",
    "        j += 1\n",
    "    j = 0\n",
    "    i += 1\n",
    "    print()"
   ]
  },
  {
   "cell_type": "markdown",
   "id": "5e40d237",
   "metadata": {},
   "source": [
    "### Code : Triangular Star Pattern"
   ]
  },
  {
   "cell_type": "markdown",
   "id": "c0fc1077",
   "metadata": {},
   "source": [
    "*\n",
    "**\n",
    "***\n",
    "****"
   ]
  },
  {
   "cell_type": "markdown",
   "id": "a5858198",
   "metadata": {},
   "source": [
    "no of rows = n\n",
    "no of columns in ith row = i + 1\n",
    "what to print? *"
   ]
  },
  {
   "cell_type": "code",
   "execution_count": 4,
   "id": "416939c6",
   "metadata": {},
   "outputs": [
    {
     "name": "stdout",
     "output_type": "stream",
     "text": [
      "4\n",
      "*\n",
      "**\n",
      "***\n",
      "****\n"
     ]
    }
   ],
   "source": [
    "n = int(input())\n",
    "\n",
    "for i in range(n):\n",
    "    for j in range(i+1):\n",
    "        print(\"*\", end = '')\n",
    "    print()"
   ]
  },
  {
   "cell_type": "markdown",
   "id": "c9d89259",
   "metadata": {},
   "source": [
    "### Code : Triangle Number Pattern"
   ]
  },
  {
   "cell_type": "markdown",
   "id": "86bf765d",
   "metadata": {},
   "source": [
    "1\n",
    "22\n",
    "333\n",
    "4444"
   ]
  },
  {
   "cell_type": "markdown",
   "id": "454555a9",
   "metadata": {},
   "source": [
    "no of rows = n\n",
    "no of columns in ith row = i+1\n",
    "what to print? i+1"
   ]
  },
  {
   "cell_type": "code",
   "execution_count": 6,
   "id": "f137fbb7",
   "metadata": {},
   "outputs": [
    {
     "name": "stdout",
     "output_type": "stream",
     "text": [
      "4\n",
      "1\n",
      "22\n",
      "333\n",
      "4444\n"
     ]
    }
   ],
   "source": [
    "n = int(input())\n",
    "\n",
    "for i in range(n):\n",
    "    for j in range(i+1):\n",
    "        print(i+1, end = '')\n",
    "    print()"
   ]
  },
  {
   "cell_type": "markdown",
   "id": "d1b0ce80",
   "metadata": {},
   "source": [
    "### Code : Reverse Number Pattern"
   ]
  },
  {
   "cell_type": "markdown",
   "id": "05505a43",
   "metadata": {},
   "source": [
    "1\n",
    "21\n",
    "321\n",
    "4321"
   ]
  },
  {
   "cell_type": "markdown",
   "id": "1aadbe55",
   "metadata": {},
   "source": [
    "number of rows = n\n",
    "number of columns in ith row = i + 1\n",
    "what to print? i-j+1"
   ]
  },
  {
   "cell_type": "code",
   "execution_count": 7,
   "id": "b72864da",
   "metadata": {},
   "outputs": [
    {
     "name": "stdout",
     "output_type": "stream",
     "text": [
      "4\n",
      "1\n",
      "21\n",
      "321\n",
      "4321\n"
     ]
    }
   ],
   "source": [
    "n = int(input())\n",
    "\n",
    "for i in range(n):\n",
    "    t = i\n",
    "    for j in range(i+1):\n",
    "        print(t+1, end = '')\n",
    "        t -= 1\n",
    "    print()"
   ]
  },
  {
   "cell_type": "code",
   "execution_count": 8,
   "id": "ae216d7e",
   "metadata": {},
   "outputs": [
    {
     "name": "stdout",
     "output_type": "stream",
     "text": [
      "4\n",
      "1\n",
      "21\n",
      "321\n",
      "4321\n"
     ]
    }
   ],
   "source": [
    "n = int(input())\n",
    "\n",
    "for i in range(n):\n",
    "    for j in range(i+1):\n",
    "        print(i-j+1, end = '')\n",
    "    print()"
   ]
  },
  {
   "cell_type": "markdown",
   "id": "1f1e10de",
   "metadata": {},
   "source": [
    "### Code : Character Pattern"
   ]
  },
  {
   "cell_type": "markdown",
   "id": "5c81dd8f",
   "metadata": {},
   "source": [
    "A\n",
    "BC\n",
    "CDE\n",
    "DEFG"
   ]
  },
  {
   "cell_type": "markdown",
   "id": "4b84889f",
   "metadata": {},
   "source": [
    "number of rows = n\n",
    "number of columns in ith row = i+1\n",
    "what to print: first_char + i"
   ]
  },
  {
   "cell_type": "code",
   "execution_count": 4,
   "id": "1a1e2f4d",
   "metadata": {},
   "outputs": [
    {
     "name": "stdout",
     "output_type": "stream",
     "text": [
      "4\n",
      "A\n",
      "BC\n",
      "CDE\n",
      "DEFG\n"
     ]
    }
   ],
   "source": [
    "n = int(input())\n",
    "\n",
    "first_char = ord('A')\n",
    "\n",
    "for i in range(n):\n",
    "    t = i\n",
    "    for j in range(i+1):\n",
    "        print(chr(first_char+t), end = '')\n",
    "        t += 1\n",
    "    print()"
   ]
  },
  {
   "cell_type": "markdown",
   "id": "4e8f1aa3",
   "metadata": {},
   "source": [
    "### Code : Interesting Alphabets"
   ]
  },
  {
   "cell_type": "markdown",
   "id": "981af0d0",
   "metadata": {},
   "source": [
    "Pattern for N = 5\n",
    "E\n",
    "DE\n",
    "CDE\n",
    "BCDE\n",
    "ABCDE"
   ]
  },
  {
   "cell_type": "markdown",
   "id": "4950011b",
   "metadata": {},
   "source": [
    "number of rows = n\n",
    "number of columns in ith row = i+1\n",
    "what to print? first_char-i"
   ]
  },
  {
   "cell_type": "code",
   "execution_count": 8,
   "id": "33f5cd71",
   "metadata": {},
   "outputs": [
    {
     "name": "stdout",
     "output_type": "stream",
     "text": [
      "5\n",
      "E\n",
      "DE\n",
      "CDE\n",
      "BCDE\n",
      "ABCDE\n"
     ]
    }
   ],
   "source": [
    "n = int(input())\n",
    "\n",
    "#ASCII of A\n",
    "A = ord('A')\n",
    "#ASCII of first character in pattern\n",
    "first_char = A + n - 1\n",
    "\n",
    "for i in range(n):\n",
    "    t = i\n",
    "    for j in range(i+1):\n",
    "        print(chr(first_char-t), end = '')\n",
    "        t -= 1\n",
    "    print()"
   ]
  },
  {
   "cell_type": "markdown",
   "id": "de0267dd",
   "metadata": {},
   "source": [
    "## Assignment"
   ]
  },
  {
   "cell_type": "markdown",
   "id": "c6a6e7d1",
   "metadata": {},
   "source": [
    "### Number Pattern 1"
   ]
  },
  {
   "cell_type": "markdown",
   "id": "75e16127",
   "metadata": {},
   "source": [
    "1\n",
    "11\n",
    "111\n",
    "1111"
   ]
  },
  {
   "cell_type": "markdown",
   "id": "5529e4ff",
   "metadata": {},
   "source": [
    "n\n",
    "i+1\n",
    "1"
   ]
  },
  {
   "cell_type": "code",
   "execution_count": 9,
   "id": "7215066a",
   "metadata": {},
   "outputs": [
    {
     "name": "stdout",
     "output_type": "stream",
     "text": [
      "4\n",
      "1\n",
      "11\n",
      "111\n",
      "1111\n"
     ]
    }
   ],
   "source": [
    "n = int(input())\n",
    "\n",
    "for i in range(n):\n",
    "    for j in range(i+1):\n",
    "        print(1, end = '')\n",
    "    print()"
   ]
  },
  {
   "cell_type": "markdown",
   "id": "ad57436e",
   "metadata": {},
   "source": [
    "### Number Pattern 2"
   ]
  },
  {
   "cell_type": "markdown",
   "id": "5ea3f00e",
   "metadata": {},
   "source": [
    "1\n",
    "11\n",
    "202\n",
    "3003"
   ]
  },
  {
   "cell_type": "markdown",
   "id": "d18732b8",
   "metadata": {},
   "source": [
    "n\n",
    "i+1\n",
    "print(1) on first row, from second row onwards print(i) space print(i-1 no:of zeroes)"
   ]
  },
  {
   "cell_type": "code",
   "execution_count": 15,
   "id": "05bea623",
   "metadata": {
    "scrolled": true
   },
   "outputs": [
    {
     "name": "stdout",
     "output_type": "stream",
     "text": [
      "5\n",
      "1\n",
      "11\n",
      "202\n",
      "3003\n",
      "40004\n"
     ]
    }
   ],
   "source": [
    "#taking input\n",
    "n = int(input())\n",
    "\n",
    "print(1)\n",
    "\n",
    "for i in range(1, n):\n",
    "    print(i, end = '')\n",
    "    j = i\n",
    "    for j in range(i-1):\n",
    "        print(0, end = '')\n",
    "    print(i)"
   ]
  },
  {
   "cell_type": "markdown",
   "id": "ed1c5a06",
   "metadata": {},
   "source": [
    "### Number Pattern 3"
   ]
  },
  {
   "cell_type": "markdown",
   "id": "5dca1a2d",
   "metadata": {},
   "source": [
    "1\n",
    "11\n",
    "121\n",
    "1221"
   ]
  },
  {
   "cell_type": "markdown",
   "id": "ca29d75f",
   "metadata": {},
   "source": [
    "n\n",
    "i+1\n",
    "what to print? for i=0 1\n",
    "               for other rows: print a 1, followed by i-1 2s"
   ]
  },
  {
   "cell_type": "code",
   "execution_count": 17,
   "id": "ac555cab",
   "metadata": {},
   "outputs": [
    {
     "name": "stdout",
     "output_type": "stream",
     "text": [
      "4\n",
      "1\n",
      "11\n",
      "121\n",
      "1221\n"
     ]
    }
   ],
   "source": [
    "n = int(input())\n",
    "\n",
    "print(1)\n",
    "\n",
    "for i in range(1, n):\n",
    "    print(1, end = '')\n",
    "    for j in range(i-1):\n",
    "        print(2, end = '')\n",
    "    print(1)    "
   ]
  },
  {
   "cell_type": "markdown",
   "id": "9018b7d6",
   "metadata": {},
   "source": [
    "### Number Pattern"
   ]
  },
  {
   "cell_type": "markdown",
   "id": "34df05c4",
   "metadata": {},
   "source": [
    "1234\n",
    "123\n",
    "12\n",
    "1"
   ]
  },
  {
   "cell_type": "markdown",
   "id": "ce4289f9",
   "metadata": {},
   "source": [
    "n\n",
    "n-i\n",
    "j+1"
   ]
  },
  {
   "cell_type": "code",
   "execution_count": 18,
   "id": "7d17f9f9",
   "metadata": {},
   "outputs": [
    {
     "name": "stdout",
     "output_type": "stream",
     "text": [
      "4\n",
      "1234\n",
      "123\n",
      "12\n",
      "1\n"
     ]
    }
   ],
   "source": [
    "n = int(input())\n",
    "\n",
    "for i in range(n):\n",
    "    for j in range(n-i):\n",
    "        print(j+1, end = '')\n",
    "    print()"
   ]
  },
  {
   "cell_type": "markdown",
   "id": "155d68e2",
   "metadata": {},
   "source": [
    "### Alpha Pattern"
   ]
  },
  {
   "cell_type": "markdown",
   "id": "57af677d",
   "metadata": {},
   "source": [
    "A\n",
    "BB\n",
    "CCC\n",
    "DDDD"
   ]
  },
  {
   "cell_type": "markdown",
   "id": "f81dc309",
   "metadata": {},
   "source": [
    "n rows\n",
    "i+1 columns\n",
    "first_char+i"
   ]
  },
  {
   "cell_type": "code",
   "execution_count": 19,
   "id": "9d966a35",
   "metadata": {},
   "outputs": [
    {
     "name": "stdout",
     "output_type": "stream",
     "text": [
      "4\n",
      "A\n",
      "BB\n",
      "CCC\n",
      "DDDD\n"
     ]
    }
   ],
   "source": [
    "n = int(input())\n",
    "\n",
    "first_char = ord('A')\n",
    "\n",
    "for i in range(n):\n",
    "    for j in range(i+1):\n",
    "        print(chr(first_char+i), end = '')\n",
    "    print()"
   ]
  },
  {
   "cell_type": "code",
   "execution_count": null,
   "id": "6ff6befe",
   "metadata": {},
   "outputs": [],
   "source": []
  }
 ],
 "metadata": {
  "kernelspec": {
   "display_name": "Python 3 (ipykernel)",
   "language": "python",
   "name": "python3"
  },
  "language_info": {
   "codemirror_mode": {
    "name": "ipython",
    "version": 3
   },
   "file_extension": ".py",
   "mimetype": "text/x-python",
   "name": "python",
   "nbconvert_exporter": "python",
   "pygments_lexer": "ipython3",
   "version": "3.11.4"
  }
 },
 "nbformat": 4,
 "nbformat_minor": 5
}
