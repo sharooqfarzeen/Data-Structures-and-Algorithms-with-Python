{
 "cells": [
  {
   "cell_type": "markdown",
   "id": "3fb221f1",
   "metadata": {},
   "source": [
    "## Fahrenheit to Celsius Function"
   ]
  },
  {
   "cell_type": "raw",
   "id": "60e6451f",
   "metadata": {},
   "source": [
    "(F-32)*(5/9)"
   ]
  },
  {
   "cell_type": "code",
   "execution_count": 4,
   "id": "b786af80",
   "metadata": {},
   "outputs": [
    {
     "name": "stdout",
     "output_type": "stream",
     "text": [
      "120\n",
      "200\n",
      "40\n",
      "120\t48\n",
      "160\t71\n",
      "200\t93\n"
     ]
    }
   ],
   "source": [
    "def printTable(start,end,step):\n",
    "    for t in range(start, end+1, step):\n",
    "        print(t,int((t-32)*(5/9)), sep = '\\t')\n",
    "    \n",
    "s = int(input())\n",
    "e = int(input())\n",
    "step = int(input())\n",
    "printTable(s,e,step)"
   ]
  },
  {
   "cell_type": "markdown",
   "id": "5c74a463",
   "metadata": {},
   "source": [
    "## Fibonacci Member"
   ]
  },
  {
   "cell_type": "code",
   "execution_count": 9,
   "id": "f23f707f",
   "metadata": {},
   "outputs": [
    {
     "name": "stdout",
     "output_type": "stream",
     "text": [
      "14\n",
      "false\n"
     ]
    }
   ],
   "source": [
    "def checkMember(n):\n",
    "    one = 0\n",
    "    two = 1\n",
    "    for i in range(1, n):\n",
    "        three = one + two\n",
    "        if three == n:\n",
    "            return True\n",
    "        one = two\n",
    "        two = three\n",
    "    else:\n",
    "        return False\n",
    "\n",
    "n=int(input())\n",
    "if(checkMember(n)):\n",
    "    print(\"true\")\n",
    "else:\n",
    "    print(\"false\")"
   ]
  },
  {
   "cell_type": "markdown",
   "id": "87293165",
   "metadata": {},
   "source": [
    "## Palindrome number"
   ]
  },
  {
   "cell_type": "code",
   "execution_count": 23,
   "id": "660db0cb",
   "metadata": {},
   "outputs": [
    {
     "name": "stdout",
     "output_type": "stream",
     "text": [
      "51415\n",
      "true\n"
     ]
    }
   ],
   "source": [
    "n = input()\n",
    "\n",
    "for i in range(len(n)//2):\n",
    "    if n[i] != n[-1*(i+1)]:\n",
    "        print(\"false\")\n",
    "        break\n",
    "else:\n",
    "    print(\"true\")"
   ]
  },
  {
   "cell_type": "markdown",
   "id": "c31f90c7",
   "metadata": {},
   "source": [
    "## Check Armstrong"
   ]
  },
  {
   "cell_type": "code",
   "execution_count": 25,
   "id": "2bfbaddd",
   "metadata": {},
   "outputs": [
    {
     "name": "stdout",
     "output_type": "stream",
     "text": [
      "371\n",
      "true\n"
     ]
    }
   ],
   "source": [
    "n = int(input())\n",
    "\n",
    "s = 0\n",
    "temp = n\n",
    "k = 0\n",
    "\n",
    "while temp > 0:\n",
    "    temp = temp//10\n",
    "    k += 1\n",
    "\n",
    "temp = n\n",
    "i = 1\n",
    "while temp > 0:\n",
    "    s = s + ((temp%10)**k)\n",
    "    temp = temp//10\n",
    "    \n",
    "if n == s:\n",
    "    print(\"true\")\n",
    "else:\n",
    "    print(\"false\")"
   ]
  }
 ],
 "metadata": {
  "kernelspec": {
   "display_name": "Python 3 (ipykernel)",
   "language": "python",
   "name": "python3"
  },
  "language_info": {
   "codemirror_mode": {
    "name": "ipython",
    "version": 3
   },
   "file_extension": ".py",
   "mimetype": "text/x-python",
   "name": "python",
   "nbconvert_exporter": "python",
   "pygments_lexer": "ipython3",
   "version": "3.11.4"
  }
 },
 "nbformat": 4,
 "nbformat_minor": 5
}
