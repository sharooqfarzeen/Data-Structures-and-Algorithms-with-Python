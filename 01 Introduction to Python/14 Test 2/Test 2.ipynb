{
 "cells": [
  {
   "cell_type": "code",
   "execution_count": null,
   "id": "05371d15",
   "metadata": {},
   "outputs": [],
   "source": [
    "dim = [int(i) for i in input().split()]\n",
    "n = dim[0]\n",
    "m = dim[1]\n",
    "\n",
    "arr = []\n",
    "\n",
    "for i in range(n):\n",
    "    arr.append([int(j) for j in input().split()])\n",
    "    \n",
    "for i in range(n):\n",
    "    for j in range(n-i):\n",
    "        for k in range(m):\n",
    "            print(arr[i][k], end = ' ')\n",
    "        print()"
   ]
  },
  {
   "cell_type": "code",
   "execution_count": null,
   "id": "32f980f4",
   "metadata": {},
   "outputs": [],
   "source": [
    "s = input()\n",
    "\n",
    "min_length = 100000\n",
    "min_word = \"\"\n",
    "\n",
    "for word in s.split():\n",
    "    if len(word) < min_length:\n",
    "        min_length = len(word)\n",
    "        min_word = word\n",
    "print(min_word)"
   ]
  },
  {
   "cell_type": "code",
   "execution_count": null,
   "id": "5b62b5dd",
   "metadata": {},
   "outputs": [],
   "source": [
    "n = int(input())\n",
    "arr = [int(i) for i in input().split()]\n",
    "leaders = []\n",
    "\n",
    "for i in range(n-1):\n",
    "    for j in range(i+1,n):\n",
    "        if arr[i] < arr[j]:\n",
    "            leader = False\n",
    "            break\n",
    "    else:\n",
    "        leaders.append(arr[i])\n",
    "        \n",
    "leaders.append(arr[n-1])\n",
    "        \n",
    "for i in leaders:\n",
    "    print(i, end = ' ')"
   ]
  },
  {
   "cell_type": "code",
   "execution_count": null,
   "id": "179a3fff",
   "metadata": {},
   "outputs": [],
   "source": [
    "def writeAsYouSpeak(n):\n",
    "    ans = \"1\"\n",
    "    \n",
    "    for i in range(1, n):\n",
    "        temp = \"\"\n",
    "        num_list = [j for j in ans]\n",
    "        j = 0\n",
    "        while j < len(num_list):\n",
    "            k = 1\n",
    "            while (j+k)<len(num_list) and num_list[j] == num_list[j+k]:\n",
    "                k += 1\n",
    "            temp += str(k) + str(num_list[j])\n",
    "            j += k\n",
    "            ans = temp\n",
    "    return int(ans)\n",
    "\n",
    "        \n",
    "        \n",
    "writeAsYouSpeak(1) "
   ]
  },
  {
   "cell_type": "code",
   "execution_count": 10,
   "id": "9e56aa73",
   "metadata": {},
   "outputs": [
    {
     "name": "stdout",
     "output_type": "stream",
     "text": [
      "1211\n"
     ]
    }
   ],
   "source": [
    "def writeAsYouSpeak(n):\n",
    "    ans = \"1\"\n",
    "    \n",
    "    for i in range(1, n):\n",
    "        temp = \"\"\n",
    "        num_list = [j for j in ans]\n",
    "        j = 0\n",
    "        while j < len(num_list):\n",
    "            count = 1\n",
    "            k = 1\n",
    "            while (j+k)<len(num_list) and num_list[j] == num_list[j+k]:\n",
    "                count += 1\n",
    "                k += 1\n",
    "            temp += str(count) + str(num_list[j])\n",
    "            j += k\n",
    "            ans = temp\n",
    "    return int(ans)\n",
    "\n",
    "        \n",
    "        \n",
    "writeAsYouSpeak(4)       "
   ]
  },
  {
   "cell_type": "raw",
   "id": "032e6e0a",
   "metadata": {},
   "source": []
  },
  {
   "cell_type": "code",
   "execution_count": 3,
   "id": "8bfa88ff",
   "metadata": {},
   "outputs": [
    {
     "data": {
      "text/plain": [
       "1"
      ]
     },
     "execution_count": 3,
     "metadata": {},
     "output_type": "execute_result"
    }
   ],
   "source": [
    "def writeAsYouSpeak(n):\n",
    "    ans = \"1\"\n",
    "    \n",
    "    for i in range(1, n):\n",
    "        temp = \"\"\n",
    "        num_list = [j for j in ans]\n",
    "        j = 0\n",
    "        while j < len(num_list):\n",
    "            k = 1\n",
    "            while (j+k)<len(num_list) and num_list[j] == num_list[j+k]:\n",
    "                k += 1\n",
    "            temp += str(k) + str(num_list[j])\n",
    "            j += k\n",
    "            ans = temp\n",
    "    return int(ans)\n",
    "\n",
    "        \n",
    "        \n",
    "writeAsYouSpeak(1)       "
   ]
  }
 ],
 "metadata": {
  "kernelspec": {
   "display_name": "Python 3 (ipykernel)",
   "language": "python",
   "name": "python3"
  },
  "language_info": {
   "codemirror_mode": {
    "name": "ipython",
    "version": 3
   },
   "file_extension": ".py",
   "mimetype": "text/x-python",
   "name": "python",
   "nbconvert_exporter": "python",
   "pygments_lexer": "ipython3",
   "version": "3.11.4"
  }
 },
 "nbformat": 4,
 "nbformat_minor": 5
}
