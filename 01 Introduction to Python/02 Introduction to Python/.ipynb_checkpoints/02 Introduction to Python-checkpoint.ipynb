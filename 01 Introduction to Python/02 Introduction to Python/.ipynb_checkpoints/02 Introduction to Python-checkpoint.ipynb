{
 "cells": [
  {
   "cell_type": "markdown",
   "id": "2f2f96d7",
   "metadata": {},
   "source": [
    "### Find average Marks"
   ]
  },
  {
   "cell_type": "code",
   "execution_count": 8,
   "id": "b65fdd49",
   "metadata": {
    "scrolled": true
   },
   "outputs": [
    {
     "name": "stdout",
     "output_type": "stream",
     "text": [
      "3\n",
      "4\n",
      "6\n",
      "4.333333333333333\n"
     ]
    }
   ],
   "source": [
    "a, b, c = float(input()), float(input()), float(input())\n",
    "print((a+b+c)/3)"
   ]
  },
  {
   "cell_type": "markdown",
   "id": "c7f172d2",
   "metadata": {},
   "source": [
    "### Arithmetic Progression"
   ]
  },
  {
   "cell_type": "code",
   "execution_count": null,
   "id": "8ce69060",
   "metadata": {},
   "outputs": [],
   "source": [
    "a, b, c = int(input()), int(input()), int(input())\n",
    "print(b-a)"
   ]
  },
  {
   "cell_type": "markdown",
   "id": "607b6c9c",
   "metadata": {},
   "source": [
    "### Rectangular Area"
   ]
  },
  {
   "cell_type": "code",
   "execution_count": 9,
   "id": "dd3af769",
   "metadata": {},
   "outputs": [
    {
     "name": "stdout",
     "output_type": "stream",
     "text": [
      "1\n",
      "1\n",
      "3\n",
      "3\n",
      "4\n"
     ]
    }
   ],
   "source": [
    "x1, y1, x2, y2 = int(input()), int(input()), int(input()), int(input())\n",
    "print(abs((x1-x2)*(y1-y2)))"
   ]
  }
 ],
 "metadata": {
  "kernelspec": {
   "display_name": "Python 3 (ipykernel)",
   "language": "python",
   "name": "python3"
  },
  "language_info": {
   "codemirror_mode": {
    "name": "ipython",
    "version": 3
   },
   "file_extension": ".py",
   "mimetype": "text/x-python",
   "name": "python",
   "nbconvert_exporter": "python",
   "pygments_lexer": "ipython3",
   "version": "3.11.4"
  }
 },
 "nbformat": 4,
 "nbformat_minor": 5
}
