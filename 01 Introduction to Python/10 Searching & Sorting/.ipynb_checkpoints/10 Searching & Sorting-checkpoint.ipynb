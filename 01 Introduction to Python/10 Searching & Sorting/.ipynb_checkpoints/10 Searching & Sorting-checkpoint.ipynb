{
 "cells": [
  {
   "cell_type": "markdown",
   "id": "a1cf5aec",
   "metadata": {},
   "source": [
    "## Code Binary Search"
   ]
  },
  {
   "cell_type": "raw",
   "id": "56e464f8",
   "metadata": {},
   "source": [
    "[0, 1, 2, 3]\n",
    "[0, 1, 2, 3, 4]\n",
    "\n",
    "fi = 0\n",
    "li = len(a)-1\n",
    "mi = (fi+li)//2 create a function to caluclate this\n",
    "\n",
    "search for 'key'\n",
    "\n",
    "while fi < li:\n",
    "    is key == element at mi\n",
    "        print found at mi\n",
    "        break\n",
    "    else is key > element at mi\n",
    "        fi = mi+1\n",
    "        mi = (fi+li)//2\n",
    "        continue\n",
    "    else is key < element at mi\n",
    "        li = mi-1\n",
    "        mi = (fi+li)//2\n",
    "        continue\n",
    "else:\n",
    "    print 'not found'"
   ]
  },
  {
   "cell_type": "code",
   "execution_count": null,
   "id": "9994d63c",
   "metadata": {},
   "outputs": [],
   "source": [
    "def search(a: [int], key: int):\n",
    "    \n",
    "    fi = 0\n",
    "    li = len(a)-1\n",
    "    mi = (fi+li)//2\n",
    "\n",
    "    while fi <= li:\n",
    "        if key == a[mi]:\n",
    "            return mi\n",
    "        elif key < a[mi]:\n",
    "            li = mi-1\n",
    "            mi = (fi+li)//2\n",
    "            continue\n",
    "        else:\n",
    "            fi = mi+1\n",
    "            mi = (fi+li)//2\n",
    "    else:\n",
    "        return -1\n",
    "\n",
    "n= int (input())\n",
    "arr = list(map(int,input().strip().split()))[:n]\n",
    "target =int (input())\n",
    "print (search(arr, target))"
   ]
  },
  {
   "cell_type": "code",
   "execution_count": null,
   "id": "0f22b1ca",
   "metadata": {},
   "outputs": [],
   "source": [
    "def findM(fi, li):\n",
    "    return (fi+li)//2\n",
    "\n",
    "def search(a: [int], key: int):\n",
    "    \n",
    "    fi = 0\n",
    "    li = len(a)-1\n",
    "    mi = findM(fi,li)\n",
    "\n",
    "    while fi <= li:\n",
    "        if key == a[mi]:\n",
    "            return mi\n",
    "        elif key < a[mi]:\n",
    "            li = mi-1\n",
    "            mi = findM(fi,li)\n",
    "            continue\n",
    "        else:\n",
    "            fi = mi+1\n",
    "            mi = findM(fi,li)\n",
    "    else:\n",
    "        return -1\n",
    "\n",
    "n= int (input())\n",
    "arr = list(map(int,input().strip().split()))[:n]\n",
    "target =int (input())\n",
    "print (search(arr, target))"
   ]
  },
  {
   "cell_type": "markdown",
   "id": "e5a3377a",
   "metadata": {},
   "source": [
    "## Code Selection Sort"
   ]
  },
  {
   "cell_type": "raw",
   "id": "51c5f013",
   "metadata": {},
   "source": [
    "[0,1,2,3]\n",
    "[0,1,2,3,4]\n",
    "\n",
    "init\n",
    "    min as a[0]\n",
    "    start_index as 0\n",
    "    \n",
    "for i from 0 to len-1\n",
    "    for j from i to len-1\n",
    "        if a[j] < min\n",
    "         set min_index = j\n",
    "    swap element at i with element at min_index"
   ]
  },
  {
   "cell_type": "code",
   "execution_count": null,
   "id": "9ac67656",
   "metadata": {},
   "outputs": [],
   "source": [
    "from typing import List\n",
    "\n",
    "def selectionSort(a: List[int]) -> None: \n",
    "    l = len(a)\n",
    "    for i in range(l):\n",
    "        min_index = i\n",
    "        #find minimum from unsorted list\n",
    "        for j in range(i+1,l):\n",
    "            if a[j] < a[min_index]:\n",
    "                min_index = j\n",
    "        #replace with first element in unsorted list\n",
    "        if a[min_index] != a[i]:\n",
    "            a[i], a[min_index] = a[min_index], a[i]\n",
    "    return a"
   ]
  },
  {
   "cell_type": "markdown",
   "id": "507205a0",
   "metadata": {},
   "source": [
    "## Code Bubble Sort"
   ]
  },
  {
   "cell_type": "raw",
   "id": "1b8add83",
   "metadata": {},
   "source": [
    "a = [13,4,9,5,3]\n",
    "\n",
    "for i from 0 to len(a)-2\n",
    "    for j from 0 to len(a)-1-i\n",
    "        is a[j] > a[j+1]\n",
    "            swap a[j] and a[j+1]"
   ]
  },
  {
   "cell_type": "code",
   "execution_count": null,
   "id": "40119a52",
   "metadata": {},
   "outputs": [],
   "source": [
    "from typing import List\n",
    "\n",
    "def bubbleSort(a: List[int], n: int):\n",
    "    l = len(a)\n",
    "    \n",
    "    for i in range(l-1):\n",
    "        swap = False\n",
    "        for j in range(l-i-1):\n",
    "            if a[j] > a[j+1]:\n",
    "                swap = True\n",
    "                a[j], a[j+1] = a[j+1], a[j]\n",
    "        if not swap:\n",
    "            return a\n",
    "    return a"
   ]
  },
  {
   "cell_type": "markdown",
   "id": "6c33eb16",
   "metadata": {},
   "source": [
    "## Code Insertion Sort"
   ]
  },
  {
   "cell_type": "raw",
   "id": "7af8285e",
   "metadata": {},
   "source": [
    "for unsorted from 1 to len-1:\n",
    "    swap = False\n",
    "    for sorted from unsorted-1 to 0:\n",
    "        if a[sorted] > a[unsorted]:\n",
    "            swap a[sorted] with a[unsorted] \n",
    "            swap = True\n",
    "        stop j loop if swap = False, because then the 'sorted' array is sorted"
   ]
  },
  {
   "cell_type": "code",
   "execution_count": null,
   "id": "ab0a14e2",
   "metadata": {},
   "outputs": [],
   "source": [
    "\n",
    "import os\n",
    "import sys\n",
    "from copy import deepcopy\n",
    "input = lambda: sys.stdin.readline().rstrip(\"\\r\\n\")\n",
    "sys.setrecursionlimit(10 ** 7)\n",
    "\n",
    "def insertionSort(a):\n",
    "    l = len(a)\n",
    "    for unsorted in range(1,l):\n",
    "        temp = a[unsorted]\n",
    "        for sorted in range(unsorted-1,-1,-1):\n",
    "            if a[sorted] > temp:\n",
    "                a[sorted+1] = a[sorted]\n",
    "            else:\n",
    "                a[sorted+1] = temp\n",
    "                break\n",
    "        else:\n",
    "            a[0] = temp\n",
    "        \n",
    "    return a\n",
    "\n",
    "class Runner:\n",
    "    def __init__(self):\n",
    "        self.n = 0\n",
    "        self.arr =[]\n",
    "\n",
    "    def takeInput(self):\n",
    "        self.n = int(input())\n",
    "        self.arr= list(map(int, input().split()))\n",
    "\n",
    "    def execute(self):\n",
    "\n",
    "        ans = insertionSort(self.arr)\n",
    "\n",
    "    def executeAndPrintOutput(self):\n",
    "        ans = insertionSort(self.arr)\n",
    "        print(*self.arr)\n",
    "\n",
    "runner = Runner()\n",
    "runner.takeInput()\n",
    "runner.executeAndPrintOutput()"
   ]
  },
  {
   "cell_type": "markdown",
   "id": "a52b0d5a",
   "metadata": {},
   "source": [
    "## Code Merge Two Sorted Arrays"
   ]
  },
  {
   "cell_type": "code",
   "execution_count": null,
   "id": "a35fafa6",
   "metadata": {},
   "outputs": [],
   "source": [
    "from sys import stdin\n",
    "\n",
    "def merge(a, n, b, m):\n",
    "    la, lb = len(a), len(b)\n",
    "    c = []\n",
    "    i, j = 0, 0\n",
    "    while (i<la) and (j<lb):\n",
    "        if a[i] <b[j]:\n",
    "            c.append(a[i])\n",
    "            i += 1\n",
    "        elif a[i] > b[j]:\n",
    "            c.append(b[j])\n",
    "            j += 1\n",
    "        else:\n",
    "            c.extend([a[i], a[i]])\n",
    "            i += 1\n",
    "            j += 1\n",
    "    else:\n",
    "        if i == la:\n",
    "            c.extend(b[j:])\n",
    "        else:\n",
    "            c.extend(a[i:])\n",
    "    return c\n",
    "\n",
    "#Taking Input Using Fast I/O\n",
    "def takeInput() :\n",
    "    n = int(stdin.readline().rstrip())\n",
    "    if n != 0:\n",
    "        arr = list(map(int, stdin.readline().rstrip().split(\" \")))\n",
    "        return arr, n\n",
    "\n",
    "    return list(), 0\n",
    "\n",
    "\n",
    "#to print the array/list\n",
    "def printList(arr, n) : \n",
    "    for i in range(n) :\n",
    "        print(arr[i], end = \" \")\n",
    "        \n",
    "    print()\n",
    "\n",
    "\n",
    "#main\n",
    "t = int(stdin.readline().rstrip())\n",
    "\n",
    "while t > 0 :\n",
    "\n",
    "    arr1, n = takeInput()\n",
    "    arr2, m = takeInput()\n",
    "\n",
    "    ans = merge(arr1, n, arr2, m)\n",
    "    printList(ans, (n + m))\n",
    "\n",
    "    t -= 1"
   ]
  },
  {
   "cell_type": "markdown",
   "id": "8d8fb1ff",
   "metadata": {},
   "source": [
    "# Assignment"
   ]
  },
  {
   "cell_type": "markdown",
   "id": "211c0f60",
   "metadata": {},
   "source": [
    "## Push Zeros to end"
   ]
  },
  {
   "cell_type": "raw",
   "id": "af8d9d82",
   "metadata": {},
   "source": [
    "Push zeros in given array to the end. Use only a single scan of the array. No extra arrays, no extra space\n",
    "\n",
    "[2,0,0,1,3,0,0]\n",
    "\n",
    "find non-zero numbers and copy them to indexes starting from 0, keeping count of non-zero numbers\n",
    "\n",
    "count_of_zeros = length(array) - count_of_nonzero\n",
    "\n",
    "now use array slicing:\n",
    "array[lastnonzero+1:] = [0]*count of zeros"
   ]
  },
  {
   "cell_type": "code",
   "execution_count": null,
   "id": "35e7beef",
   "metadata": {},
   "outputs": [],
   "source": [
    "def pushZerosAtEnd(arr,n):\n",
    "    #keeps count of non-zero numbers, also tells where to store next non-zero number\n",
    "    nonzero = 0\n",
    "    for i in range(n):\n",
    "        if arr[i] != 0:\n",
    "            arr[nonzero] = arr[i]\n",
    "            nonzero += 1\n",
    "    #number of zeros = (total length) - (number of non-zero numbers)\n",
    "    zero = n - nonzero\n",
    "    #slice array from the next position after the index where last non-zero number was stored, to the end of the list\n",
    "    arr[nonzero:] = [0]*zero"
   ]
  },
  {
   "cell_type": "markdown",
   "id": "dc707dc3",
   "metadata": {},
   "source": [
    "#### Less efficient codes below:"
   ]
  },
  {
   "cell_type": "code",
   "execution_count": null,
   "id": "52574ce7",
   "metadata": {},
   "outputs": [],
   "source": [
    "def pushZerosAtEnd(arr,n):\n",
    "    count = 0\n",
    "    i = 0\n",
    "    while i < len(arr):\n",
    "        if arr[i] == 0:\n",
    "            count += 1\n",
    "            del arr[i]\n",
    "            i -= 1\n",
    "        i += 1\n",
    "    return arr.extend([0]*count)\n",
    "\n"
   ]
  },
  {
   "cell_type": "code",
   "execution_count": null,
   "id": "f926bb24",
   "metadata": {},
   "outputs": [],
   "source": [
    "def pushZerosAtEnd(arr,n):\n",
    "    zeros = arr.count(0)\n",
    "    for i in range(zeros):\n",
    "        arr.remove(0)\n",
    "        arr.append(0)"
   ]
  },
  {
   "cell_type": "markdown",
   "id": "51cf2456",
   "metadata": {},
   "source": [
    "## Rotate Array"
   ]
  },
  {
   "cell_type": "raw",
   "id": "d7adbb20",
   "metadata": {},
   "source": [
    "Rotate array 'd' elements to the left:\n",
    "d = 2\n",
    "[1,2,3,4,5,6]\n",
    "[3,4,5,6,1,2]"
   ]
  },
  {
   "cell_type": "code",
   "execution_count": null,
   "id": "7994bddb",
   "metadata": {},
   "outputs": [],
   "source": [
    "def rotate(arr, n, d):\n",
    "    #array has 2 parts - \n",
    "    #part 1 goes to the tail of new array from head of current array and\n",
    "    #part 2 goes to the head of new array from the tail of the current array\n",
    "\n",
    "    #storing part 1 in a\n",
    "    a = arr[:d]\n",
    "    #pulling part 2 to the head of new array\n",
    "    arr[:n-d] = arr[d:]\n",
    "    #storing part 1 to the tail of the new array\n",
    "    arr[n-d:] = a"
   ]
  },
  {
   "cell_type": "markdown",
   "id": "8b4ec830",
   "metadata": {},
   "source": [
    "## Second Largest in Array"
   ]
  },
  {
   "cell_type": "raw",
   "id": "d43ae6ec",
   "metadata": {},
   "source": []
  },
  {
   "cell_type": "markdown",
   "id": "034d8930",
   "metadata": {},
   "source": [
    "### Easy Solution"
   ]
  },
  {
   "cell_type": "code",
   "execution_count": null,
   "id": "a100ef2d",
   "metadata": {},
   "outputs": [],
   "source": [
    "def secondLargestElement(arr, n):\n",
    "    #finding highest number\n",
    "    maximum = max(arr)\n",
    "    #removing all occureneces of the highest number\n",
    "    while max(arr) == maximum:\n",
    "        arr.remove(maximum)\n",
    "    #second highest number in the original list is not the highest number\n",
    "    return max(arr)  "
   ]
  },
  {
   "cell_type": "markdown",
   "id": "5bb7099e",
   "metadata": {},
   "source": [
    "### Harder Solution"
   ]
  },
  {
   "cell_type": "code",
   "execution_count": null,
   "id": "1856f399",
   "metadata": {},
   "outputs": [],
   "source": [
    "def secondLargestElement(arr, n):\n",
    "    largest = arr[0]\n",
    "    second = arr[0]\n",
    "    \n",
    "    i = 0\n",
    "    while i < n:\n",
    "        if arr[i] > largest:\n",
    "            second = largest\n",
    "            largest = arr[i]\n",
    "            i += 1\n",
    "            continue\n",
    "        if arr[i] > second:\n",
    "            second = arr[i]\n",
    "        i += 1\n",
    "    return second\n",
    "\n",
    "print(secondLargestElement([6,6,6,7,7,13,1,6,5], 9))\n",
    "        "
   ]
  },
  {
   "cell_type": "markdown",
   "id": "c643ddb0",
   "metadata": {},
   "source": [
    "## Check Array Rotation"
   ]
  },
  {
   "cell_type": "raw",
   "id": "17450af0",
   "metadata": {},
   "source": [
    "A sorted array has been rotated to the right 'K' number of times. Find 'K', given the rotated array"
   ]
  },
  {
   "cell_type": "code",
   "execution_count": null,
   "id": "198d30ba",
   "metadata": {},
   "outputs": [],
   "source": [
    "arrayRotateCheck = lambda arr,n: 0 if n==0 else arr.index(min(arr))"
   ]
  },
  {
   "cell_type": "markdown",
   "id": "4a9e0d01",
   "metadata": {},
   "source": [
    "## Sort 0 1 2"
   ]
  },
  {
   "cell_type": "raw",
   "id": "658352a0",
   "metadata": {},
   "source": [
    "put 0s first followed by 1s and 2s with just one pass of the array; no additional arrays\n",
    "\n",
    "1,1,1,0,2,1,0,1,2\n",
    "count number of zeros, ones and twos in a single pass and use slicing to assign values"
   ]
  },
  {
   "cell_type": "code",
   "execution_count": 3,
   "id": "1481245d",
   "metadata": {},
   "outputs": [
    {
     "name": "stdout",
     "output_type": "stream",
     "text": [
      "[0, 0, 1, 1, 1, 1, 1, 2, 2]\n"
     ]
    }
   ],
   "source": [
    "def sort012(arr, n):\n",
    "    zeros = 0\n",
    "    ones = 0\n",
    "    twos = 0\n",
    "    for i in range(n):\n",
    "        if arr[i] == 0:\n",
    "            zeros += 1\n",
    "        elif arr[i] == 1:\n",
    "            ones += 1\n",
    "        else:\n",
    "            twos += 1\n",
    "    arr[:zeros] = [0]*zeros\n",
    "    arr[zeros:zeros+ones] = [1]*ones\n",
    "    arr[-twos:] = [2]*twos\n",
    "\n",
    "arr = [1,1,1,0,2,1,0,1,2]\n",
    "n = len(arr)\n",
    "sort012(arr, n)\n",
    "print(arr)"
   ]
  },
  {
   "cell_type": "markdown",
   "id": "2aa0b596",
   "metadata": {},
   "source": [
    "## Sum of Two Arrays"
   ]
  },
  {
   "cell_type": "raw",
   "id": "c898a531",
   "metadata": {},
   "source": []
  },
  {
   "cell_type": "markdown",
   "id": "ff87d8ce",
   "metadata": {},
   "source": [
    "#### Easy Solution using strings"
   ]
  },
  {
   "cell_type": "code",
   "execution_count": 33,
   "id": "8d34b405",
   "metadata": {},
   "outputs": [],
   "source": [
    "#function: converts list of int to list of str; joins the list of str to a single string, converts the joined string to int\n",
    "amalgamate = lambda arr: int(''.join([str(i) for i in arr]))\n",
    "\n",
    "#function takes in a number; makes it a string; splits it into a list of strings; and converts it into a list of int\n",
    "disintegrate = lambda s: [int(i) for i in str(s)]\n",
    "\n",
    "def sumOfTwoArrays(arr1, n, arr2, m, output):\n",
    "    #convert list of integers to a combined int number unless the list is empty\n",
    "    n1 = 0 if n==0 else amalgamate(arr1)\n",
    "    n2 = 0 if m==0 else amalgamate(arr2)\n",
    "    \n",
    "    s = n1 + n2\n",
    "    #disintegrate sum to list of integers\n",
    "    digits_in_sum = disintegrate(s)\n",
    "    output[-len(digits_in_sum):] = digits_in_sum"
   ]
  },
  {
   "cell_type": "markdown",
   "id": "e477bca8",
   "metadata": {},
   "source": [
    "#### Mathematical Solution"
   ]
  },
  {
   "cell_type": "code",
   "execution_count": 40,
   "id": "b9786c19",
   "metadata": {},
   "outputs": [],
   "source": [
    "def number_constructor(a):\n",
    "    n = 0\n",
    "    for i in a:\n",
    "        n = (n*10) + i\n",
    "    return n\n",
    "\n",
    "def number_deconstructor(a):\n",
    "    for i in range(outputSize-1,-1,-1):\n",
    "        output[i] = a%10\n",
    "        a = a//10\n",
    "        if a == 0:\n",
    "            break\n",
    "        \n",
    "\n",
    "def sumOfTwoArrays(arr1, n, arr2, m, output):\n",
    "    n1 = number_constructor(arr1)\n",
    "    n2 = number_constructor(arr2)\n",
    "    \n",
    "    s = n1+n2\n",
    "    \n",
    "    number_deconstructor(s)"
   ]
  },
  {
   "cell_type": "code",
   "execution_count": null,
   "id": "51f2cf94",
   "metadata": {},
   "outputs": [],
   "source": [
    "n = 4\n",
    "m = 0\n",
    "outputSize = (1 + max(n, m))\n",
    "output = outputSize * [0]  \n",
    "sumOfTwoArrays([6,9,8,7], 4, [1,2,3,4], 4, output)\n",
    "print(output)"
   ]
  }
 ],
 "metadata": {
  "kernelspec": {
   "display_name": "Python 3 (ipykernel)",
   "language": "python",
   "name": "python3"
  },
  "language_info": {
   "codemirror_mode": {
    "name": "ipython",
    "version": 3
   },
   "file_extension": ".py",
   "mimetype": "text/x-python",
   "name": "python",
   "nbconvert_exporter": "python",
   "pygments_lexer": "ipython3",
   "version": "3.11.4"
  }
 },
 "nbformat": 4,
 "nbformat_minor": 5
}
