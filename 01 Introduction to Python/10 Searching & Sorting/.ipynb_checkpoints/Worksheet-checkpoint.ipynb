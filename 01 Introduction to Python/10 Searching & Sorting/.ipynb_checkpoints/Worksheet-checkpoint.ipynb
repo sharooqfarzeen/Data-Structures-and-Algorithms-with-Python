{
 "cells": [
  {
   "cell_type": "markdown",
   "id": "a78f61f5",
   "metadata": {},
   "source": [
    "# Binary Search"
   ]
  },
  {
   "cell_type": "raw",
   "id": "85c4e706",
   "metadata": {},
   "source": [
    "[0, 1, 2, 3]\n",
    "[0, 1, 2, 3, 4]\n",
    "\n",
    "fi = 0\n",
    "li = len(a)-1\n",
    "mi = (fi+li)//2 create a function to caluclate this\n",
    "\n",
    "search for 'key'\n",
    "\n",
    "while fi < li:\n",
    "    is key == element at mi\n",
    "        print found at mi\n",
    "        break\n",
    "    else is key > element at mi\n",
    "        fi = mi+1\n",
    "        mi = (fi+li)//2\n",
    "        continue\n",
    "    else is key < element at mi\n",
    "        li = mi-1\n",
    "        mi = (fi+li)//2\n",
    "        continue\n",
    "else:\n",
    "    print 'not found'"
   ]
  },
  {
   "cell_type": "code",
   "execution_count": 12,
   "id": "05431f54",
   "metadata": {},
   "outputs": [
    {
     "name": "stdout",
     "output_type": "stream",
     "text": [
      "Input numbers with space: 4 3 6 1 2 8\n",
      "Enter Key to search for: 7\n",
      "Sorted List:  [1, 2, 3, 4, 6, 8]\n",
      "Key not found\n"
     ]
    }
   ],
   "source": [
    "#taking input and sorting\n",
    "print(\"Input numbers with space: \", end = '')\n",
    "a = [int(i) for i in input().split()]\n",
    "print(\"Enter Key to search for: \", end = '')\n",
    "key = int(input())\n",
    "a.sort()\n",
    "print(\"Sorted List: \", a)\n",
    "\n",
    "fi = 0\n",
    "li = len(a)-1\n",
    "mi = (fi+li)//2\n",
    "\n",
    "while fi <= li:\n",
    "    if key == a[mi]:\n",
    "        print(\"Key found at index:\",mi)\n",
    "        break\n",
    "    elif key > a[mi]:\n",
    "        fi = mi+1\n",
    "        mi = (fi+li)//2\n",
    "        continue\n",
    "    else:\n",
    "        li = mi-1\n",
    "        mi = (fi+li)//2\n",
    "else:\n",
    "    print(\"Key not found\")"
   ]
  },
  {
   "cell_type": "markdown",
   "id": "3b1ffdd5",
   "metadata": {},
   "source": [
    "### Find first occurence"
   ]
  },
  {
   "cell_type": "code",
   "execution_count": 16,
   "id": "443e8993",
   "metadata": {},
   "outputs": [
    {
     "name": "stdout",
     "output_type": "stream",
     "text": [
      "Enter Key to search for: 2\n",
      "First occurence of key is at index: 1\n"
     ]
    }
   ],
   "source": [
    "a =  [1, 2, 2, 3, 3, 3, 4, 8, 9, 19, 19, 19]\n",
    "print(\"Enter Key to search for: \", end = '')\n",
    "key = int(input())\n",
    "\n",
    "fi = 0\n",
    "li = len(a)-1\n",
    "mi = (fi+li)//2\n",
    "\n",
    "while fi <= li:\n",
    "    if key == a[mi]:\n",
    "        while a[mi-1] == a[mi]:\n",
    "            mi -= 1\n",
    "        print(\"First occurence of key is at index:\",mi)\n",
    "        break\n",
    "    elif key > a[mi]:\n",
    "        fi = mi+1\n",
    "        mi = (fi+li)//2\n",
    "        continue\n",
    "    else:\n",
    "        li = mi-1\n",
    "        mi = (fi+li)//2\n",
    "else:\n",
    "    print(\"Key not found\")"
   ]
  },
  {
   "cell_type": "markdown",
   "id": "ebf2fc77",
   "metadata": {},
   "source": [
    "# Selection Sort"
   ]
  },
  {
   "cell_type": "raw",
   "id": "553cc36f",
   "metadata": {},
   "source": [
    "[0,1,2,3]\n",
    "[0,1,2,3,4]\n",
    "\n",
    "init\n",
    "    min as a[0]\n",
    "    start_index as 0\n",
    "    \n",
    "for i from 0 to len-1\n",
    "    for j from i to len-1\n",
    "        if a[j] < min\n",
    "         set min_index = j\n",
    "    swap element at i with element at min_index"
   ]
  },
  {
   "cell_type": "code",
   "execution_count": 26,
   "id": "281cf621",
   "metadata": {},
   "outputs": [
    {
     "name": "stdout",
     "output_type": "stream",
     "text": [
      "[3, 3, 4, 5, 9, 13, 13, 13]\n"
     ]
    }
   ],
   "source": [
    "a = [13,4,9,5,3]\n",
    "b = [13,13,13,4,9,5,3,3]\n",
    "def selectionSort(a):\n",
    "    \n",
    "    l = len(a)\n",
    "    for i in range(l):\n",
    "        min_index = i\n",
    "        for j in range(i+1,l):\n",
    "            if a[j] < a[min_index]:\n",
    "                min_index = j\n",
    "        if a[min_index] != a[i]:\n",
    "            a[i], a[min_index] = a[min_index], a[i]\n",
    "    return a\n",
    "\n",
    "print(selectionSort(b))"
   ]
  },
  {
   "cell_type": "markdown",
   "id": "fe892890",
   "metadata": {},
   "source": [
    "# Bubble Sort"
   ]
  },
  {
   "cell_type": "raw",
   "id": "d9425259",
   "metadata": {},
   "source": [
    "a = [13,4,9,5,3]\n",
    "\n",
    "for i from 0 to len(a)-2\n",
    "    for j from 0 to len(a)-1-i\n",
    "        is a[j] > a[j+1]\n",
    "            swap a[j] and a[j+1]"
   ]
  },
  {
   "cell_type": "code",
   "execution_count": 35,
   "id": "643053cf",
   "metadata": {},
   "outputs": [
    {
     "name": "stdout",
     "output_type": "stream",
     "text": [
      "Sort complete in 4 pass(es)\n",
      "[0, 1, 2, 3, 4]\n",
      "Sort complete in 4 pass(es)\n",
      "[3, 4, 5, 9, 13]\n",
      "Sort complete in 7 pass(es)\n",
      "[3, 3, 4, 5, 9, 13, 13, 13]\n",
      "Sort complete in 2 pass(es)\n",
      "[1, 2, 3, 4]\n",
      "Sort complete in 1 pass(es)\n",
      "[1, 2, 3, 4]\n"
     ]
    }
   ],
   "source": [
    "a = [4,3,2,1,0]\n",
    "b = [13,4,9,5,3]\n",
    "c = [13,13,13,4,9,5,3,3]\n",
    "d = [1,4,2,3]\n",
    "e = [1,2,3,4]\n",
    "\n",
    "def bubbleSort(a):\n",
    "    l = len(a)\n",
    "    \n",
    "    for i in range(l-1):\n",
    "        swap = False\n",
    "        for j in range(l-i-1):\n",
    "            if a[j] > a[j+1]:\n",
    "                swap = True\n",
    "                a[j], a[j+1] = a[j+1], a[j]\n",
    "        if not swap:\n",
    "            print(\"Sort complete in\", i+1, \"pass(es)\")\n",
    "            return a\n",
    "    print(\"Sort complete in\", i+1, \"pass(es)\")\n",
    "    return a\n",
    "\n",
    "print(bubbleSort(a))\n",
    "print(bubbleSort(b))\n",
    "print(bubbleSort(c))\n",
    "print(bubbleSort(d))\n",
    "print(bubbleSort(e))"
   ]
  },
  {
   "cell_type": "markdown",
   "id": "2737a6f9",
   "metadata": {},
   "source": [
    "# Insertion Sort"
   ]
  },
  {
   "cell_type": "raw",
   "id": "f1d7c965",
   "metadata": {},
   "source": [
    "for unsorted from 1 to len-1:\n",
    "    swap = False\n",
    "    for sorted from unsorted-1 to 0:\n",
    "        if a[sorted] > a[unsorted]:\n",
    "            swap a[sorted] with a[unsorted] \n",
    "            swap = True\n",
    "        stop j loop if swap = False, because then the 'sorted' array is sorted"
   ]
  },
  {
   "cell_type": "raw",
   "id": "ab9ce8fd",
   "metadata": {},
   "source": [
    "1,4,2,3\n",
    "0,1,2,3\n",
    "\n",
    "temp = 4\n",
    "\n",
    "1,4,2,3\n",
    "\n",
    "temp = 2\n",
    "\n",
    "1,2,4,3\n",
    "\n",
    "temp = 3\n",
    "\n",
    "\n",
    "\n",
    "\n",
    "\n",
    "\n"
   ]
  },
  {
   "cell_type": "code",
   "execution_count": 15,
   "id": "4cf3312a",
   "metadata": {},
   "outputs": [
    {
     "name": "stdout",
     "output_type": "stream",
     "text": [
      "[4, 4, 4, 4, 4]\n",
      "[13, 13, 13, 13, 13]\n",
      "[13, 13, 13, 13, 13, 13, 13, 13]\n",
      "[1, 2, 3, 4]\n",
      "[1, 2, 3, 4]\n"
     ]
    }
   ],
   "source": [
    "a = [4,3,2,1,0]\n",
    "b = [13,4,9,5,3]\n",
    "c = [13,13,13,4,9,5,3,3]\n",
    "d = [1,4,2,3]\n",
    "e = [1,2,3,4]\n",
    "\n",
    "def insertionSort(a):\n",
    "    l = len(a)\n",
    "    for unsorted in range(1,l):\n",
    "        temp = a[unsorted]\n",
    "        for sorted in range(unsorted-1,-1,-1):\n",
    "            if a[sorted] > temp:\n",
    "                a[sorted+1] = a[sorted]\n",
    "            else:\n",
    "                a[sorted+1] = temp\n",
    "                break\n",
    "        \n",
    "    return a\n",
    "    \n",
    "    \n",
    "    \n",
    "print(insertionSort(a))\n",
    "print(insertionSort(b))\n",
    "print(insertionSort(c))\n",
    "print(insertionSort(d))\n",
    "print(insertionSort(e))"
   ]
  }
 ],
 "metadata": {
  "kernelspec": {
   "display_name": "Python 3 (ipykernel)",
   "language": "python",
   "name": "python3"
  },
  "language_info": {
   "codemirror_mode": {
    "name": "ipython",
    "version": 3
   },
   "file_extension": ".py",
   "mimetype": "text/x-python",
   "name": "python",
   "nbconvert_exporter": "python",
   "pygments_lexer": "ipython3",
   "version": "3.11.4"
  }
 },
 "nbformat": 4,
 "nbformat_minor": 5
}
