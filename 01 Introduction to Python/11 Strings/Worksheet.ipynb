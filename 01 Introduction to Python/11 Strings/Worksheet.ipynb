{
 "cells": [
  {
   "cell_type": "code",
   "execution_count": null,
   "id": "736dd251",
   "metadata": {},
   "outputs": [],
   "source": [
    "\"name\" > \"oam\""
   ]
  },
  {
   "cell_type": "code",
   "execution_count": 3,
   "id": "f44ad9a2",
   "metadata": {},
   "outputs": [
    {
     "data": {
      "text/plain": [
       "['nam', ' is good']"
      ]
     },
     "execution_count": 3,
     "metadata": {},
     "output_type": "execute_result"
    }
   ],
   "source": [
    "s = \"name is good\"\n",
    "s.split('e')"
   ]
  },
  {
   "cell_type": "code",
   "execution_count": 5,
   "id": "2006923b",
   "metadata": {},
   "outputs": [
    {
     "data": {
      "text/plain": [
       "['name', 'is good']"
      ]
     },
     "execution_count": 5,
     "metadata": {},
     "output_type": "execute_result"
    }
   ],
   "source": [
    "s.split(maxsplit = 1)"
   ]
  },
  {
   "cell_type": "code",
   "execution_count": 9,
   "id": "cfbf21db",
   "metadata": {},
   "outputs": [
    {
     "name": "stdout",
     "output_type": "stream",
     "text": [
      "The name is Bond\n",
      "James Bond\n"
     ]
    }
   ],
   "source": [
    "s = \"The name is Bond\"\n",
    "print(s)\n",
    "s = s.replace(\"The name is\", \"James\")\n",
    "print(s)"
   ]
  },
  {
   "cell_type": "code",
   "execution_count": 15,
   "id": "b94ab3ce",
   "metadata": {},
   "outputs": [
    {
     "data": {
      "text/plain": [
       "10"
      ]
     },
     "execution_count": 15,
     "metadata": {},
     "output_type": "execute_result"
    }
   ],
   "source": [
    "s = \"name is good\"\n",
    "s.find(\"o\",10)"
   ]
  },
  {
   "cell_type": "code",
   "execution_count": 16,
   "id": "7d2732db",
   "metadata": {},
   "outputs": [
    {
     "data": {
      "text/plain": [
       "'Name Is Good'"
      ]
     },
     "execution_count": 16,
     "metadata": {},
     "output_type": "execute_result"
    }
   ],
   "source": [
    "s.title()"
   ]
  },
  {
   "cell_type": "code",
   "execution_count": 17,
   "id": "1dd5ebfb",
   "metadata": {},
   "outputs": [
    {
     "data": {
      "text/plain": [
       "True"
      ]
     },
     "execution_count": 17,
     "metadata": {},
     "output_type": "execute_result"
    }
   ],
   "source": [
    "s.startswith(\"is\", 5)"
   ]
  },
  {
   "cell_type": "code",
   "execution_count": 18,
   "id": "0adc7bb1",
   "metadata": {},
   "outputs": [
    {
     "data": {
      "text/plain": [
       "False"
      ]
     },
     "execution_count": 18,
     "metadata": {},
     "output_type": "execute_result"
    }
   ],
   "source": [
    "s.startswith(\"is\", 5, 6)"
   ]
  },
  {
   "cell_type": "code",
   "execution_count": 19,
   "id": "5fe29548",
   "metadata": {},
   "outputs": [
    {
     "data": {
      "text/plain": [
       "'name is good'"
      ]
     },
     "execution_count": 19,
     "metadata": {},
     "output_type": "execute_result"
    }
   ],
   "source": [
    "s.replace(\"b\", \"n\")"
   ]
  },
  {
   "cell_type": "code",
   "execution_count": 20,
   "id": "ab68dfa8",
   "metadata": {},
   "outputs": [
    {
     "data": {
      "text/plain": [
       "'name is giid'"
      ]
     },
     "execution_count": 20,
     "metadata": {},
     "output_type": "execute_result"
    }
   ],
   "source": [
    "t = s.replace(\"o\", \"i\")\n",
    "t"
   ]
  },
  {
   "cell_type": "code",
   "execution_count": 21,
   "id": "aca5201d",
   "metadata": {},
   "outputs": [
    {
     "data": {
      "text/plain": [
       "'name is giid'"
      ]
     },
     "execution_count": 21,
     "metadata": {},
     "output_type": "execute_result"
    }
   ],
   "source": [
    "def charReplace(t, char1, char2):\n",
    "    while t.find(char1) > 0:\n",
    "        i = t.find(char1)\n",
    "        t = t[:i] + char2 + t[i+1:]\n",
    "    return t\n",
    "\n",
    "s = \"name is good\"\n",
    "s = charReplace(s, \"o\", \"i\")\n",
    "s            "
   ]
  },
  {
   "cell_type": "code",
   "execution_count": 24,
   "id": "af7423da",
   "metadata": {},
   "outputs": [
    {
     "data": {
      "text/plain": [
       "'name is giid'"
      ]
     },
     "execution_count": 24,
     "metadata": {},
     "output_type": "execute_result"
    }
   ],
   "source": [
    "def charReplace(char1, char2):\n",
    "    global s\n",
    "    while s.find(char1) > 0:\n",
    "        i = s.find(char1)\n",
    "        s = s[:i] + char2 + s[i+1:]\n",
    "    return t\n",
    "\n",
    "s = \"name is good\"\n",
    "charReplace(\"o\", \"i\")\n",
    "s            "
   ]
  },
  {
   "cell_type": "code",
   "execution_count": 25,
   "id": "d1894811",
   "metadata": {},
   "outputs": [
    {
     "data": {
      "text/plain": [
       "True"
      ]
     },
     "execution_count": 25,
     "metadata": {},
     "output_type": "execute_result"
    }
   ],
   "source": [
    "s = 'd'\n",
    "s > 'A' and s < 'z'"
   ]
  },
  {
   "cell_type": "code",
   "execution_count": 26,
   "id": "59f2bdef",
   "metadata": {},
   "outputs": [
    {
     "data": {
      "text/plain": [
       "False"
      ]
     },
     "execution_count": 26,
     "metadata": {},
     "output_type": "execute_result"
    }
   ],
   "source": [
    "s = '0'\n",
    "s > 'A' and s < 'z'"
   ]
  }
 ],
 "metadata": {
  "kernelspec": {
   "display_name": "Python 3 (ipykernel)",
   "language": "python",
   "name": "python3"
  },
  "language_info": {
   "codemirror_mode": {
    "name": "ipython",
    "version": 3
   },
   "file_extension": ".py",
   "mimetype": "text/x-python",
   "name": "python",
   "nbconvert_exporter": "python",
   "pygments_lexer": "ipython3",
   "version": "3.11.4"
  }
 },
 "nbformat": 4,
 "nbformat_minor": 5
}
