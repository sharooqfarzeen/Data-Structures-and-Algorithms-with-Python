{
 "cells": [
  {
   "cell_type": "code",
   "execution_count": null,
   "id": "2c2c79e9",
   "metadata": {},
   "outputs": [],
   "source": [
    "\"name\" > \"oam\""
   ]
  },
  {
   "cell_type": "code",
   "execution_count": 3,
   "id": "6aa5264a",
   "metadata": {},
   "outputs": [
    {
     "data": {
      "text/plain": [
       "['nam', ' is good']"
      ]
     },
     "execution_count": 3,
     "metadata": {},
     "output_type": "execute_result"
    }
   ],
   "source": [
    "s = \"name is good\"\n",
    "s.split('e')"
   ]
  },
  {
   "cell_type": "code",
   "execution_count": 5,
   "id": "aa3f44e2",
   "metadata": {},
   "outputs": [
    {
     "data": {
      "text/plain": [
       "['name', 'is good']"
      ]
     },
     "execution_count": 5,
     "metadata": {},
     "output_type": "execute_result"
    }
   ],
   "source": [
    "s.split(maxsplit = 1)"
   ]
  },
  {
   "cell_type": "code",
   "execution_count": 9,
   "id": "53979512",
   "metadata": {},
   "outputs": [
    {
     "name": "stdout",
     "output_type": "stream",
     "text": [
      "The name is Bond\n",
      "James Bond\n"
     ]
    }
   ],
   "source": [
    "s = \"The name is Bond\"\n",
    "print(s)\n",
    "s = s.replace(\"The name is\", \"James\")\n",
    "print(s)"
   ]
  },
  {
   "cell_type": "code",
   "execution_count": 15,
   "id": "060d5936",
   "metadata": {},
   "outputs": [
    {
     "data": {
      "text/plain": [
       "10"
      ]
     },
     "execution_count": 15,
     "metadata": {},
     "output_type": "execute_result"
    }
   ],
   "source": [
    "s = \"name is good\"\n",
    "s.find(\"o\",10)"
   ]
  },
  {
   "cell_type": "code",
   "execution_count": 16,
   "id": "a790faab",
   "metadata": {},
   "outputs": [
    {
     "data": {
      "text/plain": [
       "'Name Is Good'"
      ]
     },
     "execution_count": 16,
     "metadata": {},
     "output_type": "execute_result"
    }
   ],
   "source": [
    "s.title()"
   ]
  },
  {
   "cell_type": "code",
   "execution_count": 17,
   "id": "ffe51a84",
   "metadata": {},
   "outputs": [
    {
     "data": {
      "text/plain": [
       "True"
      ]
     },
     "execution_count": 17,
     "metadata": {},
     "output_type": "execute_result"
    }
   ],
   "source": [
    "s.startswith(\"is\", 5)"
   ]
  },
  {
   "cell_type": "code",
   "execution_count": 18,
   "id": "0ace1dae",
   "metadata": {},
   "outputs": [
    {
     "data": {
      "text/plain": [
       "False"
      ]
     },
     "execution_count": 18,
     "metadata": {},
     "output_type": "execute_result"
    }
   ],
   "source": [
    "s.startswith(\"is\", 5, 6)"
   ]
  },
  {
   "cell_type": "code",
   "execution_count": null,
   "id": "5b304d76",
   "metadata": {},
   "outputs": [],
   "source": []
  }
 ],
 "metadata": {
  "kernelspec": {
   "display_name": "Python 3 (ipykernel)",
   "language": "python",
   "name": "python3"
  },
  "language_info": {
   "codemirror_mode": {
    "name": "ipython",
    "version": 3
   },
   "file_extension": ".py",
   "mimetype": "text/x-python",
   "name": "python",
   "nbconvert_exporter": "python",
   "pygments_lexer": "ipython3",
   "version": "3.11.4"
  }
 },
 "nbformat": 4,
 "nbformat_minor": 5
}
