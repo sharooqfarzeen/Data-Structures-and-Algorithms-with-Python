{
 "cells": [
  {
   "cell_type": "markdown",
   "id": "7e21da7f",
   "metadata": {},
   "source": [
    "## Check Palindrome"
   ]
  },
  {
   "cell_type": "code",
   "execution_count": 19,
   "id": "3d9bf30f",
   "metadata": {},
   "outputs": [
    {
     "name": "stdout",
     "output_type": "stream",
     "text": [
      "not\n",
      "false\n"
     ]
    }
   ],
   "source": [
    "print((lambda s = input(): \"true\" if s == s[::-1] else \"false\")())"
   ]
  },
  {
   "cell_type": "markdown",
   "id": "d625f654",
   "metadata": {},
   "source": [
    "# Assignment"
   ]
  },
  {
   "cell_type": "markdown",
   "id": "c46a7a26",
   "metadata": {},
   "source": [
    "## Check Permutation"
   ]
  },
  {
   "cell_type": "raw",
   "id": "347ae6c4",
   "metadata": {},
   "source": [
    "Check is first string is a permutation of the second string.\n",
    "\n",
    "ivrs\n",
    "iirs\n",
    "\n",
    "Check if length is same:\n",
    "    if Yes:\n",
    "        check if each char in str1 is in str2:\n",
    "        else: return False\n",
    "        \n",
    "    else:\n",
    "        return False\n",
    "        "
   ]
  },
  {
   "cell_type": "code",
   "execution_count": null,
   "id": "656dd8a4",
   "metadata": {},
   "outputs": [],
   "source": [
    "def isPermutation(string1, string2):\n",
    "    if len(string1) != len(string2):\n",
    "        return False\n",
    "    else:\n",
    "        for i in string1:\n",
    "            if i not in string2:\n",
    "                return False\n",
    "    return True"
   ]
  },
  {
   "cell_type": "code",
   "execution_count": null,
   "id": "4851b096",
   "metadata": {},
   "outputs": [],
   "source": [
    "def isPermutation(string1, string2):\n",
    "    string1 = ''.join(sorted(string1))\n",
    "    string2 = ''.join(sorted(string2))\n",
    "    if string1 == string2:\n",
    "        return True\n",
    "    return False"
   ]
  },
  {
   "cell_type": "code",
   "execution_count": 39,
   "id": "a2a5b070",
   "metadata": {},
   "outputs": [
    {
     "data": {
      "text/plain": [
       "97"
      ]
     },
     "execution_count": 39,
     "metadata": {},
     "output_type": "execute_result"
    }
   ],
   "source": [
    "ord('a')"
   ]
  },
  {
   "cell_type": "code",
   "execution_count": null,
   "id": "63c3f441",
   "metadata": {},
   "outputs": [],
   "source": [
    "#solution2\n",
    "import numpy as np\n",
    "def isPermutation(string1, string2):\n",
    "    count = np.zeros(26, dtype = int)\n",
    "    for i in string1:\n",
    "        count[ord(i)-97] += 1\n",
    "    for i in string2:\n",
    "        count[ord(i)-97] -= 1\n",
    "    if not np.any(count):\n",
    "        return True\n",
    "    return False "
   ]
  },
  {
   "cell_type": "code",
   "execution_count": null,
   "id": "1a674789",
   "metadata": {},
   "outputs": [],
   "source": [
    "import numpy as np\n",
    "\n",
    "def isPermutation(string1, string2):\n",
    "    l1 = len(string1)\n",
    "    l2 = len(string2)\n",
    "    if l1 != l2:\n",
    "        return False\n",
    "    count = np.zeros(26, dtype = int)\n",
    "    for i in range(l1):\n",
    "        count[ord(string1[i])-97] += 1\n",
    "        count[ord(string2[i])-97] -= 1\n",
    "    if not np.any(count):\n",
    "        return True\n",
    "    return False  "
   ]
  },
  {
   "cell_type": "markdown",
   "id": "29d200af",
   "metadata": {},
   "source": [
    "## Remove Consecutive Duplicates"
   ]
  },
  {
   "cell_type": "code",
   "execution_count": 54,
   "id": "35f6a9ad",
   "metadata": {},
   "outputs": [
    {
     "name": "stdout",
     "output_type": "stream",
     "text": [
      "abc\n"
     ]
    }
   ],
   "source": [
    "def removeConsecutiveDuplicates(string):\n",
    "    li = [i for i in string]\n",
    "    i = 0\n",
    "    while i < len(li):\n",
    "        temp = i\n",
    "        while (i < len(li)-1) and (li[i] == li[i+1]):\n",
    "            li.pop(i+1)\n",
    "        i = temp + 1\n",
    "    return ''.join(li)\n",
    "\n",
    "print(removeConsecutiveDuplicates(\"aaabbcc\"))"
   ]
  },
  {
   "cell_type": "markdown",
   "id": "32fde9bd",
   "metadata": {},
   "source": [
    "## Reverse Each Word"
   ]
  },
  {
   "cell_type": "code",
   "execution_count": 57,
   "id": "8e73eb34",
   "metadata": {},
   "outputs": [
    {
     "name": "stdout",
     "output_type": "stream",
     "text": [
      "esaelP esrever siht\n"
     ]
    }
   ],
   "source": [
    "def reverseEachWord(string):\n",
    "    return ' '.join([i[::-1] for i in string.split()])\n",
    "\n",
    "print(reverseEachWord(\"Please reverse this\"))"
   ]
  },
  {
   "cell_type": "markdown",
   "id": "9f8ba61a",
   "metadata": {},
   "source": [
    "## Remove Character"
   ]
  },
  {
   "cell_type": "code",
   "execution_count": null,
   "id": "2f715e3f",
   "metadata": {},
   "outputs": [],
   "source": [
    "def removeAllOccurrencesOfChar(string, ch):\n",
    "    return string.replace(ch, '')"
   ]
  },
  {
   "cell_type": "markdown",
   "id": "4a2db2c9",
   "metadata": {},
   "source": [
    "## Highest Occuring Character"
   ]
  },
  {
   "cell_type": "code",
   "execution_count": 58,
   "id": "682473d1",
   "metadata": {},
   "outputs": [],
   "source": [
    "def highestOccuringChar(string):\n",
    "    max_count = 0\n",
    "    max_char = \"\"\n",
    "    s = set()\n",
    "    for i in string:\n",
    "        if i != max_char and i not in s:\n",
    "            s.add(i)\n",
    "            count = string.count(i)\n",
    "            if count > max_count:\n",
    "                max_count = count\n",
    "                max_char = i\n",
    "    return max_char    "
   ]
  },
  {
   "cell_type": "markdown",
   "id": "46567b96",
   "metadata": {},
   "source": [
    "## Compress the String"
   ]
  },
  {
   "cell_type": "code",
   "execution_count": 62,
   "id": "044f909d",
   "metadata": {},
   "outputs": [
    {
     "name": "stdout",
     "output_type": "stream",
     "text": [
      "a3b3c\n"
     ]
    }
   ],
   "source": [
    "def getCompressedString():\n",
    "    global string\n",
    "    li = [i for i in string]\n",
    "    i = 0\n",
    "    while i < len(li):\n",
    "        temp = i\n",
    "        count = 1\n",
    "        while (i < len(li)-1) and (li[i] == li[i+1]):\n",
    "            li.pop(i+1)\n",
    "            count += 1\n",
    "        if count > 1:\n",
    "            li.insert(i+1, str(count))\n",
    "            i += 1\n",
    "        i = temp + 1\n",
    "    return ''.join(li)\n",
    "\n",
    "string = \"aaabbbc\"\n",
    "print(getCompressedString())"
   ]
  }
 ],
 "metadata": {
  "kernelspec": {
   "display_name": "Python 3 (ipykernel)",
   "language": "python",
   "name": "python3"
  },
  "language_info": {
   "codemirror_mode": {
    "name": "ipython",
    "version": 3
   },
   "file_extension": ".py",
   "mimetype": "text/x-python",
   "name": "python",
   "nbconvert_exporter": "python",
   "pygments_lexer": "ipython3",
   "version": "3.11.4"
  }
 },
 "nbformat": 4,
 "nbformat_minor": 5
}
