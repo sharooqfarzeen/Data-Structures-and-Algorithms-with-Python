{
 "cells": [
  {
   "cell_type": "markdown",
   "id": "39265119",
   "metadata": {},
   "source": [
    "## Inverted Triangle"
   ]
  },
  {
   "cell_type": "raw",
   "id": "c55caf30",
   "metadata": {},
   "source": [
    "n = 4\n",
    "\n",
    "* * * *\n",
    "* * * \n",
    "* * \n",
    "* "
   ]
  },
  {
   "cell_type": "raw",
   "id": "104abbf5",
   "metadata": {},
   "source": [
    "rows:n\n",
    "columns in row: n - i\n",
    "print: *"
   ]
  },
  {
   "cell_type": "code",
   "execution_count": 1,
   "id": "04e5d9ef",
   "metadata": {
    "scrolled": true
   },
   "outputs": [
    {
     "name": "stdout",
     "output_type": "stream",
     "text": [
      "4\n",
      "* * * * \n",
      "* * * \n",
      "* * \n",
      "* \n"
     ]
    }
   ],
   "source": [
    "n = int(input())\n",
    "\n",
    "for i in range(n):\n",
    "    for j in range(n-i):\n",
    "        print(\"*\", end = ' ')\n",
    "    print()"
   ]
  },
  {
   "cell_type": "markdown",
   "id": "882fa124",
   "metadata": {},
   "source": [
    "## Reversed Triangle"
   ]
  },
  {
   "cell_type": "raw",
   "id": "9623b3e4",
   "metadata": {},
   "source": [
    "n = 4\n",
    "\n",
    "   *\n",
    "  **\n",
    " ***\n",
    "****\n"
   ]
  },
  {
   "cell_type": "raw",
   "id": "e1ab097c",
   "metadata": {},
   "source": [
    "rows: n\n",
    "columns in row: n\n",
    "print: 'space' while j < n-i - 1 and '*' after that"
   ]
  },
  {
   "cell_type": "code",
   "execution_count": 3,
   "id": "7831697f",
   "metadata": {},
   "outputs": [
    {
     "name": "stdout",
     "output_type": "stream",
     "text": [
      "4\n",
      "   *\n",
      "  **\n",
      " ***\n",
      "****\n"
     ]
    }
   ],
   "source": [
    "n = int(input())\n",
    "\n",
    "for i in range(n):\n",
    "    for j in range(n):\n",
    "        if j < n - i - 1:\n",
    "            print(' ', end = '')\n",
    "        else:\n",
    "            print('*', end = '')\n",
    "    print()"
   ]
  },
  {
   "cell_type": "markdown",
   "id": "3044dd15",
   "metadata": {},
   "source": [
    "## Isosceles Pattern"
   ]
  },
  {
   "cell_type": "raw",
   "id": "bfbf6c9e",
   "metadata": {},
   "source": [
    "n=4\n",
    "   1\n",
    "  121\n",
    " 12321\n",
    "1234321"
   ]
  },
  {
   "cell_type": "raw",
   "id": "a4cdeca3",
   "metadata": {},
   "source": [
    "rows:n\n",
    "columns in row: (n*2)-1\n",
    "print:\n",
    "spaces = n-1\n",
    "numbers = 1\n",
    "print 'spaces' spaces followed by 'numbers' numbers, followed by 'spaces' spaces\n",
    "decrement spaces\n",
    "increment numbers by 2"
   ]
  },
  {
   "cell_type": "code",
   "execution_count": 13,
   "id": "534166c7",
   "metadata": {},
   "outputs": [
    {
     "name": "stdout",
     "output_type": "stream",
     "text": [
      "5\n",
      "    1\n",
      "   121\n",
      "  12321\n",
      " 1234321\n",
      "123454321\n"
     ]
    }
   ],
   "source": [
    "n = int(input())\n",
    "\n",
    "cols = (n*2)-1\n",
    "spaces = n - 1\n",
    "numbers = 1\n",
    "\n",
    "for i in range(n):\n",
    "    prnt = 1\n",
    "    \n",
    "    k = 0\n",
    "    while k < spaces:\n",
    "        print(' ', end = '')\n",
    "        k += 1\n",
    "    k = 0\n",
    "    while k < numbers:\n",
    "        print(prnt, end = '')\n",
    "        if k < (numbers//2):\n",
    "            prnt += 1\n",
    "        else:\n",
    "            prnt -= 1\n",
    "        k += 1\n",
    "    spaces -= 1\n",
    "    numbers += 2\n",
    "    print()"
   ]
  },
  {
   "cell_type": "markdown",
   "id": "b8cd5c6c",
   "metadata": {},
   "source": [
    "## Practice Problems"
   ]
  },
  {
   "cell_type": "markdown",
   "id": "0aa5ead1",
   "metadata": {},
   "source": [
    "### N = 4"
   ]
  },
  {
   "cell_type": "raw",
   "id": "103615f9",
   "metadata": {},
   "source": [
    "   *\n",
    "  ***\n",
    " *****\n",
    "*******\n",
    "\n",
    "   1\n",
    "  121\n",
    " 12321\n",
    "1234321\n",
    " 12321\n",
    "  121\n",
    "   1\n",
    "\n",
    "1     1\n",
    " 2   2\n",
    "  3 3\n",
    "   4\n",
    "  3 3\n",
    " 2   2\n",
    "1     1\n",
    "\n",
    "   *  \n",
    "  ***\n",
    " *****\n",
    "*******\n",
    " *****\n",
    "  ***\n",
    "   *\n"
   ]
  },
  {
   "cell_type": "markdown",
   "id": "fdc58293",
   "metadata": {},
   "source": [
    "## 1"
   ]
  },
  {
   "cell_type": "markdown",
   "id": "573892ca",
   "metadata": {},
   "source": [
    "rows: n\n",
    "columns: 2n-1\n",
    "print: n-i-1 spaces followed by 2*(i+1)-1 asterisks"
   ]
  },
  {
   "cell_type": "code",
   "execution_count": 1,
   "id": "f818ef59",
   "metadata": {},
   "outputs": [
    {
     "name": "stdout",
     "output_type": "stream",
     "text": [
      "4\n",
      "   *\n",
      "  ***\n",
      " *****\n",
      "*******\n"
     ]
    }
   ],
   "source": [
    "n = int(input())\n",
    "\n",
    "for i in range(n):\n",
    "    for j in range(n-i-1):\n",
    "        print(' ', end = '')\n",
    "    for j in range((2*(i+1))-1):\n",
    "        print('*', end = '')\n",
    "    print()    "
   ]
  },
  {
   "cell_type": "markdown",
   "id": "7f34646c",
   "metadata": {},
   "source": [
    "## 2"
   ]
  },
  {
   "cell_type": "raw",
   "id": "6703bd03",
   "metadata": {},
   "source": [
    "rows: 2n-1\n",
    "columns: 2n-1\n",
    "print: i = 1 1*1\n",
    "       i = 2 11*11\n",
    "       i = 3 111*111 etc."
   ]
  },
  {
   "cell_type": "raw",
   "id": "d236ddd7",
   "metadata": {},
   "source": [
    "   1\n",
    "  121\n",
    " 12321\n",
    "1234321\n",
    " 12321\n",
    "  121\n",
    "   1"
   ]
  },
  {
   "cell_type": "code",
   "execution_count": 30,
   "id": "72223bee",
   "metadata": {},
   "outputs": [
    {
     "name": "stdout",
     "output_type": "stream",
     "text": [
      "4\n",
      "   1\n",
      "  121\n",
      " 12321\n",
      "1234321\n",
      " 12321\n",
      "  121\n",
      "   1\n"
     ]
    }
   ],
   "source": [
    "n = int(input())\n",
    "\n",
    "spaces = n-1\n",
    "one = '1'\n",
    "\n",
    "for i in range(1,2*n):\n",
    "    #printing spaces\n",
    "    for j in range(abs(spaces)):\n",
    "        print(' ', end = '')\n",
    "    spaces -= 1\n",
    "    \n",
    "    #numbers are basically products 1*1, 11*11, 111*111 etc.; digits has the number of digits in these operands\n",
    "    if i <= n:\n",
    "        digits = i\n",
    "    else:\n",
    "        digits = (2*n) - i\n",
    "        \n",
    "    p = '1'\n",
    "    #assembling multiplier\n",
    "    for j in range(1, digits):\n",
    "        p += one\n",
    "    \n",
    "    #printing number\n",
    "    print(int(p)*int(p), end='')\n",
    "        \n",
    "    print()   "
   ]
  },
  {
   "cell_type": "markdown",
   "id": "1a433069",
   "metadata": {},
   "source": [
    "## 3"
   ]
  },
  {
   "cell_type": "raw",
   "id": "259aeaa7",
   "metadata": {},
   "source": [
    "\n",
    "1     1\n",
    " 2   2\n",
    "  3 3\n",
    "   4\n",
    "  3 3\n",
    " 2   2\n",
    "1     1\n"
   ]
  },
  {
   "cell_type": "markdown",
   "id": "da1b71ec",
   "metadata": {},
   "source": [
    "rows: 2n-1\n",
    "columns: n\n",
    "print: i-1 spaces, followed by i, followed by n-i spaces, followed by i"
   ]
  },
  {
   "cell_type": "code",
   "execution_count": 49,
   "id": "e6b75ded",
   "metadata": {},
   "outputs": [
    {
     "name": "stdout",
     "output_type": "stream",
     "text": [
      "4\n",
      "1     1\n",
      " 2   2\n",
      "  3 3\n",
      "   4 \n",
      "  3 3\n",
      " 2   2\n",
      "1     1\n"
     ]
    }
   ],
   "source": [
    "n = int(input())\n",
    "\n",
    "initial_space = 0\n",
    "middle_space = n+1\n",
    "\n",
    "for i in range(1, 2*n):\n",
    "    \n",
    "    for j in range(initial_space):\n",
    "        print(' ', end = '')\n",
    "    if i < n:\n",
    "        print(initial_space+1, end = '')\n",
    "        initial_space += 1\n",
    "    else:\n",
    "        print(initial_space+1, end = '')\n",
    "        initial_space -= 1\n",
    "    \n",
    "    \n",
    "    \n",
    "    for j in range(abs(middle_space)):\n",
    "        print(' ', end = '')\n",
    "    \n",
    "    \n",
    "    if i <n:\n",
    "        print(i, end = '')\n",
    "        middle_space -= 2\n",
    "    elif i>n:\n",
    "        print((2*n)-i, end = '')\n",
    "        middle_space -= 2\n",
    "    \n",
    "    print()       "
   ]
  },
  {
   "cell_type": "markdown",
   "id": "7b4aa5ad",
   "metadata": {},
   "source": [
    "## 4"
   ]
  },
  {
   "cell_type": "raw",
   "id": "c8114816",
   "metadata": {},
   "source": [
    "\n",
    "   *  \n",
    "  ***\n",
    " *****\n",
    "*******\n",
    " *****\n",
    "  ***\n",
    "   *"
   ]
  },
  {
   "cell_type": "raw",
   "id": "beaf7736",
   "metadata": {},
   "source": [
    "rows: 2n-1\n",
    "columns: 2n-1\n",
    "print: "
   ]
  },
  {
   "cell_type": "code",
   "execution_count": 51,
   "id": "995a0dd3",
   "metadata": {},
   "outputs": [
    {
     "name": "stdout",
     "output_type": "stream",
     "text": [
      "4\n",
      "   *\n",
      "  ***\n",
      " *****\n",
      "*******\n",
      " *****\n",
      "  ***\n",
      "   *\n"
     ]
    }
   ],
   "source": [
    "n = int(input())\n",
    "\n",
    "spaces = n-1\n",
    "\n",
    "for i in range(1, (2*n)):\n",
    "    \n",
    "    for j in range(abs(spaces)):\n",
    "        print(' ', end = '')\n",
    "    spaces -= 1\n",
    "    \n",
    "    if i <= n:\n",
    "        stars = (2*i) - 1\n",
    "    else:\n",
    "        stars = (2*(2*n-i) - 1)\n",
    "        \n",
    "    for j in range(stars):\n",
    "        print('*', end = '')\n",
    "        \n",
    "    print()"
   ]
  }
 ],
 "metadata": {
  "kernelspec": {
   "display_name": "Python 3 (ipykernel)",
   "language": "python",
   "name": "python3"
  },
  "language_info": {
   "codemirror_mode": {
    "name": "ipython",
    "version": 3
   },
   "file_extension": ".py",
   "mimetype": "text/x-python",
   "name": "python",
   "nbconvert_exporter": "python",
   "pygments_lexer": "ipython3",
   "version": "3.11.4"
  }
 },
 "nbformat": 4,
 "nbformat_minor": 5
}
