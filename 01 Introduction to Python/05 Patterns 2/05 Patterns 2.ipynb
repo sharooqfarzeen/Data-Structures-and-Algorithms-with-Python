{
 "cells": [
  {
   "cell_type": "markdown",
   "id": "b26d00ae",
   "metadata": {},
   "source": [
    "### Code : Inverted Number Pattern"
   ]
  },
  {
   "cell_type": "raw",
   "id": "3d54bcd7",
   "metadata": {},
   "source": [
    "Pattern for N = 4\n",
    "\n",
    "4444\n",
    "333\n",
    "22\n",
    "1"
   ]
  },
  {
   "cell_type": "raw",
   "id": "59be3a84",
   "metadata": {},
   "source": [
    "rows: n\n",
    "columns in row: n - i\n",
    "print: n - i"
   ]
  },
  {
   "cell_type": "code",
   "execution_count": 1,
   "id": "963c2daf",
   "metadata": {},
   "outputs": [
    {
     "name": "stdout",
     "output_type": "stream",
     "text": [
      "4\n",
      "4 4 4 4 \n",
      "3 3 3 \n",
      "2 2 \n",
      "1 \n"
     ]
    }
   ],
   "source": [
    "n = int(input())\n",
    "\n",
    "for i in range(n):\n",
    "    for j in range(n-i):\n",
    "        print(n-i, end = ' ')\n",
    "    print()"
   ]
  },
  {
   "cell_type": "markdown",
   "id": "b090dd41",
   "metadata": {},
   "source": [
    "### Code : Mirror Number Pattern"
   ]
  },
  {
   "cell_type": "raw",
   "id": "711c8574",
   "metadata": {},
   "source": [
    "Pattern for N = 4\n",
    "\n",
    "   1\n",
    "  12\n",
    " 123\n",
    "1234  "
   ]
  },
  {
   "cell_type": "raw",
   "id": "af8dcc7a",
   "metadata": {},
   "source": [
    "rows: n\n",
    "columns in row: n\n",
    "print: 'space' while j < n - i - 1 and a count variable for numbers printed in each row after that"
   ]
  },
  {
   "cell_type": "code",
   "execution_count": 2,
   "id": "e87cff0a",
   "metadata": {},
   "outputs": [
    {
     "name": "stdout",
     "output_type": "stream",
     "text": [
      "4\n",
      "   1\n",
      "  12\n",
      " 123\n",
      "1234\n"
     ]
    }
   ],
   "source": [
    "n = int(input())\n",
    "\n",
    "for i in range(n):\n",
    "    count = 1\n",
    "    for j in range(n):\n",
    "        \n",
    "        if j < n -i -1:\n",
    "            print(' ', end = '')\n",
    "        else:\n",
    "            print(count, end ='')\n",
    "            count += 1\n",
    "    print()"
   ]
  },
  {
   "cell_type": "markdown",
   "id": "e0839311",
   "metadata": {},
   "source": [
    "### Code : Star Pattern"
   ]
  },
  {
   "cell_type": "raw",
   "id": "adc1f112",
   "metadata": {},
   "source": [
    "n=4\n",
    "\n",
    "   *\n",
    "  ***\n",
    " *****\n",
    "*******"
   ]
  },
  {
   "cell_type": "raw",
   "id": "b858ef51",
   "metadata": {},
   "source": [
    "rows: n\n",
    "cols: 2n-1\n",
    "print: n-i-1 spaces followed by 2(i+1)-1 stars"
   ]
  },
  {
   "cell_type": "code",
   "execution_count": 5,
   "id": "9d589233",
   "metadata": {},
   "outputs": [
    {
     "name": "stdout",
     "output_type": "stream",
     "text": [
      "4\n",
      "   *\n",
      "  ***\n",
      " *****\n",
      "*******\n"
     ]
    }
   ],
   "source": [
    "n = int(input())\n",
    "\n",
    "for i in range(n):\n",
    "    count = 0\n",
    "    while count < (n-i-1):\n",
    "        print(' ', end = '')\n",
    "        count += 1\n",
    "    count = 0\n",
    "    while count < (2*(i+1)-1):\n",
    "        print('*', end = '')\n",
    "        count += 1\n",
    "    print()"
   ]
  },
  {
   "cell_type": "markdown",
   "id": "7be6a9ee",
   "metadata": {},
   "source": [
    "### Code : Triangle of Numbers"
   ]
  },
  {
   "cell_type": "raw",
   "id": "756b2a47",
   "metadata": {},
   "source": [
    "n=4\n",
    "\n",
    "   1\n",
    "  232\n",
    " 34543\n",
    "4567654"
   ]
  },
  {
   "cell_type": "raw",
   "id": "882d0414",
   "metadata": {},
   "source": [
    "rows: 4\n",
    "columns: 2n-1\n",
    "print: n-i -1 spaces followed by (2(i+1)-1) = odd numbers\n",
    "       numbers start from i=1\n",
    "       increment until odd//2 and decrement after that"
   ]
  },
  {
   "cell_type": "code",
   "execution_count": 8,
   "id": "bf457457",
   "metadata": {
    "scrolled": true
   },
   "outputs": [
    {
     "name": "stdout",
     "output_type": "stream",
     "text": [
      "5\n",
      "    1\n",
      "   232\n",
      "  34543\n",
      " 4567654\n",
      "567898765\n"
     ]
    }
   ],
   "source": [
    "n = int(input())\n",
    "\n",
    "for i in range(n):\n",
    "    #number of spaces in each row\n",
    "    spaces = n - i - 1\n",
    "    #number of numbers in each row\n",
    "    numbers = (2*(i+1)-1)\n",
    "    #count of prints done\n",
    "    count = 0\n",
    "    #print 'spaces' spaces\n",
    "    while count < spaces:\n",
    "        print(' ', end = '')\n",
    "        count += 1\n",
    "    count = 0\n",
    "    #number to be printed\n",
    "    p = i+1\n",
    "    #printing 'numbers' numbers\n",
    "    while count < numbers:\n",
    "        print(p, end = '')\n",
    "        if count < (numbers//2):\n",
    "            p += 1\n",
    "        else:\n",
    "            p -= 1\n",
    "        count += 1\n",
    "    print()"
   ]
  },
  {
   "cell_type": "markdown",
   "id": "f60a30e3",
   "metadata": {},
   "source": [
    "## Assignment"
   ]
  },
  {
   "cell_type": "markdown",
   "id": "69e372c5",
   "metadata": {},
   "source": [
    "### Number Pattern"
   ]
  },
  {
   "cell_type": "raw",
   "id": "d3482d8d",
   "metadata": {},
   "source": [
    "n=4\n",
    "\n",
    "1      1\n",
    "12    21\n",
    "123  321\n",
    "12344321"
   ]
  },
  {
   "cell_type": "raw",
   "id": "74cc8f02",
   "metadata": {},
   "source": [
    "rows = n\n",
    "columns = 2n-1\n",
    "print: i+1 numbers followed by even number of spaces starting from 2n-2 to 0 followed by i+1 numbers\n",
    "       "
   ]
  },
  {
   "cell_type": "code",
   "execution_count": 9,
   "id": "181c6a5a",
   "metadata": {},
   "outputs": [
    {
     "name": "stdout",
     "output_type": "stream",
     "text": [
      "4\n",
      "1      1\n",
      "12    21\n",
      "123  321\n",
      "12344321\n"
     ]
    }
   ],
   "source": [
    "n = int(input())\n",
    "\n",
    "for i in range(n):\n",
    "    numbers = i+1\n",
    "    #even number of spaces starting from 2n-2 to 0\n",
    "    spaces = 2*n-((i+1)*2)\n",
    "    \n",
    "    #count of prints\n",
    "    count = 0\n",
    "    p = 0\n",
    "    #printing first set of numbers\n",
    "    while count < numbers:\n",
    "        p += 1\n",
    "        print(p, end = '')\n",
    "        count += 1\n",
    "        \n",
    "    count = 0\n",
    "    #printing spaces\n",
    "    while count < spaces:\n",
    "        print(' ', end = '')\n",
    "        count += 1\n",
    "        \n",
    "    count = 0\n",
    "    #printing second set of numbers\n",
    "    while count < numbers:\n",
    "        print(p, end = '')\n",
    "        count += 1\n",
    "        p -= 1\n",
    "    \n",
    "    print()"
   ]
  },
  {
   "cell_type": "markdown",
   "id": "b83106a5",
   "metadata": {},
   "source": [
    "### Zeros and Stars Pattern"
   ]
  },
  {
   "cell_type": "raw",
   "id": "3d1979a0",
   "metadata": {},
   "source": [
    "Pattern for N = 4\n",
    "\n",
    "*000*000*\n",
    "0*00*00*0\n",
    "00*0*0*00\n",
    "000***000"
   ]
  },
  {
   "cell_type": "raw",
   "id": "9d7b5e30",
   "metadata": {},
   "source": [
    "rows: n\n",
    "columns in each row: 2n+1\n",
    "print: print a * at counts (i), (n) and (n-i-1)"
   ]
  },
  {
   "cell_type": "code",
   "execution_count": 20,
   "id": "70f221da",
   "metadata": {},
   "outputs": [
    {
     "name": "stdout",
     "output_type": "stream",
     "text": [
      "8\n",
      "*0000000*0000000*\n",
      "0*000000*000000*0\n",
      "00*00000*00000*00\n",
      "000*0000*0000*000\n",
      "0000*000*000*0000\n",
      "00000*00*00*00000\n",
      "000000*0*0*000000\n",
      "0000000***0000000\n"
     ]
    }
   ],
   "source": [
    "n = int(input())\n",
    "\n",
    "#number of columns\n",
    "m = (2*n) + 1\n",
    "for i in range (n):\n",
    "    count = 0\n",
    "    for j in range(m):\n",
    "        if count in {i, n, m-i-1}:\n",
    "            print('*', end = '')\n",
    "        else:\n",
    "            print('0', end = '')\n",
    "        count += 1\n",
    "    print()"
   ]
  },
  {
   "cell_type": "markdown",
   "id": "3e86d923",
   "metadata": {},
   "source": [
    "### Pyramid Number Pattern"
   ]
  },
  {
   "cell_type": "raw",
   "id": "faf3b132",
   "metadata": {},
   "source": [
    "Pattern for N = 4\n",
    "   1\n",
    "  212\n",
    " 32123\n",
    "4321234"
   ]
  },
  {
   "cell_type": "raw",
   "id": "d79c926a",
   "metadata": {},
   "source": [
    "row: n\n",
    "columns: 2n-1\n",
    "print: n-i-1 spaces followed by odd number(2(i+1)-1) numbers\n",
    "       numbers start from i+1\n",
    "       decrease by 1 until odd number//2\n",
    "       increase for the rest"
   ]
  },
  {
   "cell_type": "code",
   "execution_count": 22,
   "id": "dbd3ab16",
   "metadata": {},
   "outputs": [
    {
     "name": "stdout",
     "output_type": "stream",
     "text": [
      "4\n",
      "   1\n",
      "  212\n",
      " 32123\n",
      "4321234\n"
     ]
    }
   ],
   "source": [
    "n = int(input())\n",
    "\n",
    "for i in range(n):\n",
    "    \n",
    "    spaces = n-i-1\n",
    "    #i+1 th odd number\n",
    "    numbers = (2*(i+1))-1\n",
    "    \n",
    "    count = 0\n",
    "    while count < spaces:\n",
    "        print(' ', end = '')\n",
    "        count += 1\n",
    "        \n",
    "    start = i + 1\n",
    "    count = 0\n",
    "    while count < numbers:\n",
    "        print(start, end = '')\n",
    "        if count < numbers//2:\n",
    "            start -= 1\n",
    "        else:\n",
    "            start += 1\n",
    "        count += 1\n",
    "    print()"
   ]
  },
  {
   "cell_type": "markdown",
   "id": "69a4c1c7",
   "metadata": {},
   "source": [
    "### Arrow pattern"
   ]
  },
  {
   "cell_type": "raw",
   "id": "a840a6ea",
   "metadata": {},
   "source": [
    "Assume N is always odd.\n",
    "Note : There is space after every star.\n",
    "Pattern for N = 7\n",
    "\n",
    "*\n",
    " * *\n",
    "   * * *\n",
    "     * * * *\n",
    "   * * *\n",
    " * *\n",
    "*"
   ]
  },
  {
   "cell_type": "raw",
   "id": "27a1bde6",
   "metadata": {},
   "source": [
    "rows: n\n",
    "columns: \n",
    "print: keep a count of rows prinited\n",
    "       print count+1 stars\n",
    "       increment count until count < n//2+1 and decrement afterwards\n",
    "       \n",
    "2 4 7\n",
    "1 5 7\n",
    "0 6 7"
   ]
  },
  {
   "cell_type": "code",
   "execution_count": 27,
   "id": "a53df12c",
   "metadata": {},
   "outputs": [
    {
     "name": "stdout",
     "output_type": "stream",
     "text": [
      "11\n",
      "* \n",
      " * * \n",
      "  * * * \n",
      "   * * * * \n",
      "    * * * * * \n",
      "     * * * * * * \n",
      "    * * * * * \n",
      "   * * * * \n",
      "  * * * \n",
      " * * \n",
      "* \n"
     ]
    }
   ],
   "source": [
    "n = int(input())\n",
    "count = 0\n",
    "\n",
    "for i in range(n):\n",
    "    \n",
    "    if i < (n//2)+1:\n",
    "        spaces = i\n",
    "        stars = i + 1\n",
    "    else:\n",
    "        spaces = n - i - 1\n",
    "        stars = n - i\n",
    "    \n",
    "    count = 0\n",
    "    while count < spaces:\n",
    "        print(' ', end = '')\n",
    "        count += 1\n",
    "    \n",
    "    count = 0\n",
    "    while count < stars:\n",
    "        print('* ', end = '')\n",
    "        count += 1\n",
    "    print()"
   ]
  }
 ],
 "metadata": {
  "kernelspec": {
   "display_name": "Python 3 (ipykernel)",
   "language": "python",
   "name": "python3"
  },
  "language_info": {
   "codemirror_mode": {
    "name": "ipython",
    "version": 3
   },
   "file_extension": ".py",
   "mimetype": "text/x-python",
   "name": "python",
   "nbconvert_exporter": "python",
   "pygments_lexer": "ipython3",
   "version": "3.11.4"
  }
 },
 "nbformat": 4,
 "nbformat_minor": 5
}
