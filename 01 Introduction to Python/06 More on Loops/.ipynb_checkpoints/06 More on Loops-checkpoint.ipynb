{
 "cells": [
  {
   "cell_type": "markdown",
   "id": "31074103",
   "metadata": {},
   "source": [
    "# Assignment"
   ]
  },
  {
   "cell_type": "markdown",
   "id": "d25e4d65",
   "metadata": {},
   "source": [
    "## Binary Pattern"
   ]
  },
  {
   "cell_type": "raw",
   "id": "bc78d9f3",
   "metadata": {},
   "source": [
    "Pattern for N = 4\n",
    "\n",
    "1111\n",
    "000\n",
    "11\n",
    "0"
   ]
  },
  {
   "cell_type": "raw",
   "id": "5d34170f",
   "metadata": {},
   "source": [
    "rows: n\n",
    "columns in row: n-i+1\n",
    "print: 1 for odd, o for even row"
   ]
  },
  {
   "cell_type": "code",
   "execution_count": 4,
   "id": "96bea3d3",
   "metadata": {},
   "outputs": [
    {
     "name": "stdout",
     "output_type": "stream",
     "text": [
      "4\n",
      "1111\n",
      "000\n",
      "11\n",
      "0\n"
     ]
    }
   ],
   "source": [
    "n = int(input())\n",
    "\n",
    "for i in range(1, n+1):\n",
    "    for j in range(1, n-i+2):\n",
    "        if i % 2 == 0:\n",
    "            print(0, end = '')\n",
    "        else:\n",
    "            print(1, end = '')\n",
    "    print()"
   ]
  },
  {
   "cell_type": "markdown",
   "id": "dd230cc6",
   "metadata": {},
   "source": [
    "## Print Number Pyramid"
   ]
  },
  {
   "cell_type": "raw",
   "id": "24e8d00e",
   "metadata": {},
   "source": [
    "For eg. N = 6\n",
    "\n",
    "123456\n",
    " 23456\n",
    "  3456\n",
    "   456\n",
    "    56\n",
    "     6\n",
    "    56\n",
    "   456\n",
    "  3456\n",
    " 23456\n",
    "123456"
   ]
  },
  {
   "cell_type": "raw",
   "id": "eb2ba6a8",
   "metadata": {},
   "source": [
    "rows: 2n-1\n",
    "columns: n\n",
    "print: i-1 spaces until i <= n \n",
    "       2n-1-i spaces aftwewards\n",
    "       \n",
    "       numbers from i to n \n",
    "\n",
    "1\n",
    "2   \n",
    "3\n",
    "4\n",
    "5\n",
    "6\n",
    "7\n",
    "8\n",
    "9\n",
    "10\n",
    "11"
   ]
  },
  {
   "cell_type": "code",
   "execution_count": 8,
   "id": "3fed6b29",
   "metadata": {},
   "outputs": [
    {
     "name": "stdout",
     "output_type": "stream",
     "text": [
      "6\n",
      "123456\n",
      " 23456\n",
      "  3456\n",
      "   456\n",
      "    56\n",
      "     6\n",
      "    56\n",
      "   456\n",
      "  3456\n",
      " 23456\n",
      "123456\n"
     ]
    }
   ],
   "source": [
    "n = int(input())\n",
    "\n",
    "for i in range(1, 2*n):\n",
    "    if i<= n:\n",
    "        spaces = i - 1\n",
    "        start_number = i\n",
    "    else:\n",
    "        spaces = (2*n)-1-i\n",
    "        start_number = (2*n)-i\n",
    "    \n",
    "    for j in range(spaces):\n",
    "        print(' ', end = '')\n",
    "        \n",
    "    for j in range(start_number, n+1):\n",
    "        print(j, end = '')\n",
    "    \n",
    "    print()"
   ]
  },
  {
   "cell_type": "markdown",
   "id": "4dc81c98",
   "metadata": {},
   "source": [
    "## Diamond of stars"
   ]
  },
  {
   "cell_type": "raw",
   "id": "5d6e25a4",
   "metadata": {},
   "source": [
    "N=5\n",
    "\n",
    "  *\n",
    " ***\n",
    "*****\n",
    " ***\n",
    "  *"
   ]
  },
  {
   "cell_type": "raw",
   "id": "d1615d52",
   "metadata": {},
   "source": [
    "rows: n\n",
    "columns: n\n",
    "print: spaces starting from n//2 and decrement - use abs()\n",
    "       2i-1 asterisks until n//2+1, (n+1-i)th odd number of asterisks after that"
   ]
  },
  {
   "cell_type": "code",
   "execution_count": 14,
   "id": "90c4fb7b",
   "metadata": {
    "scrolled": true
   },
   "outputs": [
    {
     "name": "stdout",
     "output_type": "stream",
     "text": [
      "23\n",
      "           *\n",
      "          ***\n",
      "         *****\n",
      "        *******\n",
      "       *********\n",
      "      ***********\n",
      "     *************\n",
      "    ***************\n",
      "   *****************\n",
      "  *******************\n",
      " *********************\n",
      "***********************\n",
      " *********************\n",
      "  *******************\n",
      "   *****************\n",
      "    ***************\n",
      "     *************\n",
      "      ***********\n",
      "       *********\n",
      "        *******\n",
      "         *****\n",
      "          ***\n",
      "           *\n"
     ]
    }
   ],
   "source": [
    "n = int(input())\n",
    "\n",
    "spaces = n//2\n",
    "\n",
    "for i in range(1, n+1):\n",
    "    \n",
    "    for j in range(abs(spaces)):\n",
    "        print(' ', end = '')\n",
    "    spaces -= 1\n",
    "    \n",
    "    if i <= (n//2)+1:\n",
    "        asterisks = (2*i)-1\n",
    "    else:\n",
    "        asterisks = 2*(n+1-i)-1\n",
    "        \n",
    "    for j in range(asterisks):\n",
    "        print('*', end = '')\n",
    "        \n",
    "    print()  "
   ]
  },
  {
   "cell_type": "markdown",
   "id": "bb7da220",
   "metadata": {},
   "source": [
    "## Rectangular numbers"
   ]
  },
  {
   "cell_type": "raw",
   "id": "c00eee2c",
   "metadata": {},
   "source": [
    "Pattern for N = 4\n",
    "\n",
    "4444444\n",
    "4333334\n",
    "4322234\n",
    "4321234\n",
    "4322234\n",
    "4333334  \n",
    "4444444"
   ]
  },
  {
   "cell_type": "raw",
   "id": "fde22923",
   "metadata": {},
   "source": [
    "row: 2n-1\n",
    "columns: 2n-1\n",
    "print: "
   ]
  },
  {
   "cell_type": "code",
   "execution_count": 16,
   "id": "a73bac96",
   "metadata": {},
   "outputs": [
    {
     "name": "stdout",
     "output_type": "stream",
     "text": [
      "4\n",
      "4444444\n",
      "4333334\n",
      "4322234\n",
      "4321234\n",
      "4322234\n",
      "4333334\n",
      "4444444\n"
     ]
    }
   ],
   "source": [
    "n = int(input())\n",
    "\n",
    "higher_index = (2*n) - 2\n",
    "lower_index = 0\n",
    "\n",
    "for i in range((2*n)-1):\n",
    "    num = n\n",
    "    for j in range((2*n)-1):\n",
    "        \n",
    "        print(num, end = '')\n",
    "        \n",
    "        if j < lower_index:\n",
    "            num -= 1\n",
    "            \n",
    "        if j>= higher_index:\n",
    "            num += 1\n",
    "            \n",
    "    lower_index += 1\n",
    "    higher_index -= 1\n",
    "    print()       "
   ]
  },
  {
   "cell_type": "markdown",
   "id": "89f69485",
   "metadata": {},
   "source": [
    "## Print the pattern"
   ]
  },
  {
   "cell_type": "raw",
   "id": "64252a9b",
   "metadata": {},
   "source": [
    "Pattern for N = 5\n",
    " \n",
    " 1    2   3    4   5\n",
    " 11   12  13   14  15\n",
    " 21   22  23   24  25\n",
    " 16   17  18   19  20\n",
    " 6    7    8   9   10"
   ]
  },
  {
   "cell_type": "raw",
   "id": "14123f53",
   "metadata": {},
   "source": [
    "rows: n\n",
    "columns: n\n",
    "print: until i <= n//2 +1, print (n*(2*i))+j\n",
    "       print (n*(2(n-i)-1))+j)"
   ]
  },
  {
   "cell_type": "code",
   "execution_count": 27,
   "id": "e246d269",
   "metadata": {},
   "outputs": [
    {
     "name": "stdout",
     "output_type": "stream",
     "text": [
      "5\n",
      "1 2 3 4 5 \n",
      "11 12 13 14 15 \n",
      "21 22 23 24 25 \n",
      "16 17 18 19 20 \n",
      "6 7 8 9 10 \n"
     ]
    }
   ],
   "source": [
    "import math\n",
    "\n",
    "n = int(input())\n",
    "\n",
    "for i in range(n):\n",
    "    for j in range(n):\n",
    "        \n",
    "        if i < math.ceil(n/2):\n",
    "            print((n*(2*i))+j+1, end = ' ')\n",
    "        else:\n",
    "            print((n*(2*(n-i)-1))+j+1, end = ' ')\n",
    "            \n",
    "    print()"
   ]
  }
 ],
 "metadata": {
  "kernelspec": {
   "display_name": "Python 3 (ipykernel)",
   "language": "python",
   "name": "python3"
  },
  "language_info": {
   "codemirror_mode": {
    "name": "ipython",
    "version": 3
   },
   "file_extension": ".py",
   "mimetype": "text/x-python",
   "name": "python",
   "nbconvert_exporter": "python",
   "pygments_lexer": "ipython3",
   "version": "3.11.4"
  }
 },
 "nbformat": 4,
 "nbformat_minor": 5
}
