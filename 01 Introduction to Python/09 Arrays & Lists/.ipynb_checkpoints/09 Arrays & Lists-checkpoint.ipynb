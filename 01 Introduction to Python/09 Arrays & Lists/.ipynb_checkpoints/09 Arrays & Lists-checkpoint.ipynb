{
 "cells": [
  {
   "cell_type": "markdown",
   "id": "8ddf1f74",
   "metadata": {},
   "source": [
    "## Array Sum"
   ]
  },
  {
   "cell_type": "code",
   "execution_count": 2,
   "id": "367dab6c",
   "metadata": {},
   "outputs": [
    {
     "name": "stdout",
     "output_type": "stream",
     "text": [
      "3\n",
      "9 8 9\n",
      "26\n"
     ]
    }
   ],
   "source": [
    "n = int(input())\n",
    "\n",
    "s = 0\n",
    "\n",
    "for i in input().split():\n",
    "    s += int(i)\n",
    "    \n",
    "print(s)"
   ]
  },
  {
   "cell_type": "markdown",
   "id": "73f8801e",
   "metadata": {},
   "source": [
    "## Swap Alternate"
   ]
  },
  {
   "cell_type": "raw",
   "id": "3913d8dd",
   "metadata": {},
   "source": [
    "i/p\n",
    "a = [1,2,3,4]\n",
    "a = [1,2,3,4,5]\n",
    "o/p\n",
    "[2,1,4,3]\n",
    "[2,1,4,3,5]\n",
    "\n",
    "for i from 0 to (2*(len(a)//2))-2 or i in range(2*(len(a)//2)-1)\n",
    "swap a[i] with a[i+1]"
   ]
  },
  {
   "cell_type": "code",
   "execution_count": 5,
   "id": "e476fe15",
   "metadata": {},
   "outputs": [
    {
     "name": "stdout",
     "output_type": "stream",
     "text": [
      "4\n",
      "4\n"
     ]
    }
   ],
   "source": [
    "a = 4\n",
    "b = 5\n",
    "print(2*(a//2))\n",
    "print(2*(b//2))"
   ]
  },
  {
   "cell_type": "code",
   "execution_count": null,
   "id": "0f39db46",
   "metadata": {},
   "outputs": [],
   "source": [
    "def swapAlternate(arr, n):\n",
    "    arr[:(n//2)*2:2], arr[1::2] = arr[1::2], arr[:(n//2)*2:2]\n",
    "\n",
    "a = [1,2,3,4]\n",
    "b = [1,2,3,4,5]        \n",
    "swapAlternate(a,4)\n",
    "swapAlternate(b,5)\n",
    "print(a)\n",
    "print(b)"
   ]
  },
  {
   "cell_type": "code",
   "execution_count": 8,
   "id": "a99a988f",
   "metadata": {},
   "outputs": [
    {
     "name": "stdout",
     "output_type": "stream",
     "text": [
      "[2, 1, 4, 3]\n",
      "[2, 1, 4, 3, 5]\n"
     ]
    }
   ],
   "source": [
    "def swapAlternate(arr, n):\n",
    "    for i in range(0,(2*(len(arr)//2))-1,2):\n",
    "        arr[i], arr[i+1] = arr[i+1], arr[i]\n",
    "\n",
    "a = [1,2,3,4]\n",
    "b = [1,2,3,4,5]        \n",
    "swapAlternate(a,4)\n",
    "swapAlternate(b,5)\n",
    "print(a)\n",
    "print(b)"
   ]
  },
  {
   "cell_type": "markdown",
   "id": "4b0d7b90",
   "metadata": {},
   "source": [
    "# Assignment"
   ]
  },
  {
   "cell_type": "markdown",
   "id": "c5ad7a62",
   "metadata": {},
   "source": [
    "## Find Unique"
   ]
  },
  {
   "cell_type": "markdown",
   "id": "523d5e26",
   "metadata": {},
   "source": [
    "#### Udayipp"
   ]
  },
  {
   "cell_type": "code",
   "execution_count": 11,
   "id": "5dfd82b8",
   "metadata": {},
   "outputs": [
    {
     "name": "stdout",
     "output_type": "stream",
     "text": [
      "3\n"
     ]
    }
   ],
   "source": [
    "def findUnique(arr, n):\n",
    "    for i in arr:\n",
    "        if arr.count(i) == 1:\n",
    "            return i\n",
    "\n",
    "a = [1,1,2,2,3]\n",
    "print(findUnique(a, 5))"
   ]
  },
  {
   "cell_type": "markdown",
   "id": "f430fe97",
   "metadata": {},
   "source": [
    "#### Not Udayip"
   ]
  },
  {
   "cell_type": "code",
   "execution_count": 12,
   "id": "8b05115c",
   "metadata": {},
   "outputs": [
    {
     "name": "stdout",
     "output_type": "stream",
     "text": [
      "3\n"
     ]
    }
   ],
   "source": [
    "def findUnique(arr, n):\n",
    "    for i in range(n):\n",
    "        if (arr[i] not in arr[:i]) and (arr[i] not in arr[i+1:]):\n",
    "            return arr[i] \n",
    "    \n",
    "a = [1,1,2,2,3]\n",
    "print(findUnique(a, 5))"
   ]
  },
  {
   "cell_type": "code",
   "execution_count": 17,
   "id": "71b011ff",
   "metadata": {},
   "outputs": [
    {
     "name": "stdout",
     "output_type": "stream",
     "text": [
      "3\n"
     ]
    }
   ],
   "source": [
    "def findUnique(arr, n):\n",
    "    i = 0\n",
    "    while i < n:\n",
    "        a = arr.pop(i)\n",
    "        n -= 1\n",
    "        if a in arr:\n",
    "            arr.remove(a)\n",
    "            n -= 1\n",
    "        else:\n",
    "            return a\n",
    "    \n",
    "a = [1,1,3,2,2]\n",
    "print(findUnique(a, 5))"
   ]
  },
  {
   "cell_type": "markdown",
   "id": "e98ef2e7",
   "metadata": {},
   "source": [
    "## Find Duplicate"
   ]
  },
  {
   "cell_type": "markdown",
   "id": "414fa725",
   "metadata": {},
   "source": [
    "#### Udayipp"
   ]
  },
  {
   "cell_type": "code",
   "execution_count": null,
   "id": "12649075",
   "metadata": {},
   "outputs": [],
   "source": [
    "def duplicateNumber(arr, n):\n",
    "    for i in arr:\n",
    "        if arr.count(i) == 2:\n",
    "            return i"
   ]
  },
  {
   "cell_type": "markdown",
   "id": "2c12cdab",
   "metadata": {},
   "source": [
    "#### Not Udayipp"
   ]
  },
  {
   "cell_type": "code",
   "execution_count": 19,
   "id": "7b234e1b",
   "metadata": {},
   "outputs": [
    {
     "name": "stdout",
     "output_type": "stream",
     "text": [
      "3\n"
     ]
    }
   ],
   "source": [
    "def duplicateNumber(arr, n):\n",
    "    for i in range(n):\n",
    "        if (arr[i] in arr[i+1:]):\n",
    "            return arr[i]\n",
    "    \n",
    "a = [1,2,3,3,4]\n",
    "print(findUnique(a, 5))"
   ]
  },
  {
   "cell_type": "markdown",
   "id": "e83023b2",
   "metadata": {},
   "source": [
    "## Intersection of Two Arrays II"
   ]
  },
  {
   "cell_type": "code",
   "execution_count": 15,
   "id": "8860374c",
   "metadata": {},
   "outputs": [
    {
     "name": "stdout",
     "output_type": "stream",
     "text": [
      "2 2 2 "
     ]
    }
   ],
   "source": [
    "#repeating numbers have to be considered individually\n",
    "## for examples for arrays [2,2,2,2] and [2,1,2,2], number 2 has to be printed thrice\n",
    "def intersections(arr1, n, arr2, m):\n",
    "    common = []\n",
    "    for i in arr1:\n",
    "        if i in arr2:\n",
    "            common.append(i)\n",
    "            arr2.remove(i)\n",
    "    [print(i, end = ' ') for i in common]\n",
    "\n",
    "arr1 = [2, 1, 2, 2]\n",
    "arr2 = [2, 2, 2, 2]\n",
    "intersections(arr1,5,arr2,5)"
   ]
  },
  {
   "cell_type": "code",
   "execution_count": 20,
   "id": "9de941c8",
   "metadata": {},
   "outputs": [
    {
     "name": "stdout",
     "output_type": "stream",
     "text": [
      "2 2 2 "
     ]
    }
   ],
   "source": [
    "#repeating numbers have to be considered individually\n",
    "## for examples for arrays [2,2,2,2] and [2,1,2,2], number 2 has to be printed thrice\n",
    "def intersections(arr1, n, arr2, m):\n",
    "    for i in arr1:\n",
    "        if i in arr2:\n",
    "            print(i, end = ' ')\n",
    "            arr2.remove(i)\n",
    "\n",
    "arr1 = [2, 1, 2, 2]\n",
    "arr2 = [2, 2, 2, 2]\n",
    "intersections(arr1,5,arr2,5)"
   ]
  },
  {
   "cell_type": "markdown",
   "id": "1a4578ee",
   "metadata": {},
   "source": [
    "## Pair Sum"
   ]
  },
  {
   "cell_type": "raw",
   "id": "6520a85c",
   "metadata": {},
   "source": [
    "go through each element and find its sum with successive elements in the list"
   ]
  },
  {
   "cell_type": "code",
   "execution_count": 16,
   "id": "d4e8bd64",
   "metadata": {},
   "outputs": [
    {
     "name": "stdout",
     "output_type": "stream",
     "text": [
      "7\n"
     ]
    }
   ],
   "source": [
    "def pairSum(arr, n, x):\n",
    "    pairs = 0\n",
    "    l = len(arr)\n",
    "    for i in range(l-1):\n",
    "        for j in range(i+1, l):\n",
    "            if arr[i] + arr[j] == x:\n",
    "                pairs += 1\n",
    "    return pairs\n",
    "\n",
    "a = [1, 3, 6, 2, 5, 4, 3, 2, 4]\n",
    "print(pairSum(a, 9, 7))"
   ]
  },
  {
   "cell_type": "markdown",
   "id": "62a214f2",
   "metadata": {},
   "source": [
    "## Triplet Sum"
   ]
  },
  {
   "cell_type": "code",
   "execution_count": 21,
   "id": "1b47a8f5",
   "metadata": {},
   "outputs": [
    {
     "name": "stdout",
     "output_type": "stream",
     "text": [
      "5\n"
     ]
    }
   ],
   "source": [
    "def findTriplet(arr,n,x):\n",
    "    triplets = 0\n",
    "    l = len(arr)\n",
    "    for i in range(l-2):\n",
    "        for j in range(i+1, l-1):\n",
    "            for k in range(j+1, l):\n",
    "                if arr[i] + arr[j] + arr[k] == x:\n",
    "                    triplets += 1\n",
    "    return triplets\n",
    "\n",
    "a = [1, 2, 3, 4, 5, 6, 7]\n",
    "print(findTriplet(a, 7, 12))"
   ]
  },
  {
   "cell_type": "markdown",
   "id": "b959cc5b",
   "metadata": {},
   "source": [
    "## Sort 0 1"
   ]
  },
  {
   "cell_type": "code",
   "execution_count": 24,
   "id": "be480709",
   "metadata": {},
   "outputs": [
    {
     "name": "stdout",
     "output_type": "stream",
     "text": [
      "[0, 0, 0, 1, 1, 1, 1]\n"
     ]
    }
   ],
   "source": [
    "def sortZeroesAndOne(arr, n):\n",
    "    zeros = arr.count(0)\n",
    "    for i in range(n):\n",
    "        if i < zeros:\n",
    "            arr[i] = 0\n",
    "        else:\n",
    "            arr[i] = 1\n",
    "        \n",
    "arr = [0, 1, 1, 0, 1, 0, 1]\n",
    "n = 7\n",
    "sortZeroesAndOne(arr, n)\n",
    "print(arr)"
   ]
  },
  {
   "cell_type": "code",
   "execution_count": 31,
   "id": "ddca208b",
   "metadata": {},
   "outputs": [
    {
     "name": "stdout",
     "output_type": "stream",
     "text": [
      "[0, 0, 0, 1, 1, 1, 1]\n"
     ]
    }
   ],
   "source": [
    "def sortZeroesAndOne(arr, n):\n",
    "    zeros = 0\n",
    "    for i in arr:\n",
    "        if i == 0:\n",
    "            zeros += 1\n",
    "    one  = n - zeros\n",
    "    arr[:zeros] = [0]*zeros\n",
    "    arr[zeros:] = [1]*one\n",
    "\n",
    "arr = [0, 1, 1, 0, 1, 0, 1]\n",
    "n = 7\n",
    "sortZeroesAndOne(arr, n)\n",
    "print(arr)    "
   ]
  },
  {
   "cell_type": "code",
   "execution_count": 30,
   "id": "9f0430c6",
   "metadata": {},
   "outputs": [
    {
     "name": "stdout",
     "output_type": "stream",
     "text": [
      "[0, 0, 0, 1, 1, 1, 1]\n"
     ]
    }
   ],
   "source": [
    "def sortZeroesAndOne(arr, n):\n",
    "    li = []\n",
    "    for i in arr:\n",
    "        if i == 0:\n",
    "            li.insert(0, 0)\n",
    "        else:\n",
    "            li.append(1)\n",
    "    return li\n",
    "    \n",
    "arr = [0, 1, 1, 0, 1, 0, 1]\n",
    "n = 7\n",
    "arr = sortZeroesAndOne(arr, n)\n",
    "print(arr)    "
   ]
  },
  {
   "cell_type": "code",
   "execution_count": 21,
   "id": "ea2e47a1",
   "metadata": {},
   "outputs": [
    {
     "data": {
      "text/plain": [
       "[0, 0, 0, 0, 0]"
      ]
     },
     "execution_count": 21,
     "metadata": {},
     "output_type": "execute_result"
    }
   ],
   "source": [
    "a = 5\n",
    "b = [0]*a\n",
    "b"
   ]
  }
 ],
 "metadata": {
  "kernelspec": {
   "display_name": "Python 3 (ipykernel)",
   "language": "python",
   "name": "python3"
  },
  "language_info": {
   "codemirror_mode": {
    "name": "ipython",
    "version": 3
   },
   "file_extension": ".py",
   "mimetype": "text/x-python",
   "name": "python",
   "nbconvert_exporter": "python",
   "pygments_lexer": "ipython3",
   "version": "3.11.4"
  }
 },
 "nbformat": 4,
 "nbformat_minor": 5
}
