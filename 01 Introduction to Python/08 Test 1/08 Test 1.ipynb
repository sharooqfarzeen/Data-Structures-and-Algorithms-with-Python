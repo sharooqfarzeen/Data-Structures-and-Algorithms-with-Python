{
 "cells": [
  {
   "cell_type": "markdown",
   "id": "161cb7ad",
   "metadata": {},
   "source": [
    "## Pattern 1"
   ]
  },
  {
   "cell_type": "raw",
   "id": "bd03fa5e",
   "metadata": {},
   "source": [
    "n = 5\n",
    "\n",
    "5432*\n",
    "543*1\n",
    "54*21\n",
    "5*321\n",
    "*4321\n",
    "\n",
    "rows: n\n",
    "columns in row: 5\n",
    "print: * for j = n-j and n-j for other columns; j from 0 to n-1"
   ]
  },
  {
   "cell_type": "code",
   "execution_count": 5,
   "id": "f3261b04",
   "metadata": {},
   "outputs": [
    {
     "name": "stdout",
     "output_type": "stream",
     "text": [
      "5\n",
      "5432*\n",
      "543*1\n",
      "54*21\n",
      "5*321\n",
      "*4321\n"
     ]
    }
   ],
   "source": [
    "n = int(input())\n",
    "\n",
    "for i in range(n):\n",
    "    for j in range(n):\n",
    "        if j == n-i-1:\n",
    "            print(\"*\", end = '')\n",
    "        else:\n",
    "            print(n-j, end = '')\n",
    "    print()"
   ]
  },
  {
   "cell_type": "markdown",
   "id": "98b7b022",
   "metadata": {},
   "source": [
    "## Pattern 2"
   ]
  },
  {
   "cell_type": "raw",
   "id": "25c0b2b8",
   "metadata": {},
   "source": [
    "Example : Pattern for N = 4\n",
    "\n",
    "****\n",
    " ***     \n",
    "  **\n",
    "   *\n",
    "   \n",
    "rows: n\n",
    "columns in rows: 4\n",
    "print: i number of spaces, followed by n-i number of asterisks"
   ]
  },
  {
   "cell_type": "code",
   "execution_count": 6,
   "id": "ce9ad80f",
   "metadata": {},
   "outputs": [
    {
     "name": "stdout",
     "output_type": "stream",
     "text": [
      "*****\n",
      " ****\n",
      "  ***\n",
      "   **\n",
      "    *\n"
     ]
    }
   ],
   "source": [
    "for i in range(n):\n",
    "    for j in range(i):\n",
    "        print(' ', end = '')\n",
    "    for j in range(n-i):\n",
    "        print('*', end = '')\n",
    "    print()"
   ]
  },
  {
   "cell_type": "markdown",
   "id": "ca6bc892",
   "metadata": {},
   "source": [
    "### Greatest Common Divisor"
   ]
  },
  {
   "cell_type": "code",
   "execution_count": 12,
   "id": "f0b86eff",
   "metadata": {},
   "outputs": [
    {
     "name": "stdout",
     "output_type": "stream",
     "text": [
      "14\n"
     ]
    }
   ],
   "source": [
    "def findGcd(x, y):\n",
    "    lower = x if (x < y) else y\n",
    "    for i in range(lower,0,-1):\n",
    "        if (x%i) == 0 and (y%i) == 0:\n",
    "            return i\n",
    "        \n",
    "print(findGcd(98,56))"
   ]
  }
 ],
 "metadata": {
  "kernelspec": {
   "display_name": "Python 3 (ipykernel)",
   "language": "python",
   "name": "python3"
  },
  "language_info": {
   "codemirror_mode": {
    "name": "ipython",
    "version": 3
   },
   "file_extension": ".py",
   "mimetype": "text/x-python",
   "name": "python",
   "nbconvert_exporter": "python",
   "pygments_lexer": "ipython3",
   "version": "3.11.4"
  }
 },
 "nbformat": 4,
 "nbformat_minor": 5
}
