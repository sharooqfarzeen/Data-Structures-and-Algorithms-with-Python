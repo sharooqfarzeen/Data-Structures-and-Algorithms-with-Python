{
 "cells": [
  {
   "cell_type": "markdown",
   "id": "5c4541f7",
   "metadata": {},
   "source": [
    "## Geometric Sum"
   ]
  },
  {
   "cell_type": "raw",
   "id": "8c0d076a",
   "metadata": {},
   "source": [
    "Given 'k', find the geometric sum; \n",
    "\n",
    "k = 3\n",
    "GS = (1/2^0) + (1/2^1) + (1/4) + (1/8)\n",
    "\n",
    "Upto 5 decimal places, using recursion."
   ]
  },
  {
   "cell_type": "code",
   "execution_count": 25,
   "id": "3bf2e4a7",
   "metadata": {},
   "outputs": [
    {
     "name": "stdout",
     "output_type": "stream",
     "text": [
      "3\n",
      "1.87500\n"
     ]
    }
   ],
   "source": [
    "def geoSum(k, n=0):\n",
    "    if n == k + 1:\n",
    "        return 0\n",
    "    sum = (1/(2)**n) + geoSum(k, n+1)\n",
    "    return sum\n",
    "\n",
    "k = int(input())\n",
    "print(\"{:.5f}\".format(geoSum(k)))"
   ]
  },
  {
   "cell_type": "markdown",
   "id": "7aa3cae0",
   "metadata": {},
   "source": [
    "## Check Palindrome (recursive)"
   ]
  },
  {
   "cell_type": "raw",
   "id": "597cd0a6",
   "metadata": {},
   "source": [
    "Input: String 's'\n",
    "Output: Boolean"
   ]
  },
  {
   "cell_type": "code",
   "execution_count": 32,
   "id": "131fc0f8",
   "metadata": {},
   "outputs": [
    {
     "data": {
      "text/plain": [
       "True"
      ]
     },
     "execution_count": 32,
     "metadata": {},
     "output_type": "execute_result"
    }
   ],
   "source": [
    "def isPalindrome(s, curr = 0):\n",
    "    if curr > len(s)//2:\n",
    "        return True\n",
    "    if s[curr] != s[-(curr+1)]:\n",
    "        return False\n",
    "    return isPalindrome(s, curr+1)\n",
    "    \n",
    "    \n",
    "\n",
    "isPalindrome('1221')"
   ]
  },
  {
   "cell_type": "markdown",
   "id": "5bdca839",
   "metadata": {},
   "source": [
    "## Sum of Digits (recursive)"
   ]
  },
  {
   "cell_type": "raw",
   "id": "1d19f860",
   "metadata": {},
   "source": [
    "Sum of digits of an integer.\n",
    "Input: integer\n",
    "Output: sum as an integer"
   ]
  },
  {
   "cell_type": "code",
   "execution_count": 34,
   "id": "97a9ced3",
   "metadata": {},
   "outputs": [
    {
     "name": "stdout",
     "output_type": "stream",
     "text": [
      "1234\n"
     ]
    },
    {
     "data": {
      "text/plain": [
       "10"
      ]
     },
     "execution_count": 34,
     "metadata": {},
     "output_type": "execute_result"
    }
   ],
   "source": [
    "def sumDigits(n):\n",
    "    if n < 10:\n",
    "        return n\n",
    "    digit = n % 10\n",
    "    sum = digit + sumDigits(n//10)\n",
    "    return sum\n",
    "\n",
    "sumDigits(int(input()))"
   ]
  },
  {
   "cell_type": "markdown",
   "id": "5b47e9a5",
   "metadata": {},
   "source": [
    "## Multiplication (Recursive)"
   ]
  },
  {
   "cell_type": "raw",
   "id": "63a2a129",
   "metadata": {},
   "source": [
    "Multiply using only addition and subtraction, with the help of recursion.\n",
    "\n",
    "Input: Integers M and N, line separated\n",
    "Output: M*N"
   ]
  },
  {
   "cell_type": "code",
   "execution_count": 43,
   "id": "93a6556e",
   "metadata": {},
   "outputs": [
    {
     "name": "stdout",
     "output_type": "stream",
     "text": [
      "4\n",
      "-1\n",
      "0\n"
     ]
    }
   ],
   "source": [
    "#runtime error was due to low recursion limit; therefore, set it manually\n",
    "import sys\n",
    "sys.setrecursionlimit(10**4)\n",
    "\n",
    "def mult(m, n):\n",
    "    if m < 1 or n < 1:\n",
    "        return 0\n",
    "    pro = m + mult(m, n-1)\n",
    "    return pro\n",
    "\n",
    "m = int(input())\n",
    "n = int(input())\n",
    "print(mult(m,n))"
   ]
  },
  {
   "cell_type": "markdown",
   "id": "72f3945b",
   "metadata": {},
   "source": [
    "## Count Zeros"
   ]
  },
  {
   "cell_type": "raw",
   "id": "9678e018",
   "metadata": {},
   "source": [
    "Count number of zeros in an integer.\n",
    "Input: Integer 'n'\n",
    "Output: Number of Zeros"
   ]
  },
  {
   "cell_type": "code",
   "execution_count": 58,
   "id": "f7f719ed",
   "metadata": {},
   "outputs": [
    {
     "name": "stdout",
     "output_type": "stream",
     "text": [
      "0\n",
      "1\n"
     ]
    }
   ],
   "source": [
    "def countZeros(n, numberCount = 0, zeroCount = 0):\n",
    "    if n == 0:\n",
    "        if numberCount > 0:\n",
    "            return 0\n",
    "        else:\n",
    "            return 1\n",
    "    numberCount += 1\n",
    "    zeroCount += countZeros(n//10, numberCount)\n",
    "    if n % 10 == 0:\n",
    "        zeroCount += 1\n",
    "    return zeroCount\n",
    "\n",
    "n = int(input())\n",
    "print(countZeros(n))"
   ]
  },
  {
   "cell_type": "markdown",
   "id": "c4e59c23",
   "metadata": {},
   "source": [
    "## String to Integer"
   ]
  },
  {
   "cell_type": "raw",
   "id": "819252f6",
   "metadata": {},
   "source": [
    "Convert a number string to integer dtype recursively.\n",
    "Eg. '00123' to 123"
   ]
  },
  {
   "cell_type": "code",
   "execution_count": 67,
   "id": "99906e31",
   "metadata": {},
   "outputs": [
    {
     "name": "stdout",
     "output_type": "stream",
     "text": [
      "00123\n",
      "123\n"
     ]
    }
   ],
   "source": [
    "s = input()\n",
    "n = len(s)\n",
    "\n",
    "def s2i(s, curr = n-1, number = 0):\n",
    "    if curr == -1:\n",
    "        return 0\n",
    "    number = number + int(s[curr]) + (s2i(s, curr-1)*10)\n",
    "    return number\n",
    "\n",
    "print(s2i(s))   "
   ]
  },
  {
   "cell_type": "markdown",
   "id": "5d608b32",
   "metadata": {},
   "source": [
    "## Pair Star"
   ]
  },
  {
   "cell_type": "raw",
   "id": "c92a463b",
   "metadata": {},
   "source": [
    "Add '*' between repeating characters.\n",
    "Eg. 'aaaa' becomes 'a*a*a*a'"
   ]
  },
  {
   "cell_type": "code",
   "execution_count": 70,
   "id": "9e1db078",
   "metadata": {},
   "outputs": [
    {
     "name": "stdout",
     "output_type": "stream",
     "text": [
      "aaaa\n",
      "a*a*a*a\n"
     ]
    }
   ],
   "source": [
    "s = input()\n",
    "n = len(s)\n",
    "\n",
    "def ps(s, curr = 0):\n",
    "    if curr == len(s)-1:\n",
    "        return s\n",
    "    s = ps(s, curr+1)\n",
    "    if s[curr] == s[curr+1]:\n",
    "        return s[:curr+1] + '*' + s[curr+1:]\n",
    "    return s\n",
    "\n",
    "print(ps(s))    "
   ]
  },
  {
   "cell_type": "markdown",
   "id": "dabda2d7",
   "metadata": {},
   "source": [
    "## Check AB"
   ]
  },
  {
   "cell_type": "raw",
   "id": "36714553",
   "metadata": {},
   "source": [
    "Input: string containing only 'a's and 'b's.\n",
    "Check following conditions:\n",
    "1. string begins with an 'a'\n",
    "2. every 'a' is followed by nothing, another 'a' or 'bb'\n",
    "3. every 'bb' is followed by nothing or another 'a'"
   ]
  },
  {
   "cell_type": "code",
   "execution_count": 83,
   "id": "41921170",
   "metadata": {},
   "outputs": [
    {
     "name": "stdout",
     "output_type": "stream",
     "text": [
      "abbaabb\n",
      "true\n"
     ]
    }
   ],
   "source": [
    "s = input()\n",
    "\n",
    "def cAB(s, curr = 0):\n",
    "    if s[0] != 'a':\n",
    "        return 'false'\n",
    "    if curr == len(s):\n",
    "        return 'true'\n",
    "    flag = cAB(s, curr+1)\n",
    "    if s[curr] == 'a' and curr != len(s)-1:\n",
    "        if s[curr+1: curr+3] != 'bb' and s[curr+1] != 'a':\n",
    "            flag = 'false'\n",
    "    elif s[curr:curr+2] == 'bb' and curr!= (len(s)-2):\n",
    "        if s[curr+2] != 'a':\n",
    "            flag = 'false'\n",
    "    return flag\n",
    "\n",
    "print(cAB(s))"
   ]
  },
  {
   "cell_type": "markdown",
   "id": "b5af1d3c",
   "metadata": {},
   "source": [
    "## Staircase"
   ]
  },
  {
   "cell_type": "raw",
   "id": "f8841015",
   "metadata": {},
   "source": [
    "Child running up 'n' stairs. Can clim 1, 2 or 3 stairs at a time. Find number of ways 'w', by which the child can run up the stairs.\n",
    "Eg: if n = 4, w = 7\n",
    "\n",
    "base case: n = 0, w = 0 and n = 1, w = 1\n",
    "induction hypothesis: we can calculate for n-1 steps\n",
    "induction step: calculate for n steps"
   ]
  },
  {
   "cell_type": "code",
   "execution_count": null,
   "id": "82be4298",
   "metadata": {},
   "outputs": [],
   "source": [
    "def wayFinder(max_sum, start = 0, curr_sum = 0):\n",
    "    if curr_sum > max_sum:\n",
    "        return 0\n",
    "    if curr_sum == max_sum:\n",
    "        return 1\n",
    "    curr_sum += wayFinder(max_sum, start, )\n",
    "    \n",
    "    \n",
    "    \n",
    "def child(max_sum, curr_sum = 0, ways = 0):\n",
    "    if max_sum == 0:\n",
    "        return 0\n",
    "    w = wayFinder(max_sum, 1) + wayFinder(max_sum, 2) + wayFinder(max_sum, 3)\n",
    "    \n",
    "    \n",
    "    \n",
    "    "
   ]
  },
  {
   "cell_type": "markdown",
   "id": "0a030584",
   "metadata": {},
   "source": [
    "### Without recursion"
   ]
  },
  {
   "cell_type": "code",
   "execution_count": 84,
   "id": "94b1250f",
   "metadata": {},
   "outputs": [
    {
     "name": "stdout",
     "output_type": "stream",
     "text": [
      "4\n"
     ]
    },
    {
     "data": {
      "text/plain": [
       "7"
      ]
     },
     "execution_count": 84,
     "metadata": {},
     "output_type": "execute_result"
    }
   ],
   "source": [
    "max_sum = int(input())\n",
    "\n",
    "def summerUpper(n):\n",
    "    if n == 0:\n",
    "        return 1\n",
    "    if n < 0:\n",
    "        return 0\n",
    "    return summerUpper(n-1) + summerUpper(n-2) + summerUpper(n-3)\n",
    "\n",
    "print(summerUpper(max_sum))"
   ]
  },
  {
   "cell_type": "code",
   "execution_count": null,
   "id": "672fd532",
   "metadata": {},
   "outputs": [],
   "source": [
    "max_sum = int(input())\n",
    "\n",
    "def summerUpper(max_sum, k, sum = 0):\n",
    "    if sum == max_sum:\n",
    "        return 1\n",
    "    elif sum > max_sum:\n",
    "        return 0\n",
    "    else:\n",
    "        summerUpper(max_sum, k)\n",
    "    if summerUpper(max_sum, k) == 0:\n",
    "        \n",
    "    \n",
    "    "
   ]
  }
 ],
 "metadata": {
  "kernelspec": {
   "display_name": "Python 3 (ipykernel)",
   "language": "python",
   "name": "python3"
  },
  "language_info": {
   "codemirror_mode": {
    "name": "ipython",
    "version": 3
   },
   "file_extension": ".py",
   "mimetype": "text/x-python",
   "name": "python",
   "nbconvert_exporter": "python",
   "pygments_lexer": "ipython3",
   "version": "3.11.4"
  }
 },
 "nbformat": 4,
 "nbformat_minor": 5
}
