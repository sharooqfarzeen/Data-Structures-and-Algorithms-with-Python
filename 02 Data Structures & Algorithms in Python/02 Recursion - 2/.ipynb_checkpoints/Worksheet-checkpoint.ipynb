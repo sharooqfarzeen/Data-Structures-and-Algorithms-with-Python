{
 "cells": [
  {
   "cell_type": "markdown",
   "id": "9b3ced0f",
   "metadata": {},
   "source": [
    "### Replace all 'a's with 'b's"
   ]
  },
  {
   "cell_type": "code",
   "execution_count": 10,
   "id": "688c21de",
   "metadata": {},
   "outputs": [
    {
     "data": {
      "text/plain": [
       "'bbcaa'"
      ]
     },
     "execution_count": 10,
     "metadata": {},
     "output_type": "execute_result"
    }
   ],
   "source": [
    "def replacer(string, curr = 0):\n",
    "    if curr == len(string):\n",
    "        return\n",
    "    replacer(string, curr+1)\n",
    "    if string[curr] == 'a':\n",
    "        string = string[:curr] + 'b' + string[curr+1:]\n",
    "    return string\n",
    "\n",
    "replacer('abcaa')\n",
    "        "
   ]
  }
 ],
 "metadata": {
  "kernelspec": {
   "display_name": "Python 3 (ipykernel)",
   "language": "python",
   "name": "python3"
  },
  "language_info": {
   "codemirror_mode": {
    "name": "ipython",
    "version": 3
   },
   "file_extension": ".py",
   "mimetype": "text/x-python",
   "name": "python",
   "nbconvert_exporter": "python",
   "pygments_lexer": "ipython3",
   "version": "3.11.4"
  }
 },
 "nbformat": 4,
 "nbformat_minor": 5
}
