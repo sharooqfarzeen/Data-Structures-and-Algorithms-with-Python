{
 "cells": [
  {
   "cell_type": "markdown",
   "id": "d9c77246",
   "metadata": {},
   "source": [
    "### Replace all 'a's with 'b's"
   ]
  },
  {
   "cell_type": "code",
   "execution_count": 3,
   "id": "06e1d441",
   "metadata": {},
   "outputs": [
    {
     "data": {
      "text/plain": [
       "'bbcbb'"
      ]
     },
     "execution_count": 3,
     "metadata": {},
     "output_type": "execute_result"
    }
   ],
   "source": [
    "def replacer(string, curr = 0):\n",
    "    if curr == len(string):\n",
    "        return string\n",
    "    string = replacer(string, curr+1)\n",
    "    if string[curr] == 'a':\n",
    "        string = string[:curr] + 'b' + string[curr+1:]\n",
    "    return string\n",
    "\n",
    "replacer('abcaa')\n",
    "        "
   ]
  },
  {
   "cell_type": "code",
   "execution_count": 4,
   "id": "c11e47d5",
   "metadata": {},
   "outputs": [
    {
     "ename": "TypeError",
     "evalue": "'str' object does not support item assignment",
     "output_type": "error",
     "traceback": [
      "\u001b[1;31m---------------------------------------------------------------------------\u001b[0m",
      "\u001b[1;31mTypeError\u001b[0m                                 Traceback (most recent call last)",
      "Cell \u001b[1;32mIn[4], line 2\u001b[0m\n\u001b[0;32m      1\u001b[0m string \u001b[38;5;241m=\u001b[39m \u001b[38;5;124m'\u001b[39m\u001b[38;5;124mabcde\u001b[39m\u001b[38;5;124m'\u001b[39m\n\u001b[1;32m----> 2\u001b[0m string[\u001b[38;5;241m0\u001b[39m] \u001b[38;5;241m=\u001b[39m \u001b[38;5;124m'\u001b[39m\u001b[38;5;124m'\u001b[39m\n\u001b[0;32m      3\u001b[0m string\n",
      "\u001b[1;31mTypeError\u001b[0m: 'str' object does not support item assignment"
     ]
    }
   ],
   "source": [
    "string = 'abcde'\n",
    "string[0] = ''\n",
    "string"
   ]
  },
  {
   "cell_type": "markdown",
   "id": "2ee4e4b8",
   "metadata": {},
   "source": [
    "### Replace 'pi' with '3.14'"
   ]
  },
  {
   "cell_type": "code",
   "execution_count": 6,
   "id": "7ee9fa9c",
   "metadata": {},
   "outputs": [
    {
     "data": {
      "text/plain": [
       "'p3.14abcd3.14e'"
      ]
     },
     "execution_count": 6,
     "metadata": {},
     "output_type": "execute_result"
    }
   ],
   "source": [
    "def replace_pi(string, curr = 0):\n",
    "    if curr == len(string)-1 or len(string) == 0:\n",
    "        return string\n",
    "    string = replace_pi(string, curr+1)\n",
    "    if string[curr] == 'p' and string[curr+1] == 'i':\n",
    "        return string[:curr] + '3.14' + string[curr+2:]\n",
    "    else:\n",
    "        return string\n",
    "    \n",
    "    return string\n",
    "\n",
    "replace_pi(\"ppiabcdpie\")\n",
    "        "
   ]
  },
  {
   "cell_type": "markdown",
   "id": "d3dc9d68",
   "metadata": {},
   "source": [
    "### Binary Search"
   ]
  },
  {
   "cell_type": "code",
   "execution_count": 19,
   "id": "158f82ee",
   "metadata": {},
   "outputs": [
    {
     "data": {
      "text/plain": [
       "-1"
      ]
     },
     "execution_count": 19,
     "metadata": {},
     "output_type": "execute_result"
    }
   ],
   "source": [
    "arr = [1,2,3,4,5]\n",
    "arr.sort()\n",
    "n = len(arr)\n",
    "\n",
    "def binary_search(arr, x, si = 0, li = n-1):\n",
    "    #emplty list or list exhausted\n",
    "    if li < si:\n",
    "        return -1\n",
    "    mi = (li+si)//2\n",
    "    if arr[mi] == x:\n",
    "        return mi\n",
    "    elif x < arr[mi]:\n",
    "        return binary_search(arr, x, si, mi-1)\n",
    "    else:\n",
    "        return binary_search(arr, x, mi+1, li)\n",
    "\n",
    "binary_search(arr, 11)"
   ]
  }
 ],
 "metadata": {
  "kernelspec": {
   "display_name": "Python 3 (ipykernel)",
   "language": "python",
   "name": "python3"
  },
  "language_info": {
   "codemirror_mode": {
    "name": "ipython",
    "version": 3
   },
   "file_extension": ".py",
   "mimetype": "text/x-python",
   "name": "python",
   "nbconvert_exporter": "python",
   "pygments_lexer": "ipython3",
   "version": "3.11.4"
  }
 },
 "nbformat": 4,
 "nbformat_minor": 5
}
