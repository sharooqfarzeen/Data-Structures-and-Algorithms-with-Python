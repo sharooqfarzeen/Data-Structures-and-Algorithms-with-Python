{
 "cells": [
  {
   "cell_type": "markdown",
   "id": "441f8e8b",
   "metadata": {},
   "source": [
    "## Remove X"
   ]
  },
  {
   "cell_type": "code",
   "execution_count": null,
   "id": "58e67bea",
   "metadata": {},
   "outputs": [],
   "source": [
    "def removeX(string):\n",
    "    if len(string) == 0:\n",
    "        return string\n",
    "    smallOutput = removeX(string[1:])\n",
    "    if string[0] == 'x':\n",
    "        return '' + smallOutput\n",
    "    else:\n",
    "        return string[0] + smallOutput\n",
    "    \n",
    "removeX('axaxaxax')"
   ]
  },
  {
   "cell_type": "code",
   "execution_count": null,
   "id": "5aed0223",
   "metadata": {},
   "outputs": [],
   "source": [
    "def removeX(string, curr = 0):\n",
    "    if curr == len(string):\n",
    "        return string\n",
    "    string = removeX(string, curr+1)\n",
    "    if string[curr] == 'x':\n",
    "        string = string[:curr] + '' + string[curr+1:]\n",
    "    return string\n",
    "    \n",
    "removeX('axaxaxax')   "
   ]
  },
  {
   "cell_type": "code",
   "execution_count": null,
   "id": "e1fc3379",
   "metadata": {},
   "outputs": [],
   "source": [
    "def removeX(input_str):\n",
    "    if not input_str:\n",
    "        return ''\n",
    "\n",
    "    first_char = '' if input_str[0] == 'x' else input_str[0]\n",
    "\n",
    "    rest_of_string = removeX(input_str[1:])\n",
    "\n",
    "    return first_char + rest_of_string\n",
    "    \n",
    "\n",
    "# Main\n",
    "string = input()\n",
    "print(removeX(string))"
   ]
  },
  {
   "cell_type": "markdown",
   "id": "c802dde5",
   "metadata": {},
   "source": [
    "## Remove Duplicates Recursively"
   ]
  },
  {
   "cell_type": "code",
   "execution_count": null,
   "id": "9b6922d3",
   "metadata": {},
   "outputs": [],
   "source": [
    "def RCD(string, curr = 0):\n",
    "    if curr == len(string)-1 or len(string) == 0:\n",
    "        return string\n",
    "    string = RCD(string, curr+1)\n",
    "    if string[curr] == string[curr+1]:\n",
    "        return string[:curr] + string[curr] + string[curr+2:]\n",
    "    else:\n",
    "        return string\n",
    "RCD('xyzzz')\n",
    "    "
   ]
  },
  {
   "cell_type": "code",
   "execution_count": null,
   "id": "56be058d",
   "metadata": {},
   "outputs": [],
   "source": [
    "def removeConsecutiveDuplicates(input_str):\n",
    "    # Base case: if the string is empty or has only one character, return the string\n",
    "    if len(input_str) < 2:\n",
    "        return input_str\n",
    "\n",
    "    # If the first character is the same as the second, skip the first character\n",
    "    if input_str[0] == input_str[1]:\n",
    "        return removeConsecutiveDuplicates(input_str[1:])\n",
    "    else:\n",
    "        # If the first character is different, concatenate it with the result of the recursive call\n",
    "        return input_str[0] + removeConsecutiveDuplicates(input_str[1:])\n",
    "\n",
    "# Main\n",
    "string = input().strip()\n",
    "print(removeConsecutiveDuplicates(string))"
   ]
  },
  {
   "cell_type": "markdown",
   "id": "4546dd59",
   "metadata": {},
   "source": [
    "## Merge Sort Code"
   ]
  },
  {
   "cell_type": "code",
   "execution_count": 10,
   "id": "460bf4a4",
   "metadata": {},
   "outputs": [
    {
     "name": "stdout",
     "output_type": "stream",
     "text": [
      "4 13\n"
     ]
    },
    {
     "ename": "TypeError",
     "evalue": "object of type 'NoneType' has no len()",
     "output_type": "error",
     "traceback": [
      "\u001b[1;31m---------------------------------------------------------------------------\u001b[0m",
      "\u001b[1;31mTypeError\u001b[0m                                 Traceback (most recent call last)",
      "Cell \u001b[1;32mIn[10], line 40\u001b[0m\n\u001b[0;32m     35\u001b[0m     a \u001b[38;5;241m=\u001b[39m merge(a1, a2)\n\u001b[0;32m     36\u001b[0m     \u001b[38;5;28mprint\u001b[39m(\u001b[38;5;241m*\u001b[39ma)\n\u001b[1;32m---> 40\u001b[0m mergeSort([\u001b[38;5;241m2\u001b[39m,\u001b[38;5;241m13\u001b[39m,\u001b[38;5;241m4\u001b[39m,\u001b[38;5;241m1\u001b[39m,\u001b[38;5;241m3\u001b[39m,\u001b[38;5;241m6\u001b[39m])\n",
      "Cell \u001b[1;32mIn[10], line 33\u001b[0m, in \u001b[0;36mmergeSort\u001b[1;34m(a, x, y)\u001b[0m\n\u001b[0;32m     31\u001b[0m a1 \u001b[38;5;241m=\u001b[39m a[:mid]\n\u001b[0;32m     32\u001b[0m a2 \u001b[38;5;241m=\u001b[39m a[mid:]\n\u001b[1;32m---> 33\u001b[0m a1 \u001b[38;5;241m=\u001b[39m mergeSort(a1)\n\u001b[0;32m     34\u001b[0m a2 \u001b[38;5;241m=\u001b[39m mergeSort(a2)\n\u001b[0;32m     35\u001b[0m a \u001b[38;5;241m=\u001b[39m merge(a1, a2)\n",
      "Cell \u001b[1;32mIn[10], line 35\u001b[0m, in \u001b[0;36mmergeSort\u001b[1;34m(a, x, y)\u001b[0m\n\u001b[0;32m     33\u001b[0m a1 \u001b[38;5;241m=\u001b[39m mergeSort(a1)\n\u001b[0;32m     34\u001b[0m a2 \u001b[38;5;241m=\u001b[39m mergeSort(a2)\n\u001b[1;32m---> 35\u001b[0m a \u001b[38;5;241m=\u001b[39m merge(a1, a2)\n\u001b[0;32m     36\u001b[0m \u001b[38;5;28mprint\u001b[39m(\u001b[38;5;241m*\u001b[39ma)\n",
      "Cell \u001b[1;32mIn[10], line 2\u001b[0m, in \u001b[0;36mmerge\u001b[1;34m(a, b)\u001b[0m\n\u001b[0;32m      1\u001b[0m \u001b[38;5;28;01mdef\u001b[39;00m \u001b[38;5;21mmerge\u001b[39m(a, b):\n\u001b[1;32m----> 2\u001b[0m     la, lb \u001b[38;5;241m=\u001b[39m \u001b[38;5;28mlen\u001b[39m(a), \u001b[38;5;28mlen\u001b[39m(b)\n\u001b[0;32m      3\u001b[0m     \u001b[38;5;28;01mif\u001b[39;00m la \u001b[38;5;241m==\u001b[39m \u001b[38;5;241m0\u001b[39m \u001b[38;5;129;01mor\u001b[39;00m lb \u001b[38;5;241m==\u001b[39m \u001b[38;5;241m0\u001b[39m:\n\u001b[0;32m      4\u001b[0m         \u001b[38;5;28;01mreturn\u001b[39;00m []\n",
      "\u001b[1;31mTypeError\u001b[0m: object of type 'NoneType' has no len()"
     ]
    }
   ],
   "source": [
    "def merge(a, b):\n",
    "    la, lb = len(a), len(b)\n",
    "    if la == 0 or lb == 0:\n",
    "        return []\n",
    "    c = []\n",
    "    i, j = 0, 0\n",
    "    while (i<la) and (j<lb):\n",
    "        if a[i] <b[j]:\n",
    "            c.append(a[i])\n",
    "            i += 1\n",
    "        elif a[i] > b[j]:\n",
    "            c.append(b[j])\n",
    "            j += 1\n",
    "        else:\n",
    "            c.extend([a[i], a[i]])\n",
    "            i += 1\n",
    "            j += 1\n",
    "    else:\n",
    "        if i == la:\n",
    "            c.extend(b[j:])\n",
    "        else:\n",
    "            c.extend(a[i:])\n",
    "    return c \n",
    "    \n",
    "    \n",
    "def mergeSort(a, x = 0, y = 0):\n",
    "    n = len(a)\n",
    "    if n == 1:\n",
    "        return a\n",
    "    mid = n//2\n",
    "    a1 = a[:mid]\n",
    "    a2 = a[mid:]\n",
    "    a1 = mergeSort(a1)\n",
    "    a2 = mergeSort(a2)\n",
    "    a = merge(a1, a2)\n",
    "    return a\n",
    "    \n",
    "    \n",
    "\n",
    "mergeSort([2,13,4,1,3,6])\n"
   ]
  },
  {
   "cell_type": "code",
   "execution_count": 1,
   "id": "1d34ae74",
   "metadata": {},
   "outputs": [
    {
     "name": "stdout",
     "output_type": "stream",
     "text": [
      "7\n",
      "7\n"
     ]
    }
   ],
   "source": [
    "n = int(input())\n",
    "print(n)"
   ]
  },
  {
   "cell_type": "code",
   "execution_count": 9,
   "id": "fc49de7d",
   "metadata": {},
   "outputs": [
    {
     "ename": "ValueError",
     "evalue": "invalid literal for int() with base 10: ''",
     "output_type": "error",
     "traceback": [
      "\u001b[1;31m---------------------------------------------------------------------------\u001b[0m",
      "\u001b[1;31mValueError\u001b[0m                                Traceback (most recent call last)",
      "Cell \u001b[1;32mIn[9], line 61\u001b[0m\n\u001b[0;32m     57\u001b[0m         mergeSort(\u001b[38;5;28mself\u001b[39m\u001b[38;5;241m.\u001b[39ma, \u001b[38;5;241m0\u001b[39m, \u001b[38;5;28mlen\u001b[39m(\u001b[38;5;28mself\u001b[39m\u001b[38;5;241m.\u001b[39ma) \u001b[38;5;241m-\u001b[39m \u001b[38;5;241m1\u001b[39m)\n\u001b[0;32m     60\u001b[0m runner \u001b[38;5;241m=\u001b[39m Runner()\n\u001b[1;32m---> 61\u001b[0m runner\u001b[38;5;241m.\u001b[39mtakeInput()\n\u001b[0;32m     62\u001b[0m runner\u001b[38;5;241m.\u001b[39mexecuteAndPrintOutput()\n",
      "Cell \u001b[1;32mIn[9], line 49\u001b[0m, in \u001b[0;36mRunner.takeInput\u001b[1;34m(self)\u001b[0m\n\u001b[0;32m     48\u001b[0m \u001b[38;5;28;01mdef\u001b[39;00m \u001b[38;5;21mtakeInput\u001b[39m(\u001b[38;5;28mself\u001b[39m):\n\u001b[1;32m---> 49\u001b[0m     n \u001b[38;5;241m=\u001b[39m \u001b[38;5;28mint\u001b[39m(\u001b[38;5;28minput\u001b[39m()\u001b[38;5;241m.\u001b[39mstrip())\n\u001b[0;32m     50\u001b[0m     \u001b[38;5;28mself\u001b[39m\u001b[38;5;241m.\u001b[39ma \u001b[38;5;241m=\u001b[39m \u001b[38;5;28mlist\u001b[39m(\u001b[38;5;28mmap\u001b[39m(\u001b[38;5;28mint\u001b[39m, \u001b[38;5;28minput\u001b[39m()\u001b[38;5;241m.\u001b[39msplit()))\n",
      "\u001b[1;31mValueError\u001b[0m: invalid literal for int() with base 10: ''"
     ]
    }
   ],
   "source": [
    "def mergeSort(arr: [int], l: int, r: int):\n",
    "    if len(arr) > 1:\n",
    "        mid = len(arr) // 2  # Find the middle of the array\n",
    "        left_half = arr[:mid]  # Divide the array into two halves\n",
    "        right_half = arr[mid:]\n",
    "\n",
    "        mergeSort(left_half)  # Recursive call on the left half\n",
    "        mergeSort(right_half)  # Recursive call on the right half\n",
    "\n",
    "        i = j = k = 0\n",
    "\n",
    "        # Merge the two halves\n",
    "        while i < len(left_half) and j < len(right_half):\n",
    "            if left_half[i] < right_half[j]:\n",
    "                arr[k] = left_half[i]\n",
    "                i += 1\n",
    "            else:\n",
    "                arr[k] = right_half[j]\n",
    "                j += 1\n",
    "            k += 1\n",
    "\n",
    "        # Check for any remaining elements in the left and right halves\n",
    "        while i < len(left_half):\n",
    "            arr[k] = left_half[i]\n",
    "            i += 1\n",
    "            k += 1\n",
    "\n",
    "        while j < len(right_half):\n",
    "            arr[k] = right_half[j]\n",
    "            j += 1\n",
    "            k += 1\n",
    "\n",
    "\n",
    "import os\n",
    "import sys\n",
    "from sys import stdin\n",
    "from copy import deepcopy\n",
    "\n",
    "input = lambda: sys.stdin.readline().rstrip(\"\\r\\n\").strip()\n",
    "\n",
    "sys.setrecursionlimit(10**7)\n",
    "\n",
    "\n",
    "class Runner:\n",
    "    def __init__(self):\n",
    "        self.a = [None]\n",
    "\n",
    "    def takeInput(self):\n",
    "        n = int(input().strip())\n",
    "        self.a = list(map(int, input().split()))\n",
    "\n",
    "    def executeAndPrintOutput(self):\n",
    "        mergeSort(self.a, 0, len(self.a) - 1)\n",
    "        print(*self.a)\n",
    "\n",
    "    def execute(self):\n",
    "        mergeSort(self.a, 0, len(self.a) - 1)\n",
    "\n",
    "\n",
    "runner = Runner()\n",
    "runner.takeInput()\n",
    "runner.executeAndPrintOutput()\n"
   ]
  },
  {
   "cell_type": "markdown",
   "id": "41937375",
   "metadata": {},
   "source": [
    "## Quick Sort Code"
   ]
  },
  {
   "cell_type": "code",
   "execution_count": 5,
   "id": "0f3c058e",
   "metadata": {},
   "outputs": [
    {
     "name": "stdout",
     "output_type": "stream",
     "text": [
      "1 2 3 4 5 6 7 8 9 10\n"
     ]
    }
   ],
   "source": [
    "def partition(a, si, ei):\n",
    "    pivot = a[si]\n",
    "    count = 0\n",
    "    for i in range(si, ei+1):\n",
    "        if a[i] < pivot:\n",
    "            count += 1\n",
    "    a[si], a[si+count] = a[si+count], a[si]\n",
    "    pivot_index = si+count\n",
    "    \n",
    "    i = si\n",
    "    j = ei\n",
    "    while i < j:\n",
    "        if a[i] < pivot:\n",
    "            i += 1\n",
    "        elif a[j] >= pivot:\n",
    "            j -= 1\n",
    "        else:\n",
    "            a[i], a[j] = a[j], a[i]\n",
    "            i += 1\n",
    "            j -= 1\n",
    "    return pivot_index\n",
    "\n",
    "def quickSort(a, si, ei):\n",
    "    if si >= ei:\n",
    "        return\n",
    "    \n",
    "    pivot_index = partition(a, si, ei)\n",
    "    quickSort(a, si, pivot_index - 1)\n",
    "    quickSort(a, pivot_index + 1, ei)   \n",
    "\n",
    "a = [6,10,9,8,7,1,3,5,4,2]    \n",
    "quickSort(a, 0, len(a)-1)\n",
    "print(*a)"
   ]
  },
  {
   "cell_type": "code",
   "execution_count": null,
   "id": "1cc741db",
   "metadata": {},
   "outputs": [],
   "source": [
    "\"\"\"\n",
    "\tThe function is called with the parameters:\n",
    "\tquickSort(input, 0, size - 1);\n",
    "\n",
    "\"\"\"\n",
    "from typing import List\n",
    "\n",
    "def partition(arr: List[int], startIndex: int, endIndex: int) -> int:\n",
    "    pivot = arr[endIndex]  # Choose the last element as the pivot\n",
    "    i = startIndex - 1  # Index of smaller element\n",
    "\n",
    "    for j in range(startIndex, endIndex):\n",
    "        # If current element is smaller than or equal to the pivot\n",
    "        if arr[j] <= pivot:\n",
    "            i += 1\n",
    "            # Swap arr[i] and arr[j]\n",
    "            arr[i], arr[j] = arr[j], arr[i]\n",
    "\n",
    "    # Swap arr[i+1] and arr[endIndex] to place the pivot at the correct position\n",
    "    arr[i + 1], arr[endIndex] = arr[endIndex], arr[i + 1]\n",
    "    return i + 1  # Return the pivot index\n",
    "    \n",
    "def quickSort(arr: List[int], startIndex: int, endIndex: int):\n",
    "    if startIndex < endIndex:\n",
    "        # Partition the array and get the pivot index\n",
    "        pivotIndex = partition(arr, startIndex, endIndex)\n",
    "\n",
    "        # Recursively sort the sub-arrays\n",
    "        quickSort(arr, startIndex, pivotIndex - 1)\n",
    "        quickSort(arr, pivotIndex + 1, endIndex)"
   ]
  },
  {
   "cell_type": "markdown",
   "id": "f730d137",
   "metadata": {},
   "source": [
    "## Tower of Hanoi"
   ]
  },
  {
   "cell_type": "code",
   "execution_count": null,
   "id": "287b7e5c",
   "metadata": {},
   "outputs": [],
   "source": [
    "def towerofhanoi(n, a, b, c):\n",
    "    if n == 0:\n",
    "        return\n",
    "    if n == 1:\n",
    "        print(a, c)\n",
    "        return\n",
    "    towerofhanoi(n - 1, a, c, b)\n",
    "    print(a, c)\n",
    "    towerofhanoi(n - 1, b, a, c)\n",
    "\n",
    "n = int(input())\n",
    "towerofhanoi(n, 'a', 'b', 'c')"
   ]
  }
 ],
 "metadata": {
  "kernelspec": {
   "display_name": "Python 3 (ipykernel)",
   "language": "python",
   "name": "python3"
  },
  "language_info": {
   "codemirror_mode": {
    "name": "ipython",
    "version": 3
   },
   "file_extension": ".py",
   "mimetype": "text/x-python",
   "name": "python",
   "nbconvert_exporter": "python",
   "pygments_lexer": "ipython3",
   "version": "3.11.4"
  }
 },
 "nbformat": 4,
 "nbformat_minor": 5
}
