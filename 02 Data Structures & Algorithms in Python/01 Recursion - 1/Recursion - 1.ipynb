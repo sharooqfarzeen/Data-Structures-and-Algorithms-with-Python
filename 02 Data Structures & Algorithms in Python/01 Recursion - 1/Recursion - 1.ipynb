{
 "cells": [
  {
   "cell_type": "markdown",
   "id": "a30cf49b",
   "metadata": {},
   "source": [
    "## Power Of A Number"
   ]
  },
  {
   "cell_type": "code",
   "execution_count": 2,
   "id": "04a8e3a8",
   "metadata": {},
   "outputs": [
    {
     "name": "stdout",
     "output_type": "stream",
     "text": [
      "4 3\n",
      "64\n"
     ]
    }
   ],
   "source": [
    "def power(x, n):\n",
    "    if n == 1:\n",
    "        return x\n",
    "    if n == 0:\n",
    "        return 1\n",
    "    return x * power(x, n-1)\n",
    "    \n",
    "\n",
    "x, n = tuple([int(i) for i in input().split()])\n",
    "print(power(x,n))"
   ]
  },
  {
   "cell_type": "code",
   "execution_count": 5,
   "id": "8d17f48a",
   "metadata": {},
   "outputs": [
    {
     "name": "stdout",
     "output_type": "stream",
     "text": [
      "2 3\n",
      "8\n"
     ]
    }
   ],
   "source": [
    "print((lambda s = input().split(): int(s[0])**int(s[1]))())"
   ]
  },
  {
   "cell_type": "markdown",
   "id": "29b8e003",
   "metadata": {},
   "source": [
    "## Sum Of Array"
   ]
  },
  {
   "cell_type": "code",
   "execution_count": 1,
   "id": "98a44b34",
   "metadata": {},
   "outputs": [
    {
     "name": "stdout",
     "output_type": "stream",
     "text": [
      "10\n"
     ]
    }
   ],
   "source": [
    "def sumArray(arr, n):\n",
    "    if n == 0:\n",
    "        return 0\n",
    "    return arr[0] + sumArray(arr[1:], len(arr[1:]))\n",
    "\n",
    "a = [1,2,3,4]\n",
    "print(sumArray(a, len(a)))    "
   ]
  },
  {
   "cell_type": "code",
   "execution_count": 6,
   "id": "7bd44be7",
   "metadata": {},
   "outputs": [
    {
     "name": "stdout",
     "output_type": "stream",
     "text": [
      "10\n"
     ]
    }
   ],
   "source": [
    "def sumArray(arr, n):\n",
    "    if n == 0:\n",
    "        return 0\n",
    "    return arr[n-1] + sumArray(arr, n-1)\n",
    "    \n",
    "    \n",
    "a = [1,2,3,4]\n",
    "print(sumArray(a, len(a)))"
   ]
  },
  {
   "cell_type": "markdown",
   "id": "9b52b84d",
   "metadata": {},
   "source": [
    "## Check Number in Array"
   ]
  },
  {
   "cell_type": "code",
   "execution_count": 4,
   "id": "ea4b018c",
   "metadata": {},
   "outputs": [
    {
     "name": "stdout",
     "output_type": "stream",
     "text": [
      "True\n"
     ]
    }
   ],
   "source": [
    "def checkNumber(arr, x, n):\n",
    "    if n == 0:\n",
    "        return False\n",
    "    if arr[0] == x:\n",
    "        return True\n",
    "    flag = checkNumber(arr[1:], x, len(arr[1:]))\n",
    "    return flag\n",
    "    \n",
    "a = [1,2,3,4]\n",
    "x = 4\n",
    "n = len(a)\n",
    "print(checkNumber(a,x,n)) "
   ]
  },
  {
   "cell_type": "code",
   "execution_count": 9,
   "id": "f2817ee6",
   "metadata": {},
   "outputs": [
    {
     "name": "stdout",
     "output_type": "stream",
     "text": [
      "False\n"
     ]
    }
   ],
   "source": [
    "def checkNumber(arr, x, n):\n",
    "    if n == 0:\n",
    "        return False\n",
    "    elif arr[n-1] == x:\n",
    "        return True\n",
    "    return checkNumber(arr, x, n-1)\n",
    "    \n",
    "a = [1,2,3,4]\n",
    "x = 5\n",
    "n = len(a)\n",
    "print(checkNumber(a,x,n))   "
   ]
  },
  {
   "cell_type": "markdown",
   "id": "ee4181fd",
   "metadata": {},
   "source": [
    "## First Index of Number - Question"
   ]
  },
  {
   "cell_type": "code",
   "execution_count": null,
   "id": "68d57019",
   "metadata": {},
   "outputs": [],
   "source": [
    "def firstIndex(arr, x, curr=0):\n",
    "    if curr == len(arr):\n",
    "        return -1\n",
    "    if arr[curr] == x:\n",
    "        return curr\n",
    "    return firstIndex(arr, x, curr+1)"
   ]
  },
  {
   "cell_type": "code",
   "execution_count": null,
   "id": "0cb8dd44",
   "metadata": {},
   "outputs": [],
   "source": [
    "def firstIndex(lst, target, current_index=0):\n",
    "    if not lst:\n",
    "        return -1\n",
    "    \n",
    "    if lst[0] == target:\n",
    "        return current_index\n",
    "    \n",
    "    return firstIndex(lst[1:], target, current_index + 1)"
   ]
  },
  {
   "cell_type": "markdown",
   "id": "cbc3b0a7",
   "metadata": {},
   "source": [
    "## Last Index of Number - Question"
   ]
  },
  {
   "cell_type": "code",
   "execution_count": null,
   "id": "44a755d5",
   "metadata": {},
   "outputs": [],
   "source": [
    "def lastIndex(arr, x, curr):\n",
    "    if curr == -1:\n",
    "        return -1\n",
    "    if arr[curr] == x:\n",
    "        return curr\n",
    "    return lastIndex(arr, x, curr-1)"
   ]
  },
  {
   "cell_type": "code",
   "execution_count": null,
   "id": "c81823be",
   "metadata": {},
   "outputs": [],
   "source": [
    "def lastIndex(lst, target, current_index=None):\n",
    "    # Base case: if the list is empty, return -1\n",
    "    if not lst:\n",
    "        return -1 if current_index is None else current_index\n",
    "    \n",
    "    # Check if the last element is the target\n",
    "    if lst[-1] == target:\n",
    "        return len(lst) - 1 if current_index is None else current_index\n",
    "    \n",
    "    # Recursive case: search the rest of the list\n",
    "    if current_index is None:\n",
    "        current_index = len(lst) - 1\n",
    "\n",
    "    return lastIndex(lst[:-1], target, current_index - 1)"
   ]
  }
 ],
 "metadata": {
  "kernelspec": {
   "display_name": "Python 3 (ipykernel)",
   "language": "python",
   "name": "python3"
  },
  "language_info": {
   "codemirror_mode": {
    "name": "ipython",
    "version": 3
   },
   "file_extension": ".py",
   "mimetype": "text/x-python",
   "name": "python",
   "nbconvert_exporter": "python",
   "pygments_lexer": "ipython3",
   "version": "3.11.4"
  }
 },
 "nbformat": 4,
 "nbformat_minor": 5
}
