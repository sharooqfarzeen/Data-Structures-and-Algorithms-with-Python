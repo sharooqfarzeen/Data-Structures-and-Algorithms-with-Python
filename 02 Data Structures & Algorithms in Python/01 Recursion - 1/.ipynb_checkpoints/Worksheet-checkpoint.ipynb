{
 "cells": [
  {
   "cell_type": "markdown",
   "id": "971cacf8",
   "metadata": {},
   "source": [
    "## Factorial"
   ]
  },
  {
   "cell_type": "code",
   "execution_count": 6,
   "id": "ff557dff",
   "metadata": {},
   "outputs": [],
   "source": [
    "import time"
   ]
  },
  {
   "cell_type": "code",
   "execution_count": 76,
   "id": "8f6ed216",
   "metadata": {},
   "outputs": [
    {
     "name": "stdout",
     "output_type": "stream",
     "text": [
      "4.085302352905273\n"
     ]
    }
   ],
   "source": [
    "start = time.time()\n",
    "def factorial(n):\n",
    "    if n == 0:\n",
    "        return 1\n",
    "    return n * factorial(n-1)\n",
    "\n",
    "factorial(2973)\n",
    "\n",
    "end = time.time()\n",
    "\n",
    "print((end-start)*1000)"
   ]
  },
  {
   "cell_type": "code",
   "execution_count": 77,
   "id": "0f62a517",
   "metadata": {},
   "outputs": [
    {
     "name": "stdout",
     "output_type": "stream",
     "text": [
      "3.021717071533203\n"
     ]
    }
   ],
   "source": [
    "start = time.time()\n",
    "def fact(n):\n",
    "    fact = 1\n",
    "    for i in range(1, n+1):\n",
    "        fact = fact*i\n",
    "    return fact\n",
    "\n",
    "fact(2973)\n",
    "\n",
    "end = time.time()\n",
    "\n",
    "print((end-start)*1000)"
   ]
  },
  {
   "cell_type": "markdown",
   "id": "677c285e",
   "metadata": {},
   "source": [
    "### Sum of first 'n' natural numbers"
   ]
  },
  {
   "cell_type": "code",
   "execution_count": 51,
   "id": "b30c4b4f",
   "metadata": {},
   "outputs": [
    {
     "data": {
      "text/plain": [
       "10"
      ]
     },
     "execution_count": 51,
     "metadata": {},
     "output_type": "execute_result"
    }
   ],
   "source": [
    "def sum_n(n):\n",
    "    if n == 0:\n",
    "        return 0\n",
    "    return n + sum_n(n-1)\n",
    "sum_n(4)"
   ]
  },
  {
   "cell_type": "markdown",
   "id": "5b23e7b8",
   "metadata": {},
   "source": [
    "### Print first 'n' natural numbers"
   ]
  },
  {
   "cell_type": "code",
   "execution_count": 80,
   "id": "c182f307",
   "metadata": {},
   "outputs": [
    {
     "name": "stdout",
     "output_type": "stream",
     "text": [
      "0\n",
      "1\n",
      "2\n",
      "3\n",
      "4\n",
      "5\n"
     ]
    }
   ],
   "source": [
    "def print_nat(n):\n",
    "    if n == 0:\n",
    "        return\n",
    "    print_nat(n-1)\n",
    "    print(n)\n",
    "print_nat(5)"
   ]
  },
  {
   "cell_type": "markdown",
   "id": "a8659e1c",
   "metadata": {},
   "source": [
    "### Print natural numbers from 'n' to 1"
   ]
  },
  {
   "cell_type": "code",
   "execution_count": 81,
   "id": "76bc86bf",
   "metadata": {},
   "outputs": [
    {
     "name": "stdout",
     "output_type": "stream",
     "text": [
      "5\n",
      "4\n",
      "3\n",
      "2\n",
      "1\n"
     ]
    }
   ],
   "source": [
    "def nTo1(n, c=1):\n",
    "    if c == n:\n",
    "        print(n)\n",
    "        return\n",
    "    nTo1(n, c+1)\n",
    "    print(c)\n",
    "nTo1(5)\n",
    "    \n",
    "    \n",
    "    "
   ]
  },
  {
   "cell_type": "markdown",
   "id": "4dc6137b",
   "metadata": {},
   "source": [
    "### Nth Fibonacci number"
   ]
  },
  {
   "cell_type": "code",
   "execution_count": 89,
   "id": "617d0bed",
   "metadata": {},
   "outputs": [
    {
     "data": {
      "text/plain": [
       "3"
      ]
     },
     "execution_count": 89,
     "metadata": {},
     "output_type": "execute_result"
    }
   ],
   "source": [
    "def fib(n):\n",
    "    if n <=2:\n",
    "        return 1\n",
    "    n_fib = fib(n-1) + fib(n-2)\n",
    "    return n_fib\n",
    "\n",
    "fib(4)"
   ]
  },
  {
   "cell_type": "markdown",
   "id": "a4468894",
   "metadata": {},
   "source": [
    "### Check if list is sorted or not"
   ]
  },
  {
   "cell_type": "raw",
   "id": "cf45c3be",
   "metadata": {},
   "source": [
    "1,2,3,4,5\n",
    "1,2,4,3,5,6"
   ]
  },
  {
   "cell_type": "code",
   "execution_count": 17,
   "id": "589fcd0f",
   "metadata": {},
   "outputs": [
    {
     "ename": "UnboundLocalError",
     "evalue": "cannot access local variable 'flag' where it is not associated with a value",
     "output_type": "error",
     "traceback": [
      "\u001b[1;31m---------------------------------------------------------------------------\u001b[0m",
      "\u001b[1;31mUnboundLocalError\u001b[0m                         Traceback (most recent call last)",
      "Cell \u001b[1;32mIn[17], line 14\u001b[0m\n\u001b[0;32m     10\u001b[0m     \u001b[38;5;28;01melse\u001b[39;00m:\n\u001b[0;32m     11\u001b[0m         \u001b[38;5;28;01mreturn\u001b[39;00m \u001b[38;5;28;01mTrue\u001b[39;00m\n\u001b[1;32m---> 14\u001b[0m \u001b[38;5;28mprint\u001b[39m(isSorted([\u001b[38;5;241m1\u001b[39m,\u001b[38;5;241m2\u001b[39m,\u001b[38;5;241m3\u001b[39m,\u001b[38;5;241m4\u001b[39m,\u001b[38;5;241m5\u001b[39m]))\n",
      "Cell \u001b[1;32mIn[17], line 5\u001b[0m, in \u001b[0;36misSorted\u001b[1;34m(arr, n)\u001b[0m\n\u001b[0;32m      3\u001b[0m \u001b[38;5;28;01mif\u001b[39;00m n \u001b[38;5;241m==\u001b[39m \u001b[38;5;28mlen\u001b[39m(arr)\u001b[38;5;241m-\u001b[39m\u001b[38;5;241m1\u001b[39m:\n\u001b[0;32m      4\u001b[0m     \u001b[38;5;28;01mreturn\u001b[39;00m\n\u001b[1;32m----> 5\u001b[0m isSorted(arr, n\u001b[38;5;241m+\u001b[39m\u001b[38;5;241m1\u001b[39m)\n\u001b[0;32m      6\u001b[0m \u001b[38;5;28;01mif\u001b[39;00m arr[n] \u001b[38;5;241m>\u001b[39m arr[n\u001b[38;5;241m+\u001b[39m\u001b[38;5;241m1\u001b[39m]:\n\u001b[0;32m      7\u001b[0m     flag \u001b[38;5;241m=\u001b[39m \u001b[38;5;28;01mFalse\u001b[39;00m\n",
      "Cell \u001b[1;32mIn[17], line 5\u001b[0m, in \u001b[0;36misSorted\u001b[1;34m(arr, n)\u001b[0m\n\u001b[0;32m      3\u001b[0m \u001b[38;5;28;01mif\u001b[39;00m n \u001b[38;5;241m==\u001b[39m \u001b[38;5;28mlen\u001b[39m(arr)\u001b[38;5;241m-\u001b[39m\u001b[38;5;241m1\u001b[39m:\n\u001b[0;32m      4\u001b[0m     \u001b[38;5;28;01mreturn\u001b[39;00m\n\u001b[1;32m----> 5\u001b[0m isSorted(arr, n\u001b[38;5;241m+\u001b[39m\u001b[38;5;241m1\u001b[39m)\n\u001b[0;32m      6\u001b[0m \u001b[38;5;28;01mif\u001b[39;00m arr[n] \u001b[38;5;241m>\u001b[39m arr[n\u001b[38;5;241m+\u001b[39m\u001b[38;5;241m1\u001b[39m]:\n\u001b[0;32m      7\u001b[0m     flag \u001b[38;5;241m=\u001b[39m \u001b[38;5;28;01mFalse\u001b[39;00m\n",
      "Cell \u001b[1;32mIn[17], line 5\u001b[0m, in \u001b[0;36misSorted\u001b[1;34m(arr, n)\u001b[0m\n\u001b[0;32m      3\u001b[0m \u001b[38;5;28;01mif\u001b[39;00m n \u001b[38;5;241m==\u001b[39m \u001b[38;5;28mlen\u001b[39m(arr)\u001b[38;5;241m-\u001b[39m\u001b[38;5;241m1\u001b[39m:\n\u001b[0;32m      4\u001b[0m     \u001b[38;5;28;01mreturn\u001b[39;00m\n\u001b[1;32m----> 5\u001b[0m isSorted(arr, n\u001b[38;5;241m+\u001b[39m\u001b[38;5;241m1\u001b[39m)\n\u001b[0;32m      6\u001b[0m \u001b[38;5;28;01mif\u001b[39;00m arr[n] \u001b[38;5;241m>\u001b[39m arr[n\u001b[38;5;241m+\u001b[39m\u001b[38;5;241m1\u001b[39m]:\n\u001b[0;32m      7\u001b[0m     flag \u001b[38;5;241m=\u001b[39m \u001b[38;5;28;01mFalse\u001b[39;00m\n",
      "Cell \u001b[1;32mIn[17], line 8\u001b[0m, in \u001b[0;36misSorted\u001b[1;34m(arr, n)\u001b[0m\n\u001b[0;32m      6\u001b[0m \u001b[38;5;28;01mif\u001b[39;00m arr[n] \u001b[38;5;241m>\u001b[39m arr[n\u001b[38;5;241m+\u001b[39m\u001b[38;5;241m1\u001b[39m]:\n\u001b[0;32m      7\u001b[0m     flag \u001b[38;5;241m=\u001b[39m \u001b[38;5;28;01mFalse\u001b[39;00m\n\u001b[1;32m----> 8\u001b[0m \u001b[38;5;28;01mif\u001b[39;00m \u001b[38;5;129;01mnot\u001b[39;00m flag:\n\u001b[0;32m      9\u001b[0m     \u001b[38;5;28;01mreturn\u001b[39;00m \u001b[38;5;28;01mFalse\u001b[39;00m\n\u001b[0;32m     10\u001b[0m \u001b[38;5;28;01melse\u001b[39;00m:\n",
      "\u001b[1;31mUnboundLocalError\u001b[0m: cannot access local variable 'flag' where it is not associated with a value"
     ]
    }
   ],
   "source": [
    "\n",
    "def isSorted(arr, n=0):\n",
    "    if n == len(arr)-1:\n",
    "        return\n",
    "    isSorted(arr, n+1)\n",
    "    if arr[n] > arr[n+1]:\n",
    "        return False\n",
    "\n",
    "print(isSorted([1,2,3,4,5]))\n",
    "    "
   ]
  },
  {
   "cell_type": "code",
   "execution_count": 9,
   "id": "f728952f",
   "metadata": {},
   "outputs": [
    {
     "name": "stdout",
     "output_type": "stream",
     "text": [
      "False\n"
     ]
    }
   ],
   "source": [
    "def isSorted(arr):\n",
    "    if len(arr) == 1 or len(arr) == 0:\n",
    "        return True\n",
    "    if arr[0] > arr[1]:\n",
    "        return False\n",
    "    sorted = isSorted(arr[1:])\n",
    "    return sorted\n",
    "\n",
    "print(isSorted([1,2,3,6,5]))"
   ]
  },
  {
   "cell_type": "markdown",
   "id": "1fa2f35b",
   "metadata": {},
   "source": [
    "## Efficient'er'"
   ]
  },
  {
   "cell_type": "code",
   "execution_count": 12,
   "id": "be39facc",
   "metadata": {},
   "outputs": [
    {
     "name": "stdout",
     "output_type": "stream",
     "text": [
      "False\n"
     ]
    }
   ],
   "source": [
    "def isSorted(arr, curr = 0):\n",
    "    if curr == len(arr) - 1:\n",
    "        return True\n",
    "    if arr[curr] > arr[curr+1]:\n",
    "        return False\n",
    "    flag = isSorted(arr, curr+1)\n",
    "    return flag\n",
    "\n",
    "print(isSorted([10,2,3,4,5]))"
   ]
  }
 ],
 "metadata": {
  "kernelspec": {
   "display_name": "Python 3 (ipykernel)",
   "language": "python",
   "name": "python3"
  },
  "language_info": {
   "codemirror_mode": {
    "name": "ipython",
    "version": 3
   },
   "file_extension": ".py",
   "mimetype": "text/x-python",
   "name": "python",
   "nbconvert_exporter": "python",
   "pygments_lexer": "ipython3",
   "version": "3.11.4"
  }
 },
 "nbformat": 4,
 "nbformat_minor": 5
}
