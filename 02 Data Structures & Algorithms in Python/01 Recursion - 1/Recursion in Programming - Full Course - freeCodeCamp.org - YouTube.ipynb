{
 "cells": [
  {
   "cell_type": "markdown",
   "id": "ee4e3ffe",
   "metadata": {},
   "source": [
    "https://www.youtube.com/watch?v=IJDJ0kBx2LM"
   ]
  },
  {
   "cell_type": "markdown",
   "id": "17ba4bf4",
   "metadata": {},
   "source": [
    "### Reverse a string"
   ]
  },
  {
   "cell_type": "code",
   "execution_count": 2,
   "id": "9b72292f",
   "metadata": {},
   "outputs": [
    {
     "name": "stdout",
     "output_type": "stream",
     "text": [
      "etelpmocni"
     ]
    }
   ],
   "source": [
    "def reverse(string, n=0):\n",
    "    if n == len(string)-1:\n",
    "        print(string[n], end = '')\n",
    "        return\n",
    "    reverse(string,n+1)\n",
    "    print(string[n], end = '')   \n",
    "\n",
    "reverse(\"incomplete\")"
   ]
  },
  {
   "cell_type": "code",
   "execution_count": 3,
   "id": "3330fafc",
   "metadata": {},
   "outputs": [
    {
     "name": "stdout",
     "output_type": "stream",
     "text": [
      "malayalam"
     ]
    }
   ],
   "source": [
    "reverse(\"malayalam\")"
   ]
  },
  {
   "cell_type": "code",
   "execution_count": 4,
   "id": "2fc489a3",
   "metadata": {},
   "outputs": [
    {
     "name": "stdout",
     "output_type": "stream",
     "text": [
      "malayalam malayalam"
     ]
    }
   ],
   "source": [
    "reverse(\"malayalam malayalam\")"
   ]
  },
  {
   "cell_type": "markdown",
   "id": "4d2510b4",
   "metadata": {},
   "source": [
    "### Palindrome Check"
   ]
  },
  {
   "cell_type": "code",
   "execution_count": 12,
   "id": "b01cc03b",
   "metadata": {},
   "outputs": [
    {
     "data": {
      "text/plain": [
       "False"
      ]
     },
     "execution_count": 12,
     "metadata": {},
     "output_type": "execute_result"
    }
   ],
   "source": [
    "def isPalindrome(string):\n",
    "    if len(string)==0 or len(string) == 1:\n",
    "        return True\n",
    "    isPalindrome(string[1:len(string)-1])\n",
    "    if string[0]==string[len(string)-1]:\n",
    "        return True\n",
    "    else:\n",
    "        return False\n",
    "isPalindrome(\"kii\")\n",
    "    "
   ]
  }
 ],
 "metadata": {
  "kernelspec": {
   "display_name": "Python 3 (ipykernel)",
   "language": "python",
   "name": "python3"
  },
  "language_info": {
   "codemirror_mode": {
    "name": "ipython",
    "version": 3
   },
   "file_extension": ".py",
   "mimetype": "text/x-python",
   "name": "python",
   "nbconvert_exporter": "python",
   "pygments_lexer": "ipython3",
   "version": "3.11.4"
  }
 },
 "nbformat": 4,
 "nbformat_minor": 5
}
