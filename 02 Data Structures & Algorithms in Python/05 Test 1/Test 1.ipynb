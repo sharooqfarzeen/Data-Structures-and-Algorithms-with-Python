{
 "cells": [
  {
   "cell_type": "markdown",
   "id": "9765a4f3",
   "metadata": {},
   "source": [
    "## Q1"
   ]
  },
  {
   "cell_type": "markdown",
   "id": "d5a31387",
   "metadata": {},
   "source": [
    "D"
   ]
  },
  {
   "cell_type": "markdown",
   "id": "59efb75a",
   "metadata": {},
   "source": [
    "## Q2"
   ]
  },
  {
   "cell_type": "markdown",
   "id": "1dd30d39",
   "metadata": {},
   "source": [
    "B"
   ]
  },
  {
   "cell_type": "markdown",
   "id": "4855ef71",
   "metadata": {},
   "source": [
    "## Q3"
   ]
  },
  {
   "cell_type": "markdown",
   "id": "26ea593a",
   "metadata": {},
   "source": [
    "A"
   ]
  },
  {
   "cell_type": "markdown",
   "id": "c9f2bff8",
   "metadata": {},
   "source": [
    "## Q4 Does String 's' contain string 't'?"
   ]
  },
  {
   "cell_type": "raw",
   "id": "188e9cdf",
   "metadata": {},
   "source": [
    "strings 's' and 't'.\n",
    "See if chars in 't' occur in 's' in the same order as in 't'\n",
    "\n",
    "eg:\n",
    "s = 'albkcdyefgd'\n",
    "t = 'abcdef'"
   ]
  },
  {
   "cell_type": "code",
   "execution_count": 6,
   "id": "6ae1cc60",
   "metadata": {},
   "outputs": [
    {
     "name": "stdout",
     "output_type": "stream",
     "text": [
      "albkcdyegd\n",
      "abcdef\n",
      "false\n"
     ]
    }
   ],
   "source": [
    "def contains(s,t, curr_s = 0, curr_t = 0):\n",
    "    if curr_t == len(t):\n",
    "        return True\n",
    "    elif curr_s == len(s):\n",
    "        return False\n",
    "    \n",
    "    if s[curr_s] == t[curr_t]:\n",
    "        curr_t += 1\n",
    "    \n",
    "    return contains(s, t, curr_s+1, curr_t)\n",
    "    \n",
    "s = input()\n",
    "t = input()\n",
    "\n",
    "ans = contains(s,t)\n",
    "if ans is True:\n",
    "    print('true')\n",
    "else:\n",
    "    print('false')"
   ]
  },
  {
   "cell_type": "markdown",
   "id": "ba83437b",
   "metadata": {},
   "source": [
    "## Maximum profit on App"
   ]
  },
  {
   "cell_type": "raw",
   "id": "747264ff",
   "metadata": {},
   "source": [
    "n: number of subscribers\n",
    "arr: array of budgets of subscribers\n",
    "maximum_profit = number of subscribers whose budget is above SP * SP\n",
    "\n",
    "eg:\n",
    "4 subscribers\n",
    "with budgets 14, 20, 30, 53\n",
    "price = 14, profit = 14*4\n",
    "price = 20, profit = 20*3\n",
    "price = 30, profit = 30*2\n",
    "price > 30, profit = 53"
   ]
  },
  {
   "cell_type": "code",
   "execution_count": 39,
   "id": "c3ae0761",
   "metadata": {},
   "outputs": [
    {
     "name": "stdout",
     "output_type": "stream",
     "text": [
      "5\n",
      "34 78 90 15 67\n",
      "201\n"
     ]
    }
   ],
   "source": [
    "import numpy as np\n",
    "\n",
    "def maximumProfit(arr):\n",
    "    max_profit = 0\n",
    "    unique = np.unique(arr)\n",
    "    for i in unique:\n",
    "        index\n",
    "        profit = np.shape(arr[arr >= i])[0]*i\n",
    "        if profit > max_profit:\n",
    "            max_profit = profit\n",
    "    return max_profit\n",
    "    \n",
    "                \n",
    "n = int(input())\n",
    "arr = [int(ele) for ele in input().split()]\n",
    "arr = np.array(arr)\n",
    "ans = maximumProfit(arr)\n",
    "print(ans)"
   ]
  },
  {
   "cell_type": "code",
   "execution_count": 42,
   "id": "1dc8d951",
   "metadata": {},
   "outputs": [
    {
     "name": "stdout",
     "output_type": "stream",
     "text": [
      "5\n",
      "34 78 90 15 67\n",
      "201\n"
     ]
    }
   ],
   "source": [
    "import numpy as np\n",
    "\n",
    "def maximumProfit(arr):\n",
    "    max_profit = 0\n",
    "    n = len(arr)\n",
    "    arr.sort()\n",
    "    unique = np.unique(arr)\n",
    "    for i in unique:\n",
    "        index = arr.index(i)\n",
    "        profit = (n-index)*i\n",
    "        if profit > max_profit:\n",
    "            max_profit = profit\n",
    "        \n",
    "    return max_profit\n",
    "                \n",
    "n = int(input())\n",
    "arr = [int(ele) for ele in input().split()]\n",
    "ans = maximumProfit(arr)\n",
    "print(ans)"
   ]
  },
  {
   "cell_type": "code",
   "execution_count": 38,
   "id": "8e54f9c7",
   "metadata": {},
   "outputs": [
    {
     "name": "stdout",
     "output_type": "stream",
     "text": [
      "5\n",
      "34 78 90 15 67\n",
      "201\n"
     ]
    },
    {
     "ename": "AttributeError",
     "evalue": "'numpy.ndarray' object has no attribute 'find'",
     "output_type": "error",
     "traceback": [
      "\u001b[1;31m---------------------------------------------------------------------------\u001b[0m",
      "\u001b[1;31mAttributeError\u001b[0m                            Traceback (most recent call last)",
      "Cell \u001b[1;32mIn[38], line 17\u001b[0m\n\u001b[0;32m     15\u001b[0m ans \u001b[38;5;241m=\u001b[39m maximumProfit(arr)\n\u001b[0;32m     16\u001b[0m \u001b[38;5;28mprint\u001b[39m(ans)\n\u001b[1;32m---> 17\u001b[0m \u001b[38;5;28mprint\u001b[39m(arr\u001b[38;5;241m.\u001b[39mfind(\u001b[38;5;241m34\u001b[39m))\n",
      "\u001b[1;31mAttributeError\u001b[0m: 'numpy.ndarray' object has no attribute 'find'"
     ]
    }
   ],
   "source": [
    "import numpy as np\n",
    "\n",
    "def maximumProfit(arr):\n",
    "    max_profit = 0\n",
    "    for i in arr:\n",
    "        profit = np.shape(arr[arr >= i])[0]*i\n",
    "        if profit > max_profit:\n",
    "            max_profit = profit\n",
    "    return max_profit\n",
    "    \n",
    "                \n",
    "n = int(input())\n",
    "arr = [int(ele) for ele in input().split()]\n",
    "arr = np.array(arr)\n",
    "ans = maximumProfit(arr)\n",
    "print(ans)"
   ]
  },
  {
   "cell_type": "code",
   "execution_count": 25,
   "id": "16e8d490",
   "metadata": {},
   "outputs": [
    {
     "name": "stdout",
     "output_type": "stream",
     "text": [
      "5\n",
      "34 78 90 15 67\n",
      "201\n"
     ]
    }
   ],
   "source": [
    "def maximumProfit(arr):\n",
    "    max_profit = 0\n",
    "    for i in arr:\n",
    "        profit = 0\n",
    "        for j in arr:\n",
    "            if j >= i:\n",
    "                profit += i\n",
    "        if profit > max_profit:\n",
    "            max_profit = profit\n",
    "    return max_profit\n",
    "                \n",
    "n = int(input())\n",
    "arr = [int(ele) for ele in input().split()]\n",
    "ans = maximumProfit(arr)\n",
    "print(ans)"
   ]
  },
  {
   "cell_type": "code",
   "execution_count": 23,
   "id": "f2924809",
   "metadata": {},
   "outputs": [
    {
     "name": "stdout",
     "output_type": "stream",
     "text": [
      "5\n",
      "34 78 90 15 67\n",
      "201\n"
     ]
    }
   ],
   "source": [
    "#recursion limit needs to be set\n",
    "import sys\n",
    "sys.setrecursionlimit(10**4)\n",
    "\n",
    "def calculator(arr, i, curr = 0, profit = 0):\n",
    "    if curr == len(arr):\n",
    "        return 0\n",
    "    \n",
    "    if arr[curr] >= i:\n",
    "        profit = i\n",
    "    else:\n",
    "        profit = 0\n",
    "    \n",
    "    profit += calculator(arr, i, curr+1)\n",
    "    \n",
    "    return profit\n",
    "    \n",
    "    \n",
    "\n",
    "def maximumProfit(arr):\n",
    "    max_profit = 0\n",
    "    for i in arr:\n",
    "        profit = calculator(arr, i)\n",
    "        if profit > max_profit:\n",
    "            max_profit = profit\n",
    "    return max_profit\n",
    "\n",
    "n = int(input())\n",
    "arr = [int(ele) for ele in input().split()]\n",
    "ans = maximumProfit(arr)\n",
    "print(ans)"
   ]
  },
  {
   "cell_type": "markdown",
   "id": "60897832",
   "metadata": {},
   "source": [
    "## Split Array"
   ]
  },
  {
   "cell_type": "code",
   "execution_count": null,
   "id": "3f800e16",
   "metadata": {},
   "outputs": [],
   "source": [
    "def summerUpper(arr, n, start, lsum, rsum):\n",
    "    if start == n:\n",
    "        return lsum == rsum\n",
    "\n",
    "    if arr[start] % 5 == 0:\n",
    "        lsum += arr[start]\n",
    "\n",
    "    elif arr[start] % 3 == 0:\n",
    "        rsum += arr[start]\n",
    "\n",
    "    else:\n",
    "        return (summerUpper(arr, n, start + 1, lsum + arr[start], rsum) or\n",
    "                summerUpper(arr, n, start + 1, lsum, rsum + arr[start]))\n",
    "\n",
    "    return summerUpper(arr, n, start + 1, lsum, rsum)\n",
    "\n",
    "def split(arr, n):\n",
    "    return summerUpper(arr, n, 0, 0, 0)\n",
    "\n",
    "n = int(input())\n",
    "arr = [int(ele) for ele in input().split()]\n",
    "ans = split(arr,n)\n",
    "if ans is True:\n",
    "    print('true')\n",
    "else:\n",
    "    print('false')"
   ]
  },
  {
   "cell_type": "code",
   "execution_count": 54,
   "id": "7fc25a72",
   "metadata": {},
   "outputs": [
    {
     "name": "stdout",
     "output_type": "stream",
     "text": [
      "3\n",
      "1 4 3\n"
     ]
    },
    {
     "ename": "TypeError",
     "evalue": "'int' object is not callable",
     "output_type": "error",
     "traceback": [
      "\u001b[1;31m---------------------------------------------------------------------------\u001b[0m",
      "\u001b[1;31mTypeError\u001b[0m                                 Traceback (most recent call last)",
      "Cell \u001b[1;32mIn[54], line 19\u001b[0m\n\u001b[0;32m     16\u001b[0m         g2\u001b[38;5;241m.\u001b[39mappend(i)\n\u001b[0;32m     17\u001b[0m         arr\u001b[38;5;241m.\u001b[39mremove(i)\n\u001b[1;32m---> 19\u001b[0m difference \u001b[38;5;241m=\u001b[39m \u001b[38;5;28msum\u001b[39m(\u001b[38;5;28mlist\u001b[39m(g1)) \u001b[38;5;241m-\u001b[39m \u001b[38;5;28msum\u001b[39m(\u001b[38;5;28mlist\u001b[39m(g2))\n\u001b[0;32m     21\u001b[0m arr\u001b[38;5;241m.\u001b[39msort()\n\u001b[0;32m     22\u001b[0m sums \u001b[38;5;241m=\u001b[39m \u001b[38;5;241m0\u001b[39m\n",
      "\u001b[1;31mTypeError\u001b[0m: 'int' object is not callable"
     ]
    }
   ],
   "source": [
    "# def split(arr,i,sum):\n",
    "#     #Implement Your Function here\n",
    "#     pass\n",
    "\n",
    "n = input()\n",
    "arr = [int(ele) for ele in input().split()]\n",
    "\n",
    "g1 = []\n",
    "g2 = []\n",
    "\n",
    "for i in arr:\n",
    "    if i%5 == 0:\n",
    "        g1.append(i)\n",
    "        arr.remove(i)\n",
    "    elif i%3 == 0:\n",
    "        g2.append(i)\n",
    "        arr.remove(i)\n",
    "\n",
    "difference = sum(list(g1)) - sum(list(g2))\n",
    "\n",
    "arr.sort()\n",
    "sums = 0\n",
    "ans = False\n",
    "for i in arr:\n",
    "    sums += i\n",
    "    if sums == difference:\n",
    "        ans = True\n",
    "        break\n",
    "if ans is True:\n",
    "    print('true')\n",
    "else:\n",
    "    print('false')"
   ]
  }
 ],
 "metadata": {
  "kernelspec": {
   "display_name": "Python 3 (ipykernel)",
   "language": "python",
   "name": "python3"
  },
  "language_info": {
   "codemirror_mode": {
    "name": "ipython",
    "version": 3
   },
   "file_extension": ".py",
   "mimetype": "text/x-python",
   "name": "python",
   "nbconvert_exporter": "python",
   "pygments_lexer": "ipython3",
   "version": "3.11.4"
  }
 },
 "nbformat": 4,
 "nbformat_minor": 5
}
