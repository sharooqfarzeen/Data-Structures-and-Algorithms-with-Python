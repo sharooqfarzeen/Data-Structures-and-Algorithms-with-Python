{
 "cells": [
  {
   "cell_type": "markdown",
   "id": "71478557",
   "metadata": {},
   "source": [
    "## Power of a Number"
   ]
  },
  {
   "cell_type": "code",
   "execution_count": 14,
   "id": "5212f206",
   "metadata": {},
   "outputs": [
    {
     "name": "stdout",
     "output_type": "stream",
     "text": [
      "4 2\n",
      "16\n"
     ]
    }
   ],
   "source": [
    "def power(x, n):\n",
    "    if n == 0:\n",
    "        return 1\n",
    "    if n == 1:\n",
    "        return x\n",
    "    if n % 2 == 0:\n",
    "        small_power = power(x, n/2)\n",
    "    else:\n",
    "        small_power = power(x, n//2)\n",
    "    return small_power * small_power\n",
    "\n",
    "# Main\n",
    "from sys import setrecursionlimit\n",
    "setrecursionlimit(11000)\n",
    "x, n=list(int(i) for i in input().strip().split(' '))\n",
    "print(power(x, n))"
   ]
  },
  {
   "cell_type": "code",
   "execution_count": 17,
   "id": "3c6e4ada",
   "metadata": {},
   "outputs": [
    {
     "name": "stdout",
     "output_type": "stream",
     "text": [
      "2 3\n",
      "8\n"
     ]
    }
   ],
   "source": [
    "def power(x,n):\n",
    "    if n == 0:\n",
    "        return 1\n",
    "    return x * power(x, n-1)\n",
    "\n",
    "x, n = tuple([int(i) for i in input().split()])\n",
    "print(power(x,n))"
   ]
  },
  {
   "cell_type": "markdown",
   "id": "55b5f9a4",
   "metadata": {},
   "source": [
    "## Array Intersection"
   ]
  },
  {
   "cell_type": "code",
   "execution_count": 18,
   "id": "478c021a",
   "metadata": {},
   "outputs": [],
   "source": [
    "from sys import stdin\n",
    "\n",
    "\n",
    "def intersection(arr1, arr2, n, m) :\n",
    "    s = []\n",
    "    for i in arr1:\n",
    "        if i in arr2:\n",
    "            s.append(i)\n",
    "            arr2.remove(i)\n",
    "    \n",
    "    s.sort()\n",
    "    print(*s)\n",
    "\n",
    "# Taking input using fast I/O method\n",
    "def takeInput() :\n",
    "    n = int(stdin.readline().strip())\n",
    "    \n",
    "    if n == 0 :\n",
    "    \treturn list(), 0\n",
    "\n",
    "    arr = list(map(int, stdin.readline().strip().split(\" \")))\n",
    "    return arr, n\n",
    "\n",
    "\n",
    "#main\n",
    "t = int(stdin.readline().strip())\n",
    "\n",
    "while t > 0 :\n",
    "\n",
    "    arr1, n = takeInput()\n",
    "    arr2, m = takeInput()\n",
    "    intersection(arr1, arr2, n, m)\n",
    "    print()\n",
    "\n",
    "    t -= 1"
   ]
  },
  {
   "cell_type": "markdown",
   "id": "49e646ec",
   "metadata": {},
   "source": [
    "## Array Equilibrium Index"
   ]
  },
  {
   "cell_type": "code",
   "execution_count": 21,
   "id": "a46d2009",
   "metadata": {},
   "outputs": [
    {
     "data": {
      "text/plain": [
       "2"
      ]
     },
     "execution_count": 21,
     "metadata": {},
     "output_type": "execute_result"
    }
   ],
   "source": [
    "from sys import stdin\n",
    "\n",
    "def arrayEquilibriumIndex(arr, n) :\n",
    "    lsum = 0\n",
    "    rsum = sum(arr[1:])\n",
    "    if n == 0:\n",
    "        return -1\n",
    "    if rsum == 0:\n",
    "        return 0\n",
    "    for i in range(1,n):\n",
    "        lsum += arr[i-1]\n",
    "        rsum -= arr[i]\n",
    "        if lsum == rsum:\n",
    "            return i\n",
    "    return -1\n",
    "        \n",
    "\n",
    "#Taking input using fast I/O method\n",
    "def takeInput() :\n",
    "    n = int(stdin.readline().strip())\n",
    "    if n == 0 :\n",
    "        return list(), 0\n",
    "\n",
    "    arr = list(map(int, stdin.readline().strip().split(\" \")))\n",
    "    return arr, n\n",
    "\n",
    "\n",
    "def printList(arr, n) : \n",
    "    for i in range(n) :\n",
    "        print(arr[i], end = \" \")\n",
    "    print()\n",
    "\n",
    "\n",
    "#main\n",
    "t = int(stdin.readline().strip())\n",
    "\n",
    "while t > 0 :\n",
    "    \n",
    "    arr, n = takeInput()\n",
    "    print(arrayEquilibriumIndex(arr, n))\n",
    "\n",
    "    t-= 1"
   ]
  },
  {
   "cell_type": "code",
   "execution_count": null,
   "id": "844b8410",
   "metadata": {},
   "outputs": [],
   "source": []
  },
  {
   "cell_type": "code",
   "execution_count": null,
   "id": "f65316a2",
   "metadata": {},
   "outputs": [],
   "source": []
  },
  {
   "cell_type": "code",
   "execution_count": null,
   "id": "2afb67c5",
   "metadata": {},
   "outputs": [],
   "source": []
  },
  {
   "cell_type": "code",
   "execution_count": null,
   "id": "5c634d32",
   "metadata": {},
   "outputs": [],
   "source": []
  },
  {
   "cell_type": "code",
   "execution_count": null,
   "id": "6eaeebbd",
   "metadata": {},
   "outputs": [],
   "source": []
  },
  {
   "cell_type": "code",
   "execution_count": null,
   "id": "79dc53e9",
   "metadata": {},
   "outputs": [],
   "source": []
  },
  {
   "cell_type": "code",
   "execution_count": null,
   "id": "d9d95736",
   "metadata": {},
   "outputs": [],
   "source": []
  },
  {
   "cell_type": "code",
   "execution_count": null,
   "id": "3536c16b",
   "metadata": {},
   "outputs": [],
   "source": []
  },
  {
   "cell_type": "code",
   "execution_count": null,
   "id": "8684e906",
   "metadata": {},
   "outputs": [],
   "source": []
  },
  {
   "cell_type": "code",
   "execution_count": null,
   "id": "a355f7cb",
   "metadata": {},
   "outputs": [],
   "source": []
  },
  {
   "cell_type": "code",
   "execution_count": null,
   "id": "b92f7255",
   "metadata": {},
   "outputs": [],
   "source": []
  }
 ],
 "metadata": {
  "kernelspec": {
   "display_name": "Python 3 (ipykernel)",
   "language": "python",
   "name": "python3"
  },
  "language_info": {
   "codemirror_mode": {
    "name": "ipython",
    "version": 3
   },
   "file_extension": ".py",
   "mimetype": "text/x-python",
   "name": "python",
   "nbconvert_exporter": "python",
   "pygments_lexer": "ipython3",
   "version": "3.11.4"
  }
 },
 "nbformat": 4,
 "nbformat_minor": 5
}
